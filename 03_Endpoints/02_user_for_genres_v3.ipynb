{
 "cells": [
  {
   "cell_type": "markdown",
   "metadata": {},
   "source": [
    "## Carga de data"
   ]
  },
  {
   "cell_type": "code",
   "execution_count": 2,
   "metadata": {},
   "outputs": [],
   "source": [
    "import pandas as pd\n",
    "import os\n",
    "\n",
    "path_user = os.path.join('..','data','clear','users_items.csv.gz')\n",
    "path_steam_games = os.path.join('..','data','clear','steam_games.csv.gz')"
   ]
  },
  {
   "cell_type": "code",
   "execution_count": 3,
   "metadata": {},
   "outputs": [],
   "source": [
    "## Cargamos la data necesaria para solucionar este problema.\n",
    "steam_colums = ['id','genres','release_year']\n",
    "steam_games = pd.read_csv(path_steam_games, usecols = steam_colums)\n",
    "\n",
    "user_item_cols = ['item_id','user_id','playtime_forever']\n",
    "user_items = pd.read_csv(path_user, usecols = user_item_cols)\n",
    "\n",
    "\n",
    "## renombraremos la columna id por steam_id\n",
    "steam_games.rename(columns={'id':'item_id'}, inplace=True)\n"
   ]
  },
  {
   "cell_type": "code",
   "execution_count": 4,
   "metadata": {},
   "outputs": [
    {
     "data": {
      "text/html": [
       "<div>\n",
       "<style scoped>\n",
       "    .dataframe tbody tr th:only-of-type {\n",
       "        vertical-align: middle;\n",
       "    }\n",
       "\n",
       "    .dataframe tbody tr th {\n",
       "        vertical-align: top;\n",
       "    }\n",
       "\n",
       "    .dataframe thead th {\n",
       "        text-align: right;\n",
       "    }\n",
       "</style>\n",
       "<table border=\"1\" class=\"dataframe\">\n",
       "  <thead>\n",
       "    <tr style=\"text-align: right;\">\n",
       "      <th></th>\n",
       "      <th>user_id</th>\n",
       "      <th>playtime_forever</th>\n",
       "      <th>item_id</th>\n",
       "    </tr>\n",
       "  </thead>\n",
       "  <tbody>\n",
       "    <tr>\n",
       "      <th>0</th>\n",
       "      <td>76561197970982479</td>\n",
       "      <td>0.10</td>\n",
       "      <td>10.0</td>\n",
       "    </tr>\n",
       "    <tr>\n",
       "      <th>1</th>\n",
       "      <td>76561197970982479</td>\n",
       "      <td>0.00</td>\n",
       "      <td>20.0</td>\n",
       "    </tr>\n",
       "    <tr>\n",
       "      <th>2</th>\n",
       "      <td>76561197970982479</td>\n",
       "      <td>0.12</td>\n",
       "      <td>30.0</td>\n",
       "    </tr>\n",
       "    <tr>\n",
       "      <th>3</th>\n",
       "      <td>76561197970982479</td>\n",
       "      <td>0.00</td>\n",
       "      <td>40.0</td>\n",
       "    </tr>\n",
       "    <tr>\n",
       "      <th>4</th>\n",
       "      <td>76561197970982479</td>\n",
       "      <td>0.00</td>\n",
       "      <td>50.0</td>\n",
       "    </tr>\n",
       "    <tr>\n",
       "      <th>...</th>\n",
       "      <td>...</td>\n",
       "      <td>...</td>\n",
       "      <td>...</td>\n",
       "    </tr>\n",
       "    <tr>\n",
       "      <th>5110791</th>\n",
       "      <td>76561198329548331</td>\n",
       "      <td>0.00</td>\n",
       "      <td>373330.0</td>\n",
       "    </tr>\n",
       "    <tr>\n",
       "      <th>5110792</th>\n",
       "      <td>76561198329548331</td>\n",
       "      <td>0.05</td>\n",
       "      <td>388490.0</td>\n",
       "    </tr>\n",
       "    <tr>\n",
       "      <th>5110793</th>\n",
       "      <td>76561198329548331</td>\n",
       "      <td>0.07</td>\n",
       "      <td>521570.0</td>\n",
       "    </tr>\n",
       "    <tr>\n",
       "      <th>5110794</th>\n",
       "      <td>76561198329548331</td>\n",
       "      <td>0.05</td>\n",
       "      <td>519140.0</td>\n",
       "    </tr>\n",
       "    <tr>\n",
       "      <th>5110795</th>\n",
       "      <td>edward_tremethick</td>\n",
       "      <td>NaN</td>\n",
       "      <td>NaN</td>\n",
       "    </tr>\n",
       "  </tbody>\n",
       "</table>\n",
       "<p>5110796 rows × 3 columns</p>\n",
       "</div>"
      ],
      "text/plain": [
       "                   user_id  playtime_forever   item_id\n",
       "0        76561197970982479              0.10      10.0\n",
       "1        76561197970982479              0.00      20.0\n",
       "2        76561197970982479              0.12      30.0\n",
       "3        76561197970982479              0.00      40.0\n",
       "4        76561197970982479              0.00      50.0\n",
       "...                    ...               ...       ...\n",
       "5110791  76561198329548331              0.00  373330.0\n",
       "5110792  76561198329548331              0.05  388490.0\n",
       "5110793  76561198329548331              0.07  521570.0\n",
       "5110794  76561198329548331              0.05  519140.0\n",
       "5110795  edward_tremethick               NaN       NaN\n",
       "\n",
       "[5110796 rows x 3 columns]"
      ]
     },
     "execution_count": 4,
     "metadata": {},
     "output_type": "execute_result"
    }
   ],
   "source": [
    "user_items"
   ]
  },
  {
   "cell_type": "code",
   "execution_count": 193,
   "metadata": {},
   "outputs": [],
   "source": [
    "steam_users = steam_games.merge(user_items,\n",
    "                              on='item_id',\n",
    "                              how='inner')"
   ]
  },
  {
   "cell_type": "code",
   "execution_count": 199,
   "metadata": {},
   "outputs": [],
   "source": [
    "steam_users = steam_users[steam_users['playtime_forever'] > 0 ]"
   ]
  },
  {
   "cell_type": "code",
   "execution_count": 200,
   "metadata": {},
   "outputs": [],
   "source": [
    "genres_unique =  steam_games['genres'].str.split(', ').explode().unique()"
   ]
  },
  {
   "cell_type": "code",
   "execution_count": 70,
   "metadata": {},
   "outputs": [
    {
     "data": {
      "text/plain": [
       "Indie               16783\n",
       "Action              12320\n",
       "Casual               9471\n",
       "Adventure            9344\n",
       "Simulation           7508\n",
       "Strategy             7289\n",
       "RPG                  5552\n",
       "Singleplayer         4268\n",
       "Multiplayer          2283\n",
       "Great Soundtrack     2185\n",
       "Name: genres, dtype: int64"
      ]
     },
     "execution_count": 70,
     "metadata": {},
     "output_type": "execute_result"
    }
   ],
   "source": [
    "steam_games['genres'].str.split(', ').explode().value_counts().head(10)"
   ]
  },
  {
   "cell_type": "code",
   "execution_count": 106,
   "metadata": {},
   "outputs": [
    {
     "data": {
      "text/plain": [
       "339"
      ]
     },
     "execution_count": 106,
     "metadata": {},
     "output_type": "execute_result"
    }
   ],
   "source": [
    "len(genres_unique)"
   ]
  },
  {
   "cell_type": "code",
   "execution_count": 163,
   "metadata": {},
   "outputs": [],
   "source": [
    "genres = 'Action'\n",
    "\n",
    "user_max = steam_users[steam_users['genres'].str.contains(genres)][['user_id','playtime_forever']].groupby('user_id').sum().nlargest(1,'playtime_forever').index"
   ]
  },
  {
   "cell_type": "code",
   "execution_count": 161,
   "metadata": {},
   "outputs": [
    {
     "data": {
      "text/plain": [
       "array(['Sp3ctre'], dtype=object)"
      ]
     },
     "execution_count": 161,
     "metadata": {},
     "output_type": "execute_result"
    }
   ],
   "source": [
    "user_max"
   ]
  },
  {
   "cell_type": "code",
   "execution_count": 73,
   "metadata": {},
   "outputs": [],
   "source": [
    "play_to_years = steam_users[(steam_users['user_id'] == user_max)][['release_year','playtime_forever']].groupby('release_year').sum()"
   ]
  },
  {
   "cell_type": "code",
   "execution_count": 166,
   "metadata": {},
   "outputs": [],
   "source": [
    "play_to_years.to_dict()\n",
    "\n",
    "def user_max_time(genres):\n",
    "  try:\n",
    "    user_max = steam_users[steam_users['genres'].str.contains(genres)][['user_id','playtime_forever']].groupby('user_id').sum().nlargest(1,'playtime_forever').index[0]\n",
    "    print(genres)\n",
    "    return(user_max)\n",
    "  except IndexError:\n",
    "    return('Nadie')\n",
    "\n",
    "\n",
    "def max_time_for_year(user):\n",
    "  if user != 'Nadie':\n",
    "    return(steam_users[(steam_users['user_id'] == user)][['release_year','playtime_forever']].groupby('release_year').sum().to_dict())\n",
    "  "
   ]
  },
  {
   "cell_type": "code",
   "execution_count": null,
   "metadata": {},
   "outputs": [],
   "source": []
  },
  {
   "cell_type": "code",
   "execution_count": 202,
   "metadata": {},
   "outputs": [],
   "source": [
    "tabla_1 = pd.DataFrame(index=genres_unique,columns=['nombre'])"
   ]
  },
  {
   "cell_type": "code",
   "execution_count": 203,
   "metadata": {},
   "outputs": [],
   "source": [
    "tabla_1 = tabla_1.reset_index()"
   ]
  },
  {
   "cell_type": "code",
   "execution_count": 204,
   "metadata": {},
   "outputs": [
    {
     "data": {
      "text/html": [
       "<div>\n",
       "<style scoped>\n",
       "    .dataframe tbody tr th:only-of-type {\n",
       "        vertical-align: middle;\n",
       "    }\n",
       "\n",
       "    .dataframe tbody tr th {\n",
       "        vertical-align: top;\n",
       "    }\n",
       "\n",
       "    .dataframe thead th {\n",
       "        text-align: right;\n",
       "    }\n",
       "</style>\n",
       "<table border=\"1\" class=\"dataframe\">\n",
       "  <thead>\n",
       "    <tr style=\"text-align: right;\">\n",
       "      <th></th>\n",
       "      <th>index</th>\n",
       "      <th>nombre</th>\n",
       "    </tr>\n",
       "  </thead>\n",
       "  <tbody>\n",
       "    <tr>\n",
       "      <th>0</th>\n",
       "      <td>Strategy</td>\n",
       "      <td>NaN</td>\n",
       "    </tr>\n",
       "    <tr>\n",
       "      <th>1</th>\n",
       "      <td>Action</td>\n",
       "      <td>NaN</td>\n",
       "    </tr>\n",
       "    <tr>\n",
       "      <th>2</th>\n",
       "      <td>Indie</td>\n",
       "      <td>NaN</td>\n",
       "    </tr>\n",
       "    <tr>\n",
       "      <th>3</th>\n",
       "      <td>Casual</td>\n",
       "      <td>NaN</td>\n",
       "    </tr>\n",
       "    <tr>\n",
       "      <th>4</th>\n",
       "      <td>Simulation</td>\n",
       "      <td>NaN</td>\n",
       "    </tr>\n",
       "    <tr>\n",
       "      <th>...</th>\n",
       "      <td>...</td>\n",
       "      <td>...</td>\n",
       "    </tr>\n",
       "    <tr>\n",
       "      <th>334</th>\n",
       "      <td>Faith</td>\n",
       "      <td>NaN</td>\n",
       "    </tr>\n",
       "    <tr>\n",
       "      <th>335</th>\n",
       "      <td>Tutorial</td>\n",
       "      <td>NaN</td>\n",
       "    </tr>\n",
       "    <tr>\n",
       "      <th>336</th>\n",
       "      <td>Steam Machine</td>\n",
       "      <td>NaN</td>\n",
       "    </tr>\n",
       "    <tr>\n",
       "      <th>337</th>\n",
       "      <td>Bikes</td>\n",
       "      <td>NaN</td>\n",
       "    </tr>\n",
       "    <tr>\n",
       "      <th>338</th>\n",
       "      <td>Hardware</td>\n",
       "      <td>NaN</td>\n",
       "    </tr>\n",
       "  </tbody>\n",
       "</table>\n",
       "<p>339 rows × 2 columns</p>\n",
       "</div>"
      ],
      "text/plain": [
       "             index nombre\n",
       "0         Strategy    NaN\n",
       "1           Action    NaN\n",
       "2            Indie    NaN\n",
       "3           Casual    NaN\n",
       "4       Simulation    NaN\n",
       "..             ...    ...\n",
       "334          Faith    NaN\n",
       "335       Tutorial    NaN\n",
       "336  Steam Machine    NaN\n",
       "337          Bikes    NaN\n",
       "338       Hardware    NaN\n",
       "\n",
       "[339 rows x 2 columns]"
      ]
     },
     "execution_count": 204,
     "metadata": {},
     "output_type": "execute_result"
    }
   ],
   "source": [
    "tabla_1"
   ]
  },
  {
   "cell_type": "code",
   "execution_count": null,
   "metadata": {},
   "outputs": [],
   "source": [
    "\n",
    "tabla_1['nombre'] = tabla_1['index'].apply(user_max_time)\n"
   ]
  },
  {
   "cell_type": "code",
   "execution_count": 213,
   "metadata": {},
   "outputs": [],
   "source": [
    "tabla_1.to_csv('02_nombres__max.csv.gz')"
   ]
  },
  {
   "cell_type": "code",
   "execution_count": 220,
   "metadata": {},
   "outputs": [],
   "source": [
    "tabla_1['year'] = tabla_1['nombre'].apply(max_time_for_year)"
   ]
  },
  {
   "cell_type": "code",
   "execution_count": 223,
   "metadata": {},
   "outputs": [],
   "source": [
    "tabla_1[tabla_1['nombre']!='Nadie'].to_csv('02_endpoint_full.csv.gz')"
   ]
  },
  {
   "cell_type": "code",
   "execution_count": 225,
   "metadata": {},
   "outputs": [
    {
     "data": {
      "text/html": [
       "<div>\n",
       "<style scoped>\n",
       "    .dataframe tbody tr th:only-of-type {\n",
       "        vertical-align: middle;\n",
       "    }\n",
       "\n",
       "    .dataframe tbody tr th {\n",
       "        vertical-align: top;\n",
       "    }\n",
       "\n",
       "    .dataframe thead th {\n",
       "        text-align: right;\n",
       "    }\n",
       "</style>\n",
       "<table border=\"1\" class=\"dataframe\">\n",
       "  <thead>\n",
       "    <tr style=\"text-align: right;\">\n",
       "      <th></th>\n",
       "      <th>index</th>\n",
       "      <th>nombre</th>\n",
       "      <th>year</th>\n",
       "    </tr>\n",
       "  </thead>\n",
       "  <tbody>\n",
       "    <tr>\n",
       "      <th>0</th>\n",
       "      <td>Strategy</td>\n",
       "      <td>shinomegami</td>\n",
       "      <td>{'playtime_forever': {1988: 2.27, 1993: 513.71...</td>\n",
       "    </tr>\n",
       "    <tr>\n",
       "      <th>1</th>\n",
       "      <td>Action</td>\n",
       "      <td>Sp3ctre</td>\n",
       "      <td>{'playtime_forever': {1995: 3.62, 1997: 4.71, ...</td>\n",
       "    </tr>\n",
       "    <tr>\n",
       "      <th>2</th>\n",
       "      <td>Indie</td>\n",
       "      <td>REBAS_AS_F-T</td>\n",
       "      <td>{'playtime_forever': {1998: 0.02, 1999: 3.75, ...</td>\n",
       "    </tr>\n",
       "    <tr>\n",
       "      <th>3</th>\n",
       "      <td>Casual</td>\n",
       "      <td>REBAS_AS_F-T</td>\n",
       "      <td>{'playtime_forever': {1998: 0.02, 1999: 3.75, ...</td>\n",
       "    </tr>\n",
       "    <tr>\n",
       "      <th>4</th>\n",
       "      <td>Simulation</td>\n",
       "      <td>shinomegami</td>\n",
       "      <td>{'playtime_forever': {1988: 2.27, 1993: 513.71...</td>\n",
       "    </tr>\n",
       "    <tr>\n",
       "      <th>...</th>\n",
       "      <td>...</td>\n",
       "      <td>...</td>\n",
       "      <td>...</td>\n",
       "    </tr>\n",
       "    <tr>\n",
       "      <th>334</th>\n",
       "      <td>Faith</td>\n",
       "      <td>Nadie</td>\n",
       "      <td>None</td>\n",
       "    </tr>\n",
       "    <tr>\n",
       "      <th>335</th>\n",
       "      <td>Tutorial</td>\n",
       "      <td>Nadie</td>\n",
       "      <td>None</td>\n",
       "    </tr>\n",
       "    <tr>\n",
       "      <th>336</th>\n",
       "      <td>Steam Machine</td>\n",
       "      <td>REBAS_AS_F-T</td>\n",
       "      <td>{'playtime_forever': {1998: 0.02, 1999: 3.75, ...</td>\n",
       "    </tr>\n",
       "    <tr>\n",
       "      <th>337</th>\n",
       "      <td>Bikes</td>\n",
       "      <td>Nadie</td>\n",
       "      <td>None</td>\n",
       "    </tr>\n",
       "    <tr>\n",
       "      <th>338</th>\n",
       "      <td>Hardware</td>\n",
       "      <td>76561198075908315</td>\n",
       "      <td>{'playtime_forever': {2003: 7.47, 2004: 20.35,...</td>\n",
       "    </tr>\n",
       "  </tbody>\n",
       "</table>\n",
       "<p>339 rows × 3 columns</p>\n",
       "</div>"
      ],
      "text/plain": [
       "             index             nombre  \\\n",
       "0         Strategy        shinomegami   \n",
       "1           Action            Sp3ctre   \n",
       "2            Indie       REBAS_AS_F-T   \n",
       "3           Casual       REBAS_AS_F-T   \n",
       "4       Simulation        shinomegami   \n",
       "..             ...                ...   \n",
       "334          Faith              Nadie   \n",
       "335       Tutorial              Nadie   \n",
       "336  Steam Machine       REBAS_AS_F-T   \n",
       "337          Bikes              Nadie   \n",
       "338       Hardware  76561198075908315   \n",
       "\n",
       "                                                  year  \n",
       "0    {'playtime_forever': {1988: 2.27, 1993: 513.71...  \n",
       "1    {'playtime_forever': {1995: 3.62, 1997: 4.71, ...  \n",
       "2    {'playtime_forever': {1998: 0.02, 1999: 3.75, ...  \n",
       "3    {'playtime_forever': {1998: 0.02, 1999: 3.75, ...  \n",
       "4    {'playtime_forever': {1988: 2.27, 1993: 513.71...  \n",
       "..                                                 ...  \n",
       "334                                               None  \n",
       "335                                               None  \n",
       "336  {'playtime_forever': {1998: 0.02, 1999: 3.75, ...  \n",
       "337                                               None  \n",
       "338  {'playtime_forever': {2003: 7.47, 2004: 20.35,...  \n",
       "\n",
       "[339 rows x 3 columns]"
      ]
     },
     "execution_count": 225,
     "metadata": {},
     "output_type": "execute_result"
    }
   ],
   "source": [
    "tabla_1"
   ]
  },
  {
   "cell_type": "code",
   "execution_count": 269,
   "metadata": {},
   "outputs": [],
   "source": [
    "import ast\n",
    "def endpoint6(genres):\n",
    "  \n",
    "  consulta_final = pd.read_csv('02_endpoint_full.csv.gz',index_col=['index'])\n",
    "    \n",
    "  user_max = consulta_final.loc['Action'].nombre\n",
    "  \n",
    "  diccionario = ast.literal_eval(consulta_final.loc['Action'].year)\n",
    "\n",
    "  diccionario['Horas_Jugadas']  = diccionario.pop('playtime_forever')\n",
    "\n",
    "  return(f\"Usuario con más horas jugadas para Género {genres} : {user_max},\\n Horas jugadas:{[str(diccionario)]}\")"
   ]
  },
  {
   "cell_type": "code",
   "execution_count": 270,
   "metadata": {},
   "outputs": [
    {
     "data": {
      "text/plain": [
       "'Usuario con más horas jugadas para Género Action : Sp3ctre,\\n Horas jugadas:[\"{\\'Horas_Jugadas\\': {1995: 3.62, 1997: 4.71, 1999: 10.5, 2000: 1177.4, 2001: 4.17, 2002: 5.890000000000001, 2003: 129.06, 2004: 2134.04, 2005: 355.65, 2006: 1536.3999999999999, 2007: 1879.91, 2008: 170.28, 2009: 1818.46, 2010: 1385.72, 2011: 2591.25, 2012: 6404.280000000001, 2013: 3452.12, 2014: 2285.46, 2015: 8579.77, 2016: 778.46, 2017: 722.12}}\"]'"
      ]
     },
     "execution_count": 270,
     "metadata": {},
     "output_type": "execute_result"
    }
   ],
   "source": [
    "endpoint6('Action')"
   ]
  }
 ],
 "metadata": {
  "kernelspec": {
   "display_name": "Python 3",
   "language": "python",
   "name": "python3"
  },
  "language_info": {
   "codemirror_mode": {
    "name": "ipython",
    "version": 3
   },
   "file_extension": ".py",
   "mimetype": "text/x-python",
   "name": "python",
   "nbconvert_exporter": "python",
   "pygments_lexer": "ipython3",
   "version": "3.10.12"
  }
 },
 "nbformat": 4,
 "nbformat_minor": 2
}
