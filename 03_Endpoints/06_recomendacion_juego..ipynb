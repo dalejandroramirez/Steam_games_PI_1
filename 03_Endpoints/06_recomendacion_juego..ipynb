{
 "cells": [
  {
   "cell_type": "markdown",
   "metadata": {},
   "source": [
    "# Recomendación Juego\n"
   ]
  },
  {
   "cell_type": "code",
   "execution_count": 60,
   "metadata": {},
   "outputs": [],
   "source": [
    "import pandas as pd\n",
    "import os\n",
    "\n",
    "path_steam_games = os.path.join('..','data','clear','steam_games.csv.gz')\n"
   ]
  },
  {
   "cell_type": "markdown",
   "metadata": {},
   "source": [
    "## Carga de data"
   ]
  },
  {
   "cell_type": "code",
   "execution_count": 61,
   "metadata": {},
   "outputs": [],
   "source": [
    "## Cargamos la data necesaria para solucionar este problema.\n",
    "\n",
    "steam_colums = ['id','app_name','publisher','genres','price','developer','release_year']\n",
    "\n",
    "steam_games = pd.read_csv(path_steam_games,usecols=steam_colums)\n",
    "\n",
    "## renombraremos la columna id por steam_id\n",
    "steam_games.rename(columns={'id':'steam_id'}, inplace=True)"
   ]
  },
  {
   "cell_type": "markdown",
   "metadata": {},
   "source": [
    "## Seleccion de las caracteristicas más importantes de un juego"
   ]
  },
  {
   "cell_type": "code",
   "execution_count": 62,
   "metadata": {},
   "outputs": [],
   "source": [
    "from collections import Counter\n",
    "from itertools import chain\n",
    "\n",
    "def select_n_best(caracteristica,n=10):\n",
    "    \n",
    "    # Dividir las palabras en cada fila y contar la frecuencia de cada palabra\n",
    "    conteo_palabras = Counter(chain.from_iterable(caracteristica.str.split(', ')))\n",
    "\n",
    "    # Obtener las n palabras más comunes\n",
    "    palabras_mas_comunes = conteo_palabras.most_common(n)\n",
    "\n",
    "    print(\"Palabras más comunes:\")\n",
    "    for palabra, frecuencia in palabras_mas_comunes:\n",
    "        print(f\"{palabra}: {frecuencia}\")\n",
    "    \n",
    "    return([palabras_mas_comunes[i][0] for i in range(n)])"
   ]
  },
  {
   "cell_type": "code",
   "execution_count": 63,
   "metadata": {},
   "outputs": [
    {
     "data": {
      "text/plain": [
       "29975"
      ]
     },
     "execution_count": 63,
     "metadata": {},
     "output_type": "execute_result"
    }
   ],
   "source": [
    "len(steam_games['steam_id'].unique())"
   ]
  },
  {
   "cell_type": "code",
   "execution_count": 64,
   "metadata": {},
   "outputs": [
    {
     "name": "stdout",
     "output_type": "stream",
     "text": [
      "Palabras más comunes:\n",
      "Indie: 16783\n",
      "Action: 12320\n",
      "Casual: 9471\n",
      "Adventure: 9344\n",
      "Simulation: 7508\n",
      "Strategy: 7289\n",
      "RPG: 5552\n",
      "Singleplayer: 4268\n",
      "Multiplayer: 2283\n",
      "Great Soundtrack: 2185\n",
      "Free to Play: 2183\n",
      "Puzzle: 2075\n",
      "2D: 1915\n",
      "Atmospheric: 1901\n",
      "Early Access: 1839\n",
      "VR: 1707\n",
      "Sports: 1530\n",
      "Platformer: 1420\n",
      "Story Rich: 1417\n",
      "Sci-fi: 1354\n",
      "Fantasy: 1338\n",
      "Difficult: 1289\n",
      "Open World: 1273\n",
      "Horror: 1269\n",
      "Pixel Graphics: 1218\n",
      "Racing: 1188\n",
      "Shooter: 1178\n",
      "Co-op: 1174\n",
      "Massively Multiplayer: 1168\n",
      "Female Protagonist: 1153\n",
      "Anime: 1138\n",
      "Funny: 1089\n",
      "First-Person: 1037\n",
      "Arcade: 958\n",
      "Retro: 943\n",
      "Sandbox: 937\n",
      "Turn-Based: 932\n",
      "FPS: 928\n",
      "Comedy: 873\n",
      "Point & Click: 855\n"
     ]
    },
    {
     "data": {
      "text/plain": [
       "0        Lost summoner kitty, Kotoshiro, Strategy, Acti...\n",
       "1        Ironbound, Secret level srl, Strategy, Indie, ...\n",
       "2        Real pool 3d - poolians, Poolians.com, Simulat...\n",
       "3                 弹炸人2222, 彼岸领域, Action, Adventure, Casual\n",
       "4        Log challenge, Otros, Action, Indie, Casual, S...\n",
       "                               ...                        \n",
       "29970    Colony on mars, Nikita \"ghost_rus\", Strategy, ...\n",
       "29971    Logistical: south africa, Sacada, Strategy, In...\n",
       "29972    Russian roads, Laush dmitriy sergeevich, Indie...\n",
       "29973    Exit 2 - directions, Xropi,stev3ns, Indie, Cas...\n",
       "29974    Maze run vr, Otros, Adventure, Indie, Action, ...\n",
       "Name: features, Length: 29975, dtype: object"
      ]
     },
     "execution_count": 64,
     "metadata": {},
     "output_type": "execute_result"
    }
   ],
   "source": [
    "## Vamos a extraer en una lista las n palabras más importantes\n",
    "\n",
    "## Tomamos los 100 generos mas significativos\n",
    "palabras_mas_relevantes = select_n_best(steam_games['genres'],40)\n",
    "\n",
    "## convertir lista en texto\n",
    "text_palabras = (', ').join(palabras_mas_relevantes)\n",
    "\n",
    "## Eliminaremos de cada registro los no significativos.\n",
    "def drop_not_important(genres):\n",
    "  return(', ').join([palabra for palabra in genres.split(', ') if palabra.capitalize() in palabras_mas_relevantes])\n",
    "\n",
    "\n",
    "steam_games['genres'] = steam_games['genres'].apply(drop_not_important)\n",
    "\n",
    "\n",
    "# Concatenaremos las columnas que utilizaremos para realizar el analisis de recomendacion\n",
    "cols_concatenate = ['app_name','developer','genres']\n",
    "steam_games['features'] = steam_games[cols_concatenate].apply(lambda row: ', '.join(row), axis=1)\n",
    "\n",
    "steam_games['features']\n"
   ]
  },
  {
   "cell_type": "code",
   "execution_count": 65,
   "metadata": {},
   "outputs": [
    {
     "data": {
      "text/html": [
       "<div>\n",
       "<style scoped>\n",
       "    .dataframe tbody tr th:only-of-type {\n",
       "        vertical-align: middle;\n",
       "    }\n",
       "\n",
       "    .dataframe tbody tr th {\n",
       "        vertical-align: top;\n",
       "    }\n",
       "\n",
       "    .dataframe thead th {\n",
       "        text-align: right;\n",
       "    }\n",
       "</style>\n",
       "<table border=\"1\" class=\"dataframe\">\n",
       "  <thead>\n",
       "    <tr style=\"text-align: right;\">\n",
       "      <th></th>\n",
       "      <th>publisher</th>\n",
       "      <th>genres</th>\n",
       "      <th>app_name</th>\n",
       "      <th>price</th>\n",
       "      <th>steam_id</th>\n",
       "      <th>developer</th>\n",
       "      <th>release_year</th>\n",
       "      <th>features</th>\n",
       "    </tr>\n",
       "  </thead>\n",
       "  <tbody>\n",
       "    <tr>\n",
       "      <th>0</th>\n",
       "      <td>Kotoshiro</td>\n",
       "      <td>Strategy, Action, Indie, Casual, Simulation</td>\n",
       "      <td>Lost summoner kitty</td>\n",
       "      <td>4.99</td>\n",
       "      <td>761140.0</td>\n",
       "      <td>Kotoshiro</td>\n",
       "      <td>2018</td>\n",
       "      <td>Lost summoner kitty, Kotoshiro, Strategy, Acti...</td>\n",
       "    </tr>\n",
       "    <tr>\n",
       "      <th>1</th>\n",
       "      <td>Making fun, inc.</td>\n",
       "      <td>Strategy, Indie, Fantasy, Difficult</td>\n",
       "      <td>Ironbound</td>\n",
       "      <td>0.00</td>\n",
       "      <td>643980.0</td>\n",
       "      <td>Secret level srl</td>\n",
       "      <td>2018</td>\n",
       "      <td>Ironbound, Secret level srl, Strategy, Indie, ...</td>\n",
       "    </tr>\n",
       "    <tr>\n",
       "      <th>2</th>\n",
       "      <td>Poolians.com</td>\n",
       "      <td>Simulation, Sports, Casual, Indie, Multiplayer</td>\n",
       "      <td>Real pool 3d - poolians</td>\n",
       "      <td>0.00</td>\n",
       "      <td>670290.0</td>\n",
       "      <td>Poolians.com</td>\n",
       "      <td>2017</td>\n",
       "      <td>Real pool 3d - poolians, Poolians.com, Simulat...</td>\n",
       "    </tr>\n",
       "    <tr>\n",
       "      <th>3</th>\n",
       "      <td>彼岸领域</td>\n",
       "      <td>Action, Adventure, Casual</td>\n",
       "      <td>弹炸人2222</td>\n",
       "      <td>0.99</td>\n",
       "      <td>767400.0</td>\n",
       "      <td>彼岸领域</td>\n",
       "      <td>2017</td>\n",
       "      <td>弹炸人2222, 彼岸领域, Action, Adventure, Casual</td>\n",
       "    </tr>\n",
       "    <tr>\n",
       "      <th>4</th>\n",
       "      <td>Otros</td>\n",
       "      <td>Action, Indie, Casual, Sports</td>\n",
       "      <td>Log challenge</td>\n",
       "      <td>2.99</td>\n",
       "      <td>773570.0</td>\n",
       "      <td>Otros</td>\n",
       "      <td>2017</td>\n",
       "      <td>Log challenge, Otros, Action, Indie, Casual, S...</td>\n",
       "    </tr>\n",
       "    <tr>\n",
       "      <th>5</th>\n",
       "      <td>Trickjump games ltd</td>\n",
       "      <td>Action, Adventure, Simulation, Shooter</td>\n",
       "      <td>Battle royale trainer</td>\n",
       "      <td>3.99</td>\n",
       "      <td>772540.0</td>\n",
       "      <td>Trickjump games ltd</td>\n",
       "      <td>2018</td>\n",
       "      <td>Battle royale trainer, Trickjump games ltd, Ac...</td>\n",
       "    </tr>\n",
       "    <tr>\n",
       "      <th>6</th>\n",
       "      <td>Poppermost productions</td>\n",
       "      <td>Indie, Simulation, Sports</td>\n",
       "      <td>Snow - all access basic pass</td>\n",
       "      <td>9.99</td>\n",
       "      <td>774276.0</td>\n",
       "      <td>Poppermost productions</td>\n",
       "      <td>2018</td>\n",
       "      <td>Snow - all access basic pass, Poppermost produ...</td>\n",
       "    </tr>\n",
       "    <tr>\n",
       "      <th>7</th>\n",
       "      <td>Poppermost productions</td>\n",
       "      <td>Indie, Simulation, Sports</td>\n",
       "      <td>Snow - all access pro pass</td>\n",
       "      <td>18.99</td>\n",
       "      <td>774277.0</td>\n",
       "      <td>Poppermost productions</td>\n",
       "      <td>2018</td>\n",
       "      <td>Snow - all access pro pass, Poppermost product...</td>\n",
       "    </tr>\n",
       "    <tr>\n",
       "      <th>8</th>\n",
       "      <td>Poppermost productions</td>\n",
       "      <td>Indie, Simulation, Sports</td>\n",
       "      <td>Snow - all access legend pass</td>\n",
       "      <td>29.99</td>\n",
       "      <td>774278.0</td>\n",
       "      <td>Poppermost productions</td>\n",
       "      <td>2018</td>\n",
       "      <td>Snow - all access legend pass, Poppermost prod...</td>\n",
       "    </tr>\n",
       "    <tr>\n",
       "      <th>9</th>\n",
       "      <td>Otros</td>\n",
       "      <td>Casual</td>\n",
       "      <td>Icarus six sixty six</td>\n",
       "      <td>0.00</td>\n",
       "      <td>724910.0</td>\n",
       "      <td>Otros</td>\n",
       "      <td>2018</td>\n",
       "      <td>Icarus six sixty six, Otros, Casual</td>\n",
       "    </tr>\n",
       "  </tbody>\n",
       "</table>\n",
       "</div>"
      ],
      "text/plain": [
       "                publisher                                          genres  \\\n",
       "0               Kotoshiro     Strategy, Action, Indie, Casual, Simulation   \n",
       "1        Making fun, inc.             Strategy, Indie, Fantasy, Difficult   \n",
       "2            Poolians.com  Simulation, Sports, Casual, Indie, Multiplayer   \n",
       "3                    彼岸领域                       Action, Adventure, Casual   \n",
       "4                   Otros                   Action, Indie, Casual, Sports   \n",
       "5     Trickjump games ltd          Action, Adventure, Simulation, Shooter   \n",
       "6  Poppermost productions                       Indie, Simulation, Sports   \n",
       "7  Poppermost productions                       Indie, Simulation, Sports   \n",
       "8  Poppermost productions                       Indie, Simulation, Sports   \n",
       "9                   Otros                                          Casual   \n",
       "\n",
       "                        app_name  price  steam_id               developer  \\\n",
       "0            Lost summoner kitty   4.99  761140.0               Kotoshiro   \n",
       "1                      Ironbound   0.00  643980.0        Secret level srl   \n",
       "2        Real pool 3d - poolians   0.00  670290.0            Poolians.com   \n",
       "3                        弹炸人2222   0.99  767400.0                    彼岸领域   \n",
       "4                  Log challenge   2.99  773570.0                   Otros   \n",
       "5          Battle royale trainer   3.99  772540.0     Trickjump games ltd   \n",
       "6   Snow - all access basic pass   9.99  774276.0  Poppermost productions   \n",
       "7     Snow - all access pro pass  18.99  774277.0  Poppermost productions   \n",
       "8  Snow - all access legend pass  29.99  774278.0  Poppermost productions   \n",
       "9           Icarus six sixty six   0.00  724910.0                   Otros   \n",
       "\n",
       "   release_year                                           features  \n",
       "0          2018  Lost summoner kitty, Kotoshiro, Strategy, Acti...  \n",
       "1          2018  Ironbound, Secret level srl, Strategy, Indie, ...  \n",
       "2          2017  Real pool 3d - poolians, Poolians.com, Simulat...  \n",
       "3          2017           弹炸人2222, 彼岸领域, Action, Adventure, Casual  \n",
       "4          2017  Log challenge, Otros, Action, Indie, Casual, S...  \n",
       "5          2018  Battle royale trainer, Trickjump games ltd, Ac...  \n",
       "6          2018  Snow - all access basic pass, Poppermost produ...  \n",
       "7          2018  Snow - all access pro pass, Poppermost product...  \n",
       "8          2018  Snow - all access legend pass, Poppermost prod...  \n",
       "9          2018                Icarus six sixty six, Otros, Casual  "
      ]
     },
     "execution_count": 65,
     "metadata": {},
     "output_type": "execute_result"
    }
   ],
   "source": [
    "steam_games.head(10)"
   ]
  },
  {
   "cell_type": "markdown",
   "metadata": {},
   "source": [
    "- **CountVectorizer** : Retorna la frecuencia absoluta de cada término en un texto\n",
    "\n",
    "- **TF-IDF**  Retorna la frecuencia de cada término en un término, y normaliza por el totoal de documentos donde el termino aparece"
   ]
  },
  {
   "cell_type": "code",
   "execution_count": 66,
   "metadata": {},
   "outputs": [],
   "source": [
    "steam_genres = steam_games['genres']"
   ]
  },
  {
   "cell_type": "markdown",
   "metadata": {},
   "source": [
    "- Inspeccionaremos con:"
   ]
  },
  {
   "cell_type": "code",
   "execution_count": 69,
   "metadata": {},
   "outputs": [],
   "source": [
    "id = 2780.0 # id del juego\n",
    "\n",
    "n = 20 # numero de generos a considerar"
   ]
  },
  {
   "cell_type": "code",
   "execution_count": null,
   "metadata": {},
   "outputs": [],
   "source": [
    "text_1 = steam_games[steam_games['steam_id'] == id]['features'].iloc[0]"
   ]
  },
  {
   "cell_type": "code",
   "execution_count": 73,
   "metadata": {},
   "outputs": [
    {
     "data": {
      "text/plain": [
       "'Arma: combat operations, Bohemia interactive, Action, Simulation, Shooter'"
      ]
     },
     "execution_count": 73,
     "metadata": {},
     "output_type": "execute_result"
    }
   ],
   "source": [
    "text_1"
   ]
  },
  {
   "cell_type": "code",
   "execution_count": null,
   "metadata": {},
   "outputs": [],
   "source": [
    "\n",
    "# Calcularemos la similitud coseno\n",
    "from sklearn.metrics.pairwise import cosine_similarity, linear_kernel\n",
    "\n",
    "from sklearn.feature_extraction.text import TfidfVectorizer, CountVectorizer\n",
    "\n",
    "df = steam_games[['steam_id','features']]\n",
    "\n",
    "import nltk\n",
    "from nltk.corpus import stopwords\n",
    "\n",
    "#Eliminaremos las stopwords\n",
    "\n",
    "stop_words_steams = ['op','based','co','first']\n",
    "stop = list(stopwords.words('english'))\n",
    "stop += stop_words_steams\n",
    "\n",
    "\n",
    "\n",
    "def score_ml(text):\n",
    "  data_corpus = [text_1, text]  \n",
    "  tf = TfidfVectorizer(stop_words=stop)\n",
    "\n",
    "  tf_idf_matrix_df =tf.fit_transform(data_corpus)\n",
    "  \n",
    "  return(linear_kernel(tf_idf_matrix_df,tf_idf_matrix_df)[0,1])\n",
    "\n",
    "# prueba = df.head(1000)\n",
    "# prueba['correlacion'] = prueba['features'].head(1000).apply(score_ml)\n",
    "\n",
    "df['correlacion'] = df['features'].apply(score_ml)\n"
   ]
  },
  {
   "cell_type": "code",
   "execution_count": 79,
   "metadata": {},
   "outputs": [
    {
     "data": {
      "text/html": [
       "<div>\n",
       "<style scoped>\n",
       "    .dataframe tbody tr th:only-of-type {\n",
       "        vertical-align: middle;\n",
       "    }\n",
       "\n",
       "    .dataframe tbody tr th {\n",
       "        vertical-align: top;\n",
       "    }\n",
       "\n",
       "    .dataframe thead th {\n",
       "        text-align: right;\n",
       "    }\n",
       "</style>\n",
       "<table border=\"1\" class=\"dataframe\">\n",
       "  <thead>\n",
       "    <tr style=\"text-align: right;\">\n",
       "      <th></th>\n",
       "      <th>steam_id</th>\n",
       "      <th>features</th>\n",
       "      <th>correlacion</th>\n",
       "    </tr>\n",
       "  </thead>\n",
       "  <tbody>\n",
       "    <tr>\n",
       "      <th>98</th>\n",
       "      <td>2780.0</td>\n",
       "      <td>Arma: combat operations, Bohemia interactive, ...</td>\n",
       "      <td>1.000000</td>\n",
       "    </tr>\n",
       "    <tr>\n",
       "      <th>2637</th>\n",
       "      <td>304380.0</td>\n",
       "      <td>Arma 3 helicopters, Bohemia interactive, Simul...</td>\n",
       "      <td>0.602975</td>\n",
       "    </tr>\n",
       "    <tr>\n",
       "      <th>29576</th>\n",
       "      <td>33900.0</td>\n",
       "      <td>Arma 2, Bohemia interactive, Simulation, Actio...</td>\n",
       "      <td>0.550780</td>\n",
       "    </tr>\n",
       "    <tr>\n",
       "      <th>27966</th>\n",
       "      <td>107410.0</td>\n",
       "      <td>Arma 3, Bohemia interactive, Simulation, Multi...</td>\n",
       "      <td>0.550780</td>\n",
       "    </tr>\n",
       "    <tr>\n",
       "      <th>9606</th>\n",
       "      <td>639600.0</td>\n",
       "      <td>Arma 3 malden, Bohemia interactive, Action, Si...</td>\n",
       "      <td>0.505606</td>\n",
       "    </tr>\n",
       "    <tr>\n",
       "      <th>16501</th>\n",
       "      <td>601670.0</td>\n",
       "      <td>Arma 3 jets, Bohemia interactive, Simulation, ...</td>\n",
       "      <td>0.505606</td>\n",
       "    </tr>\n",
       "    <tr>\n",
       "      <th>3238</th>\n",
       "      <td>332350.0</td>\n",
       "      <td>Arma 3 marksmen, Bohemia interactive, Simulati...</td>\n",
       "      <td>0.505606</td>\n",
       "    </tr>\n",
       "    <tr>\n",
       "      <th>29136</th>\n",
       "      <td>65780.0</td>\n",
       "      <td>Arma: gold edition, Bohemia interactive, Simul...</td>\n",
       "      <td>0.477360</td>\n",
       "    </tr>\n",
       "    <tr>\n",
       "      <th>20981</th>\n",
       "      <td>395180.0</td>\n",
       "      <td>Arma 3 apex, Bohemia interactive, Simulation, ...</td>\n",
       "      <td>0.477360</td>\n",
       "    </tr>\n",
       "    <tr>\n",
       "      <th>27229</th>\n",
       "      <td>275700.0</td>\n",
       "      <td>Arma 3 zeus, Bohemia interactive, Action, Stra...</td>\n",
       "      <td>0.457624</td>\n",
       "    </tr>\n",
       "  </tbody>\n",
       "</table>\n",
       "</div>"
      ],
      "text/plain": [
       "       steam_id                                           features  \\\n",
       "98       2780.0  Arma: combat operations, Bohemia interactive, ...   \n",
       "2637   304380.0  Arma 3 helicopters, Bohemia interactive, Simul...   \n",
       "29576   33900.0  Arma 2, Bohemia interactive, Simulation, Actio...   \n",
       "27966  107410.0  Arma 3, Bohemia interactive, Simulation, Multi...   \n",
       "9606   639600.0  Arma 3 malden, Bohemia interactive, Action, Si...   \n",
       "16501  601670.0  Arma 3 jets, Bohemia interactive, Simulation, ...   \n",
       "3238   332350.0  Arma 3 marksmen, Bohemia interactive, Simulati...   \n",
       "29136   65780.0  Arma: gold edition, Bohemia interactive, Simul...   \n",
       "20981  395180.0  Arma 3 apex, Bohemia interactive, Simulation, ...   \n",
       "27229  275700.0  Arma 3 zeus, Bohemia interactive, Action, Stra...   \n",
       "\n",
       "       correlacion  \n",
       "98        1.000000  \n",
       "2637      0.602975  \n",
       "29576     0.550780  \n",
       "27966     0.550780  \n",
       "9606      0.505606  \n",
       "16501     0.505606  \n",
       "3238      0.505606  \n",
       "29136     0.477360  \n",
       "20981     0.477360  \n",
       "27229     0.457624  "
      ]
     },
     "execution_count": 79,
     "metadata": {},
     "output_type": "execute_result"
    }
   ],
   "source": [
    "df.sort_values('correlacion',ascending=False).head(10)"
   ]
  },
  {
   "cell_type": "markdown",
   "metadata": {},
   "source": [
    "**Nota**\n",
    "- En este función en particular se optó por dos técnicas. En esta versión vamos a tomar un id, luego extraeremos las caracteristicas de este id en un texto, finalmente vamos a realizar la similitud de esta caracteristica con todas las otras caracteristica de forma lineal, es decir, vamos a realizar la correlación de columna por columna, y vamos a quedarnos con el top 5 de los más similares.\n",
    "\n",
    "- Para cada registro vamos calcular la correlación con el texto del id introducido. Esta técnica nos permitirá realizar el analisis con la tabla completa de steam. Lamentablemente el tiempo de respues ronda los 2 minutos. Esto porque realiza un analisis de recomendación para cada una de las caracteristicas."
   ]
  },
  {
   "cell_type": "markdown",
   "metadata": {},
   "source": [
    "## Creación de la función."
   ]
  },
  {
   "cell_type": "code",
   "execution_count": 80,
   "metadata": {},
   "outputs": [],
   "source": [
    "import nltk\n",
    "from nltk.corpus import stopwords\n",
    "\n",
    "from sklearn.metrics.pairwise import linear_kernel\n",
    "from sklearn.feature_extraction.text import TfidfVectorizer\n",
    "\n",
    "\n",
    "def recomendacion_juego_steam(id :int):\n",
    "  path_endpoint_6 = os.path.join('..','data','clear','06_recomendacion_juego.csv.gz')\n",
    "  df= pd.read_csv(path_endpoint_6).head(100)\n",
    "  \n",
    "\n",
    "  df['correlacion'] = 0\n",
    "\n",
    "  text_1 = df[df['steam_id'] == id]['features'].iloc[0]\n",
    "\n",
    "  nltk.download('stopwords')\n",
    "  \n",
    "  #Eliminaremos las stopwords\n",
    "  stop_words_steams = ['op','based','co','first']\n",
    "  stop = list(stopwords.words('english'))\n",
    "  stop += stop_words_steams\n",
    "\n",
    " \n",
    "\n",
    "  def score_ml(text):\n",
    "    data_corpus = [text_1, text]  \n",
    "    tf = TfidfVectorizer(stop_words=stop)\n",
    "\n",
    "    tf_idf_matrix_df =tf.fit_transform(data_corpus)\n",
    "    \n",
    "    return(linear_kernel(tf_idf_matrix_df,tf_idf_matrix_df)[0,1])\n",
    "\n",
    "  df['correlacion'] = df['features'].apply(score_ml)\n",
    "  \n",
    "  df= df.sort_values('correlacion',ascending=False)[1:6]\n",
    "  \n",
    "  df['features'] = df['features'].apply(lambda x: x.split(',')[0])\n",
    "  \n",
    "  # texto = df.nlargest(5,'correlacion')[['features','correlacion']].to_dict(orient='records')  \n",
    "  texto=df['features'].values\n",
    "  return list(texto)\n",
    "  "
   ]
  },
  {
   "cell_type": "code",
   "execution_count": 85,
   "metadata": {},
   "outputs": [
    {
     "name": "stderr",
     "output_type": "stream",
     "text": [
      "[nltk_data] Downloading package stopwords to /home/pc/nltk_data...\n",
      "[nltk_data]   Package stopwords is already up-to-date!\n"
     ]
    },
    {
     "data": {
      "text/plain": [
       "['Battle royale trainer', \"Garry's mod\", 'Tomb raider: anniversary', 'The ship: murder party', 'Spear of destiny']"
      ]
     },
     "execution_count": 85,
     "metadata": {},
     "output_type": "execute_result"
    }
   ],
   "source": [
    "recomendacion_juego_steam(2780)"
   ]
  }
 ],
 "metadata": {
  "kernelspec": {
   "display_name": "Python 3",
   "language": "python",
   "name": "python3"
  },
  "language_info": {
   "codemirror_mode": {
    "name": "ipython",
    "version": 3
   },
   "file_extension": ".py",
   "mimetype": "text/x-python",
   "name": "python",
   "nbconvert_exporter": "python",
   "pygments_lexer": "ipython3",
   "version": "3.10.12"
  }
 },
 "nbformat": 4,
 "nbformat_minor": 2
}
