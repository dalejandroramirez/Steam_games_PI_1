{
 "cells": [
  {
   "cell_type": "markdown",
   "metadata": {},
   "source": [
    "# Recomendación Juego\n"
   ]
  },
  {
   "cell_type": "code",
   "execution_count": 1,
   "metadata": {},
   "outputs": [],
   "source": [
    "import pandas as pd\n",
    "import os\n",
    "\n",
    "path_steam_games = os.path.join('..','data','clear','steam_games.csv.gz')\n"
   ]
  },
  {
   "cell_type": "markdown",
   "metadata": {},
   "source": [
    "## Carga de data"
   ]
  },
  {
   "cell_type": "code",
   "execution_count": 2,
   "metadata": {},
   "outputs": [],
   "source": [
    "## Cargamos la data necesaria para solucionar este problema.\n",
    "\n",
    "steam_colums = ['id','app_name','publisher','genres','price','developer','release_year']\n",
    "# steam_colums = ['id','app_name','release_year']\n",
    "steam_games = pd.read_csv(path_steam_games,usecols=steam_colums)\n",
    "\n",
    "## renombraremos la columna id por steam_id\n",
    "steam_games.rename(columns={'id':'steam_id'}, inplace=True)"
   ]
  },
  {
   "cell_type": "markdown",
   "metadata": {},
   "source": [
    "## Seleccion de las caracteristicas más importantes de un juego"
   ]
  },
  {
   "cell_type": "code",
   "execution_count": 5,
   "metadata": {},
   "outputs": [],
   "source": [
    "from collections import Counter\n",
    "from itertools import chain\n",
    "\n",
    "def select_n_best(caracteristica, n):\n",
    "    \n",
    "    # Dividir las palabras en cada fila y contar la frecuencia de cada palabra\n",
    "    conteo_palabras = Counter(chain.from_iterable(caracteristica.str.split(', ')))\n",
    "\n",
    "    # Obtener las n palabras más comunes\n",
    "    palabras_mas_comunes = conteo_palabras.most_common(n)\n",
    "\n",
    "    print(\"Palabras más comunes:\")\n",
    "    for palabra, frecuencia in palabras_mas_comunes:\n",
    "        print(f\"{palabra}: {frecuencia}\")\n",
    "    \n",
    "    return([palabras_mas_comunes[i][0] for i in range(n)])"
   ]
  },
  {
   "cell_type": "markdown",
   "metadata": {},
   "source": [
    "## Preparacion del modelo"
   ]
  },
  {
   "cell_type": "code",
   "execution_count": 44,
   "metadata": {},
   "outputs": [
    {
     "data": {
      "text/plain": [
       "29975"
      ]
     },
     "execution_count": 44,
     "metadata": {},
     "output_type": "execute_result"
    }
   ],
   "source": [
    "len(steam_games['steam_id'].unique())"
   ]
  },
  {
   "cell_type": "code",
   "execution_count": 33,
   "metadata": {},
   "outputs": [
    {
     "name": "stdout",
     "output_type": "stream",
     "text": [
      "Palabras más comunes:\n",
      "Indie: 16783\n",
      "Action: 12320\n",
      "Casual: 9471\n",
      "Adventure: 9344\n",
      "Simulation: 7508\n",
      "Strategy: 7289\n",
      "Singleplayer: 4268\n",
      "Multiplayer: 2283\n",
      "Puzzle: 2075\n",
      "Atmospheric: 1901\n",
      ": 1778\n"
     ]
    },
    {
     "ename": "IndexError",
     "evalue": "list index out of range",
     "output_type": "error",
     "traceback": [
      "\u001b[0;31m---------------------------------------------------------------------------\u001b[0m",
      "\u001b[0;31mIndexError\u001b[0m                                Traceback (most recent call last)",
      "\u001b[1;32m/home/pc/Documentos/henry/Steam_games_PI_1/03_Endpoints/06_recomendacion_juego..ipynb Cell 8\u001b[0m line \u001b[0;36m5\n\u001b[1;32m      <a href='vscode-notebook-cell:/home/pc/Documentos/henry/Steam_games_PI_1/03_Endpoints/06_recomendacion_juego..ipynb#X14sZmlsZQ%3D%3D?line=1'>2</a>\u001b[0m n \u001b[39m=\u001b[39m \u001b[39m50\u001b[39m\n\u001b[1;32m      <a href='vscode-notebook-cell:/home/pc/Documentos/henry/Steam_games_PI_1/03_Endpoints/06_recomendacion_juego..ipynb#X14sZmlsZQ%3D%3D?line=3'>4</a>\u001b[0m \u001b[39m## Tomamos los 20 generos mas significativos\u001b[39;00m\n\u001b[0;32m----> <a href='vscode-notebook-cell:/home/pc/Documentos/henry/Steam_games_PI_1/03_Endpoints/06_recomendacion_juego..ipynb#X14sZmlsZQ%3D%3D?line=4'>5</a>\u001b[0m palabras_mas_relevantes \u001b[39m=\u001b[39m select_n_best(steam_games[\u001b[39m'\u001b[39;49m\u001b[39mgenres\u001b[39;49m\u001b[39m'\u001b[39;49m] , n)\n\u001b[1;32m      <a href='vscode-notebook-cell:/home/pc/Documentos/henry/Steam_games_PI_1/03_Endpoints/06_recomendacion_juego..ipynb#X14sZmlsZQ%3D%3D?line=6'>7</a>\u001b[0m \u001b[39m## convertir lista en texto\u001b[39;00m\n\u001b[1;32m      <a href='vscode-notebook-cell:/home/pc/Documentos/henry/Steam_games_PI_1/03_Endpoints/06_recomendacion_juego..ipynb#X14sZmlsZQ%3D%3D?line=7'>8</a>\u001b[0m text_palabras \u001b[39m=\u001b[39m (\u001b[39m'\u001b[39m\u001b[39m, \u001b[39m\u001b[39m'\u001b[39m)\u001b[39m.\u001b[39mjoin(palabras_mas_relevantes)\n",
      "\u001b[1;32m/home/pc/Documentos/henry/Steam_games_PI_1/03_Endpoints/06_recomendacion_juego..ipynb Cell 8\u001b[0m line \u001b[0;36m1\n\u001b[1;32m     <a href='vscode-notebook-cell:/home/pc/Documentos/henry/Steam_games_PI_1/03_Endpoints/06_recomendacion_juego..ipynb#X14sZmlsZQ%3D%3D?line=12'>13</a>\u001b[0m \u001b[39mfor\u001b[39;00m palabra, frecuencia \u001b[39min\u001b[39;00m palabras_mas_comunes:\n\u001b[1;32m     <a href='vscode-notebook-cell:/home/pc/Documentos/henry/Steam_games_PI_1/03_Endpoints/06_recomendacion_juego..ipynb#X14sZmlsZQ%3D%3D?line=13'>14</a>\u001b[0m     \u001b[39mprint\u001b[39m(\u001b[39mf\u001b[39m\u001b[39m\"\u001b[39m\u001b[39m{\u001b[39;00mpalabra\u001b[39m}\u001b[39;00m\u001b[39m: \u001b[39m\u001b[39m{\u001b[39;00mfrecuencia\u001b[39m}\u001b[39;00m\u001b[39m\"\u001b[39m)\n\u001b[0;32m---> <a href='vscode-notebook-cell:/home/pc/Documentos/henry/Steam_games_PI_1/03_Endpoints/06_recomendacion_juego..ipynb#X14sZmlsZQ%3D%3D?line=15'>16</a>\u001b[0m \u001b[39mreturn\u001b[39;00m([palabras_mas_comunes[i][\u001b[39m0\u001b[39m] \u001b[39mfor\u001b[39;00m i \u001b[39min\u001b[39;00m \u001b[39mrange\u001b[39m(n)])\n",
      "\u001b[1;32m/home/pc/Documentos/henry/Steam_games_PI_1/03_Endpoints/06_recomendacion_juego..ipynb Cell 8\u001b[0m line \u001b[0;36m1\n\u001b[1;32m     <a href='vscode-notebook-cell:/home/pc/Documentos/henry/Steam_games_PI_1/03_Endpoints/06_recomendacion_juego..ipynb#X14sZmlsZQ%3D%3D?line=12'>13</a>\u001b[0m \u001b[39mfor\u001b[39;00m palabra, frecuencia \u001b[39min\u001b[39;00m palabras_mas_comunes:\n\u001b[1;32m     <a href='vscode-notebook-cell:/home/pc/Documentos/henry/Steam_games_PI_1/03_Endpoints/06_recomendacion_juego..ipynb#X14sZmlsZQ%3D%3D?line=13'>14</a>\u001b[0m     \u001b[39mprint\u001b[39m(\u001b[39mf\u001b[39m\u001b[39m\"\u001b[39m\u001b[39m{\u001b[39;00mpalabra\u001b[39m}\u001b[39;00m\u001b[39m: \u001b[39m\u001b[39m{\u001b[39;00mfrecuencia\u001b[39m}\u001b[39;00m\u001b[39m\"\u001b[39m)\n\u001b[0;32m---> <a href='vscode-notebook-cell:/home/pc/Documentos/henry/Steam_games_PI_1/03_Endpoints/06_recomendacion_juego..ipynb#X14sZmlsZQ%3D%3D?line=15'>16</a>\u001b[0m \u001b[39mreturn\u001b[39;00m([palabras_mas_comunes[i][\u001b[39m0\u001b[39m] \u001b[39mfor\u001b[39;00m i \u001b[39min\u001b[39;00m \u001b[39mrange\u001b[39m(n)])\n",
      "\u001b[0;31mIndexError\u001b[0m: list index out of range"
     ]
    }
   ],
   "source": [
    "## Vamos a extraer en una lista las n palabras más importantes\n",
    "n = 50\n",
    "\n",
    "## Tomamos los 20 generos mas significativos\n",
    "palabras_mas_relevantes = select_n_best(steam_games['genres'] , n)\n",
    "\n",
    "## convertir lista en texto\n",
    "text_palabras = (', ').join(palabras_mas_relevantes)\n",
    "\n",
    "def drop_not_important(genres):\n",
    "  return(', ').join([palabra for palabra in genres.split(', ') if palabra.capitalize() in palabras_mas_relevantes])\n",
    "\n",
    "\n",
    "steam_games['genres'] = steam_games['genres'].apply(drop_not_important)\n",
    "\n",
    "cols_concatenate = ['app_name','developer','genres']\n",
    "\n",
    "steam_games['features'] = steam_games[cols_concatenate].apply(lambda row: ', '.join(row), axis=1)\n",
    "\n",
    "steam_games['features']\n"
   ]
  },
  {
   "cell_type": "code",
   "execution_count": 77,
   "metadata": {},
   "outputs": [
    {
     "data": {
      "text/html": [
       "<div>\n",
       "<style scoped>\n",
       "    .dataframe tbody tr th:only-of-type {\n",
       "        vertical-align: middle;\n",
       "    }\n",
       "\n",
       "    .dataframe tbody tr th {\n",
       "        vertical-align: top;\n",
       "    }\n",
       "\n",
       "    .dataframe thead th {\n",
       "        text-align: right;\n",
       "    }\n",
       "</style>\n",
       "<table border=\"1\" class=\"dataframe\">\n",
       "  <thead>\n",
       "    <tr style=\"text-align: right;\">\n",
       "      <th></th>\n",
       "      <th>publisher</th>\n",
       "      <th>genres</th>\n",
       "      <th>app_name</th>\n",
       "      <th>price</th>\n",
       "      <th>steam_id</th>\n",
       "      <th>developer</th>\n",
       "      <th>release_year</th>\n",
       "      <th>features</th>\n",
       "    </tr>\n",
       "  </thead>\n",
       "  <tbody>\n",
       "    <tr>\n",
       "      <th>0</th>\n",
       "      <td>Kotoshiro</td>\n",
       "      <td>Strategy, Action, Indie, Casual, Simulation</td>\n",
       "      <td>Lost summoner kitty</td>\n",
       "      <td>4.99</td>\n",
       "      <td>761140.0</td>\n",
       "      <td>Kotoshiro</td>\n",
       "      <td>2018</td>\n",
       "      <td>Lost summoner kitty, Kotoshiro, Strategy, Acti...</td>\n",
       "    </tr>\n",
       "    <tr>\n",
       "      <th>1</th>\n",
       "      <td>Making fun, inc.</td>\n",
       "      <td>Strategy, Indie, Fantasy, Difficult</td>\n",
       "      <td>Ironbound</td>\n",
       "      <td>0.00</td>\n",
       "      <td>643980.0</td>\n",
       "      <td>Secret level srl</td>\n",
       "      <td>2018</td>\n",
       "      <td>Ironbound, Secret level srl, Strategy, Indie, ...</td>\n",
       "    </tr>\n",
       "    <tr>\n",
       "      <th>2</th>\n",
       "      <td>Poolians.com</td>\n",
       "      <td>Simulation, Sports, Casual, Indie, Multiplayer</td>\n",
       "      <td>Real pool 3d - poolians</td>\n",
       "      <td>0.00</td>\n",
       "      <td>670290.0</td>\n",
       "      <td>Poolians.com</td>\n",
       "      <td>2017</td>\n",
       "      <td>Real pool 3d - poolians, Poolians.com, Simulat...</td>\n",
       "    </tr>\n",
       "    <tr>\n",
       "      <th>3</th>\n",
       "      <td>彼岸领域</td>\n",
       "      <td>Action, Adventure, Casual</td>\n",
       "      <td>弹炸人2222</td>\n",
       "      <td>0.99</td>\n",
       "      <td>767400.0</td>\n",
       "      <td>彼岸领域</td>\n",
       "      <td>2017</td>\n",
       "      <td>弹炸人2222, 彼岸领域, Action, Adventure, Casual</td>\n",
       "    </tr>\n",
       "    <tr>\n",
       "      <th>4</th>\n",
       "      <td>Otros</td>\n",
       "      <td>Action, Indie, Casual, Sports</td>\n",
       "      <td>Log challenge</td>\n",
       "      <td>2.99</td>\n",
       "      <td>773570.0</td>\n",
       "      <td>Otros</td>\n",
       "      <td>2017</td>\n",
       "      <td>Log challenge, Otros, Action, Indie, Casual, S...</td>\n",
       "    </tr>\n",
       "    <tr>\n",
       "      <th>...</th>\n",
       "      <td>...</td>\n",
       "      <td>...</td>\n",
       "      <td>...</td>\n",
       "      <td>...</td>\n",
       "      <td>...</td>\n",
       "      <td>...</td>\n",
       "      <td>...</td>\n",
       "      <td>...</td>\n",
       "    </tr>\n",
       "    <tr>\n",
       "      <th>29970</th>\n",
       "      <td>Ghost_rus games</td>\n",
       "      <td>Strategy, Indie, Casual, Simulation</td>\n",
       "      <td>Colony on mars</td>\n",
       "      <td>1.99</td>\n",
       "      <td>773640.0</td>\n",
       "      <td>Nikita \"ghost_rus\"</td>\n",
       "      <td>2018</td>\n",
       "      <td>Colony on mars, Nikita \"ghost_rus\", Strategy, ...</td>\n",
       "    </tr>\n",
       "    <tr>\n",
       "      <th>29971</th>\n",
       "      <td>Sacada</td>\n",
       "      <td>Strategy, Indie, Casual</td>\n",
       "      <td>Logistical: south africa</td>\n",
       "      <td>4.99</td>\n",
       "      <td>733530.0</td>\n",
       "      <td>Sacada</td>\n",
       "      <td>2018</td>\n",
       "      <td>Logistical: south africa, Sacada, Strategy, In...</td>\n",
       "    </tr>\n",
       "    <tr>\n",
       "      <th>29972</th>\n",
       "      <td>Laush studio</td>\n",
       "      <td>Indie, Simulation, Racing</td>\n",
       "      <td>Russian roads</td>\n",
       "      <td>1.99</td>\n",
       "      <td>610660.0</td>\n",
       "      <td>Laush dmitriy sergeevich</td>\n",
       "      <td>2018</td>\n",
       "      <td>Russian roads, Laush dmitriy sergeevich, Indie...</td>\n",
       "    </tr>\n",
       "    <tr>\n",
       "      <th>29973</th>\n",
       "      <td>Sixnails</td>\n",
       "      <td>Indie, Casual, Puzzle, Singleplayer, Atmospheric</td>\n",
       "      <td>Exit 2 - directions</td>\n",
       "      <td>4.99</td>\n",
       "      <td>658870.0</td>\n",
       "      <td>Xropi,stev3ns</td>\n",
       "      <td>2017</td>\n",
       "      <td>Exit 2 - directions, Xropi,stev3ns, Indie, Cas...</td>\n",
       "    </tr>\n",
       "    <tr>\n",
       "      <th>29974</th>\n",
       "      <td>Otros</td>\n",
       "      <td>Adventure, Indie, Action, Simulation</td>\n",
       "      <td>Maze run vr</td>\n",
       "      <td>4.99</td>\n",
       "      <td>681550.0</td>\n",
       "      <td>Otros</td>\n",
       "      <td>2017</td>\n",
       "      <td>Maze run vr, Otros, Adventure, Indie, Action, ...</td>\n",
       "    </tr>\n",
       "  </tbody>\n",
       "</table>\n",
       "<p>29975 rows × 8 columns</p>\n",
       "</div>"
      ],
      "text/plain": [
       "              publisher                                            genres  \\\n",
       "0             Kotoshiro       Strategy, Action, Indie, Casual, Simulation   \n",
       "1      Making fun, inc.               Strategy, Indie, Fantasy, Difficult   \n",
       "2          Poolians.com    Simulation, Sports, Casual, Indie, Multiplayer   \n",
       "3                  彼岸领域                         Action, Adventure, Casual   \n",
       "4                 Otros                     Action, Indie, Casual, Sports   \n",
       "...                 ...                                               ...   \n",
       "29970   Ghost_rus games               Strategy, Indie, Casual, Simulation   \n",
       "29971            Sacada                           Strategy, Indie, Casual   \n",
       "29972      Laush studio                         Indie, Simulation, Racing   \n",
       "29973          Sixnails  Indie, Casual, Puzzle, Singleplayer, Atmospheric   \n",
       "29974             Otros              Adventure, Indie, Action, Simulation   \n",
       "\n",
       "                       app_name  price  steam_id                 developer  \\\n",
       "0           Lost summoner kitty   4.99  761140.0                 Kotoshiro   \n",
       "1                     Ironbound   0.00  643980.0          Secret level srl   \n",
       "2       Real pool 3d - poolians   0.00  670290.0              Poolians.com   \n",
       "3                       弹炸人2222   0.99  767400.0                      彼岸领域   \n",
       "4                 Log challenge   2.99  773570.0                     Otros   \n",
       "...                         ...    ...       ...                       ...   \n",
       "29970            Colony on mars   1.99  773640.0        Nikita \"ghost_rus\"   \n",
       "29971  Logistical: south africa   4.99  733530.0                    Sacada   \n",
       "29972             Russian roads   1.99  610660.0  Laush dmitriy sergeevich   \n",
       "29973       Exit 2 - directions   4.99  658870.0             Xropi,stev3ns   \n",
       "29974               Maze run vr   4.99  681550.0                     Otros   \n",
       "\n",
       "       release_year                                           features  \n",
       "0              2018  Lost summoner kitty, Kotoshiro, Strategy, Acti...  \n",
       "1              2018  Ironbound, Secret level srl, Strategy, Indie, ...  \n",
       "2              2017  Real pool 3d - poolians, Poolians.com, Simulat...  \n",
       "3              2017           弹炸人2222, 彼岸领域, Action, Adventure, Casual  \n",
       "4              2017  Log challenge, Otros, Action, Indie, Casual, S...  \n",
       "...             ...                                                ...  \n",
       "29970          2018  Colony on mars, Nikita \"ghost_rus\", Strategy, ...  \n",
       "29971          2018  Logistical: south africa, Sacada, Strategy, In...  \n",
       "29972          2018  Russian roads, Laush dmitriy sergeevich, Indie...  \n",
       "29973          2017  Exit 2 - directions, Xropi,stev3ns, Indie, Cas...  \n",
       "29974          2017  Maze run vr, Otros, Adventure, Indie, Action, ...  \n",
       "\n",
       "[29975 rows x 8 columns]"
      ]
     },
     "execution_count": 77,
     "metadata": {},
     "output_type": "execute_result"
    }
   ],
   "source": [
    "steam_games"
   ]
  },
  {
   "cell_type": "code",
   "execution_count": 16,
   "metadata": {},
   "outputs": [],
   "source": [
    "# Calcularemos la similitud coseno\n",
    "from sklearn.metrics.pairwise import cosine_similarity, linear_kernel\n",
    "\n",
    "from sklearn.feature_extraction.text import TfidfVectorizer, CountVectorizer\n"
   ]
  },
  {
   "cell_type": "markdown",
   "metadata": {},
   "source": [
    "- **CountVectorizer** : Retorna la frecuencia absoluta de cada término en un texto\n",
    "\n",
    "- **TF-IDF**  Retorna la frecuencia de cada término en un término, y normaliza por el totoal de documentos donde el termino aparece"
   ]
  },
  {
   "cell_type": "code",
   "execution_count": 96,
   "metadata": {},
   "outputs": [],
   "source": [
    "df.to_csv('06_recomendacion_juego.csv.gz', index=False,compression='gzip')"
   ]
  },
  {
   "cell_type": "code",
   "execution_count": null,
   "metadata": {},
   "outputs": [],
   "source": [
    "df = steam_games[['steam_id','features']]\n",
    "df['correlacion'] = 0\n",
    "\n",
    "id = 2780.0\n",
    "\n",
    "text_1 = df[df['steam_id'] == id]['features'].iloc[0]\n",
    "\n",
    "## Vamos a extraer en una lista las n palabras más importantes\n",
    "palabras_mas_relevantes = select_n_best(steam_genres,n)\n",
    "\n",
    "def drop_not_important(genres):\n",
    "  return(', ').join([palabra for palabra in genres.split(', ') if palabra.capitalize() in palabras_mas_relevantes])\n",
    "\n",
    "steam_games['genres'] = steam_games['genres'].apply(drop_not_important)\n",
    "\n",
    "\n",
    "cols_concatenate = ['app_name','developer','genres']\n",
    "\n",
    "steam_games['features'] = steam_games[cols_concatenate].apply(lambda row: ', '.join(row), axis=1)\n",
    "\n",
    "# Calcularemos la similitud coseno\n",
    "from sklearn.metrics.pairwise import cosine_similarity, linear_kernel\n",
    "\n",
    "from sklearn.feature_extraction.text import TfidfVectorizer, CountVectorizer\n",
    "\n",
    "df = steam_games[['steam_id','features']]\n",
    "\n",
    "\n",
    "\n",
    "import nltk\n",
    "from nltk.corpus import stopwords\n",
    "\n",
    "#Eliminaremos las stopwords\n",
    "\n",
    "stop_words_steams = ['op','based','co','first']\n",
    "stop = list(stopwords.words('english'))\n",
    "stop += stop_words_steams\n",
    "\n",
    "\n",
    "\n",
    "def score_ml(text):\n",
    "  data_corpus = [text_1, text]  \n",
    "  tf = TfidfVectorizer(stop_words=stop)\n",
    "\n",
    "  tf_idf_matrix_df =tf.fit_transform(data_corpus)\n",
    "  \n",
    "  return(linear_kernel(tf_idf_matrix_df,tf_idf_matrix_df)[0,1])\n",
    "\n",
    "# prueba = df.head(1000)\n",
    "# prueba['correlacion'] = prueba['features'].head(1000).apply(score_ml)\n",
    "\n",
    "df['correlacion'] = df['features'].apply(score_ml)\n"
   ]
  },
  {
   "cell_type": "code",
   "execution_count": 134,
   "metadata": {},
   "outputs": [
    {
     "data": {
      "text/html": [
       "<div>\n",
       "<style scoped>\n",
       "    .dataframe tbody tr th:only-of-type {\n",
       "        vertical-align: middle;\n",
       "    }\n",
       "\n",
       "    .dataframe tbody tr th {\n",
       "        vertical-align: top;\n",
       "    }\n",
       "\n",
       "    .dataframe thead th {\n",
       "        text-align: right;\n",
       "    }\n",
       "</style>\n",
       "<table border=\"1\" class=\"dataframe\">\n",
       "  <thead>\n",
       "    <tr style=\"text-align: right;\">\n",
       "      <th></th>\n",
       "      <th>steam_id</th>\n",
       "      <th>features</th>\n",
       "    </tr>\n",
       "  </thead>\n",
       "  <tbody>\n",
       "    <tr>\n",
       "      <th>1</th>\n",
       "      <td>643980.0</td>\n",
       "      <td>Ironbound, Secret level srl, Strategy, Indie, ...</td>\n",
       "    </tr>\n",
       "    <tr>\n",
       "      <th>2</th>\n",
       "      <td>670290.0</td>\n",
       "      <td>Real pool 3d - poolians, Poolians.com, Simulat...</td>\n",
       "    </tr>\n",
       "    <tr>\n",
       "      <th>3</th>\n",
       "      <td>767400.0</td>\n",
       "      <td>弹炸人2222, 彼岸领域, Action, Adventure, Casual</td>\n",
       "    </tr>\n",
       "    <tr>\n",
       "      <th>4</th>\n",
       "      <td>773570.0</td>\n",
       "      <td>Log challenge, Otros, Action, Indie, Casual, S...</td>\n",
       "    </tr>\n",
       "    <tr>\n",
       "      <th>5</th>\n",
       "      <td>772540.0</td>\n",
       "      <td>Battle royale trainer, Trickjump games ltd, Ac...</td>\n",
       "    </tr>\n",
       "  </tbody>\n",
       "</table>\n",
       "</div>"
      ],
      "text/plain": [
       "   steam_id                                           features\n",
       "1  643980.0  Ironbound, Secret level srl, Strategy, Indie, ...\n",
       "2  670290.0  Real pool 3d - poolians, Poolians.com, Simulat...\n",
       "3  767400.0           弹炸人2222, 彼岸领域, Action, Adventure, Casual\n",
       "4  773570.0  Log challenge, Otros, Action, Indie, Casual, S...\n",
       "5  772540.0  Battle royale trainer, Trickjump games ltd, Ac..."
      ]
     },
     "execution_count": 134,
     "metadata": {},
     "output_type": "execute_result"
    }
   ],
   "source": [
    "df[1:6]"
   ]
  },
  {
   "cell_type": "code",
   "execution_count": 181,
   "metadata": {},
   "outputs": [],
   "source": [
    "import os \n",
    "import pandas as pd\n",
    "\n",
    "from sklearn.metrics.pairwise import cosine_similarity, linear_kernel\n",
    "\n",
    "from sklearn.feature_extraction.text import TfidfVectorizer, CountVectorizer\n",
    "\n",
    "from nltk.corpus import stopwords\n",
    "\n",
    "def endpoint6(id :int):\n",
    "  path_endpoint_6 = os.path.join('..','data','clear','06_recomendacion_juego.csv.gz')\n",
    "  df= pd.read_csv(path_endpoint_6).head(100)\n",
    "  \n",
    "\n",
    "  df['correlacion'] = 0\n",
    "\n",
    "  text_1 = df[df['steam_id'] == id]['features'].iloc[0]\n",
    "\n",
    "  nltk.download('stopwords')\n",
    "  \n",
    "  #Eliminaremos las stopwords\n",
    "  stop_words_steams = ['op','based','co','first']\n",
    "  stop = list(stopwords.words('english'))\n",
    "  stop += stop_words_steams\n",
    "\n",
    " \n",
    "\n",
    "  def score_ml(text):\n",
    "    data_corpus = [text_1, text]  \n",
    "    tf = TfidfVectorizer(stop_words=stop)\n",
    "\n",
    "    tf_idf_matrix_df =tf.fit_transform(data_corpus)\n",
    "    \n",
    "    return(linear_kernel(tf_idf_matrix_df,tf_idf_matrix_df)[0,1])\n",
    "\n",
    "  df['correlacion'] = df['features'].apply(score_ml)\n",
    "  \n",
    "  df= df.sort_values('correlacion',ascending=False)[1:6]\n",
    "  \n",
    "  df['features'] = df['features'].apply(lambda x: x.split(',')[0])\n",
    "  \n",
    "  # texto = df.nlargest(5,'correlacion')[['features','correlacion']].to_dict(orient='records')  \n",
    "  texto=df['features'].values\n",
    "  return list(texto)\n",
    "  "
   ]
  },
  {
   "cell_type": "code",
   "execution_count": 186,
   "metadata": {},
   "outputs": [
    {
     "data": {
      "text/html": [
       "<div>\n",
       "<style scoped>\n",
       "    .dataframe tbody tr th:only-of-type {\n",
       "        vertical-align: middle;\n",
       "    }\n",
       "\n",
       "    .dataframe tbody tr th {\n",
       "        vertical-align: top;\n",
       "    }\n",
       "\n",
       "    .dataframe thead th {\n",
       "        text-align: right;\n",
       "    }\n",
       "</style>\n",
       "<table border=\"1\" class=\"dataframe\">\n",
       "  <thead>\n",
       "    <tr style=\"text-align: right;\">\n",
       "      <th></th>\n",
       "      <th>publisher</th>\n",
       "      <th>genres</th>\n",
       "      <th>app_name</th>\n",
       "      <th>price</th>\n",
       "      <th>steam_id</th>\n",
       "      <th>developer</th>\n",
       "      <th>release_year</th>\n",
       "      <th>features</th>\n",
       "    </tr>\n",
       "  </thead>\n",
       "  <tbody>\n",
       "    <tr>\n",
       "      <th>29759</th>\n",
       "      <td>Sega, feral interactive (mac), feral interacti...</td>\n",
       "      <td>Strategy, Singleplayer, Multiplayer</td>\n",
       "      <td>Medieval ii: total war™ kingdoms</td>\n",
       "      <td>11.99</td>\n",
       "      <td>4780.0</td>\n",
       "      <td>The creative assembly,feral interactive (mac),...</td>\n",
       "      <td>2007</td>\n",
       "      <td>Medieval ii: total war™ kingdoms, The creative...</td>\n",
       "    </tr>\n",
       "  </tbody>\n",
       "</table>\n",
       "</div>"
      ],
      "text/plain": [
       "                                               publisher  \\\n",
       "29759  Sega, feral interactive (mac), feral interacti...   \n",
       "\n",
       "                                    genres                          app_name  \\\n",
       "29759  Strategy, Singleplayer, Multiplayer  Medieval ii: total war™ kingdoms   \n",
       "\n",
       "       price  steam_id                                          developer  \\\n",
       "29759  11.99    4780.0  The creative assembly,feral interactive (mac),...   \n",
       "\n",
       "       release_year                                           features  \n",
       "29759          2007  Medieval ii: total war™ kingdoms, The creative...  "
      ]
     },
     "execution_count": 186,
     "metadata": {},
     "output_type": "execute_result"
    }
   ],
   "source": [
    "steam_games[steam_games['steam_id'] == 4780]"
   ]
  },
  {
   "cell_type": "code",
   "execution_count": 182,
   "metadata": {},
   "outputs": [
    {
     "data": {
      "text/plain": [
       "['Battle royale trainer',\n",
       " \"Garry's mod\",\n",
       " 'Tomb raider: anniversary',\n",
       " 'The ship: murder party',\n",
       " 'Spear of destiny']"
      ]
     },
     "execution_count": 182,
     "metadata": {},
     "output_type": "execute_result"
    }
   ],
   "source": [
    "endpoint6(2780.0)"
   ]
  },
  {
   "cell_type": "code",
   "execution_count": 88,
   "metadata": {},
   "outputs": [
    {
     "data": {
      "text/html": [
       "<div>\n",
       "<style scoped>\n",
       "    .dataframe tbody tr th:only-of-type {\n",
       "        vertical-align: middle;\n",
       "    }\n",
       "\n",
       "    .dataframe tbody tr th {\n",
       "        vertical-align: top;\n",
       "    }\n",
       "\n",
       "    .dataframe thead th {\n",
       "        text-align: right;\n",
       "    }\n",
       "</style>\n",
       "<table border=\"1\" class=\"dataframe\">\n",
       "  <thead>\n",
       "    <tr style=\"text-align: right;\">\n",
       "      <th></th>\n",
       "      <th>steam_id</th>\n",
       "      <th>features</th>\n",
       "      <th>correlacion</th>\n",
       "    </tr>\n",
       "  </thead>\n",
       "  <tbody>\n",
       "    <tr>\n",
       "      <th>98</th>\n",
       "      <td>2780.0</td>\n",
       "      <td>Arma: combat operations, Bohemia interactive, ...</td>\n",
       "      <td>1.000000</td>\n",
       "    </tr>\n",
       "    <tr>\n",
       "      <th>2637</th>\n",
       "      <td>304380.0</td>\n",
       "      <td>Arma 3 helicopters, Bohemia interactive, Simul...</td>\n",
       "      <td>0.602975</td>\n",
       "    </tr>\n",
       "    <tr>\n",
       "      <th>29576</th>\n",
       "      <td>33900.0</td>\n",
       "      <td>Arma 2, Bohemia interactive, Simulation, Actio...</td>\n",
       "      <td>0.510149</td>\n",
       "    </tr>\n",
       "    <tr>\n",
       "      <th>27966</th>\n",
       "      <td>107410.0</td>\n",
       "      <td>Arma 3, Bohemia interactive, Simulation, Multi...</td>\n",
       "      <td>0.510149</td>\n",
       "    </tr>\n",
       "    <tr>\n",
       "      <th>9606</th>\n",
       "      <td>639600.0</td>\n",
       "      <td>Arma 3 malden, Bohemia interactive, Action, Si...</td>\n",
       "      <td>0.505606</td>\n",
       "    </tr>\n",
       "    <tr>\n",
       "      <th>...</th>\n",
       "      <td>...</td>\n",
       "      <td>...</td>\n",
       "      <td>...</td>\n",
       "    </tr>\n",
       "    <tr>\n",
       "      <th>15011</th>\n",
       "      <td>665590.0</td>\n",
       "      <td>Dog gone golfing, Vagabond dog, Sports, Casual...</td>\n",
       "      <td>0.000000</td>\n",
       "    </tr>\n",
       "    <tr>\n",
       "      <th>15012</th>\n",
       "      <td>694450.0</td>\n",
       "      <td>Mclaren, Otros, Racing, Movie</td>\n",
       "      <td>0.000000</td>\n",
       "    </tr>\n",
       "    <tr>\n",
       "      <th>15017</th>\n",
       "      <td>646260.0</td>\n",
       "      <td>Fantasy grounds - death comes to stoneholme (p...</td>\n",
       "      <td>0.000000</td>\n",
       "    </tr>\n",
       "    <tr>\n",
       "      <th>15018</th>\n",
       "      <td>702040.0</td>\n",
       "      <td>Battle bruise — soundtrack, Zanardi and liza, ...</td>\n",
       "      <td>0.000000</td>\n",
       "    </tr>\n",
       "    <tr>\n",
       "      <th>14987</th>\n",
       "      <td>694190.0</td>\n",
       "      <td>Deluxe content - cossacks 3: the golden age, G...</td>\n",
       "      <td>0.000000</td>\n",
       "    </tr>\n",
       "  </tbody>\n",
       "</table>\n",
       "<p>29975 rows × 3 columns</p>\n",
       "</div>"
      ],
      "text/plain": [
       "       steam_id                                           features  \\\n",
       "98       2780.0  Arma: combat operations, Bohemia interactive, ...   \n",
       "2637   304380.0  Arma 3 helicopters, Bohemia interactive, Simul...   \n",
       "29576   33900.0  Arma 2, Bohemia interactive, Simulation, Actio...   \n",
       "27966  107410.0  Arma 3, Bohemia interactive, Simulation, Multi...   \n",
       "9606   639600.0  Arma 3 malden, Bohemia interactive, Action, Si...   \n",
       "...         ...                                                ...   \n",
       "15011  665590.0  Dog gone golfing, Vagabond dog, Sports, Casual...   \n",
       "15012  694450.0                      Mclaren, Otros, Racing, Movie   \n",
       "15017  646260.0  Fantasy grounds - death comes to stoneholme (p...   \n",
       "15018  702040.0  Battle bruise — soundtrack, Zanardi and liza, ...   \n",
       "14987  694190.0  Deluxe content - cossacks 3: the golden age, G...   \n",
       "\n",
       "       correlacion  \n",
       "98        1.000000  \n",
       "2637      0.602975  \n",
       "29576     0.510149  \n",
       "27966     0.510149  \n",
       "9606      0.505606  \n",
       "...            ...  \n",
       "15011     0.000000  \n",
       "15012     0.000000  \n",
       "15017     0.000000  \n",
       "15018     0.000000  \n",
       "14987     0.000000  \n",
       "\n",
       "[29975 rows x 3 columns]"
      ]
     },
     "execution_count": 88,
     "metadata": {},
     "output_type": "execute_result"
    }
   ],
   "source": [
    "df.sort_values('correlacion',ascending=False)"
   ]
  },
  {
   "cell_type": "code",
   "execution_count": 51,
   "metadata": {},
   "outputs": [
    {
     "data": {
      "text/plain": [
       "'Arma: combat operations, Bohemia interactive, Action, Simulation, Shooter'"
      ]
     },
     "execution_count": 51,
     "metadata": {},
     "output_type": "execute_result"
    }
   ],
   "source": [
    "text_1"
   ]
  },
  {
   "cell_type": "code",
   "execution_count": 187,
   "metadata": {},
   "outputs": [],
   "source": [
    "import nltk\n",
    "from nltk.corpus import stopwords\n",
    "\n",
    "#Eliminaremos las stopwords\n",
    "\n",
    "stop_words_steams = ['op','based','co','first']\n",
    "stop = list(stopwords.words('english'))\n",
    "stop += stop_words_steams"
   ]
  },
  {
   "cell_type": "code",
   "execution_count": 244,
   "metadata": {},
   "outputs": [],
   "source": [
    "text1 = 'rojo negro blanco'\n",
    "\n",
    "\n",
    "text2 = 'violeta blanco azul'\n",
    "\n",
    "\n",
    "text3 = 'blanco negro rojo azul hola'"
   ]
  },
  {
   "cell_type": "code",
   "execution_count": 245,
   "metadata": {},
   "outputs": [],
   "source": [
    "data_corpus = [text1, text2,text3]"
   ]
  },
  {
   "cell_type": "code",
   "execution_count": 246,
   "metadata": {},
   "outputs": [],
   "source": [
    "tf = TfidfVectorizer(stop_words=stop)"
   ]
  },
  {
   "cell_type": "code",
   "execution_count": 247,
   "metadata": {},
   "outputs": [],
   "source": [
    "tf_idf_matrix_prueba =tf.fit_transform(data_corpus)"
   ]
  },
  {
   "cell_type": "code",
   "execution_count": 248,
   "metadata": {},
   "outputs": [
    {
     "data": {
      "text/plain": [
       "(3, 6)"
      ]
     },
     "execution_count": 248,
     "metadata": {},
     "output_type": "execute_result"
    }
   ],
   "source": [
    "tf_idf_matrix_prueba.toarray().shape "
   ]
  },
  {
   "cell_type": "code",
   "execution_count": 242,
   "metadata": {},
   "outputs": [],
   "source": [
    "import sympy as sp"
   ]
  },
  {
   "cell_type": "code",
   "execution_count": 243,
   "metadata": {},
   "outputs": [
    {
     "data": {
      "text/latex": [
       "$\\displaystyle \\left[\\begin{matrix}0 & 0.481334168736605 & 0 & 0.619805379940607 & 0.619805379940607 & 0\\\\0.547832154927436 & 0.425440538971199 & 0 & 0 & 0 & 0.720333449054989\\\\0.433066848528709 & 0.336315040640535 & 0.569430862840425 & 0.433066848528709 & 0.433066848528709 & 0\\end{matrix}\\right]$"
      ],
      "text/plain": [
       "Matrix([\n",
       "[                0, 0.481334168736605,                 0, 0.619805379940607, 0.619805379940607,                 0],\n",
       "[0.547832154927436, 0.425440538971199,                 0,                 0,                 0, 0.720333449054989],\n",
       "[0.433066848528709, 0.336315040640535, 0.569430862840425, 0.433066848528709, 0.433066848528709,                 0]])"
      ]
     },
     "execution_count": 243,
     "metadata": {},
     "output_type": "execute_result"
    }
   ],
   "source": [
    "sp.Matrix(tf_idf_matrix_prueba.toarray())"
   ]
  },
  {
   "cell_type": "code",
   "execution_count": 249,
   "metadata": {},
   "outputs": [],
   "source": [
    "data_vector_df = pd.DataFrame(tf_idf_matrix_prueba.toarray(),\n",
    "                              columns = tf.get_feature_names_out())"
   ]
  },
  {
   "cell_type": "code",
   "execution_count": 250,
   "metadata": {},
   "outputs": [
    {
     "data": {
      "text/html": [
       "<div>\n",
       "<style scoped>\n",
       "    .dataframe tbody tr th:only-of-type {\n",
       "        vertical-align: middle;\n",
       "    }\n",
       "\n",
       "    .dataframe tbody tr th {\n",
       "        vertical-align: top;\n",
       "    }\n",
       "\n",
       "    .dataframe thead th {\n",
       "        text-align: right;\n",
       "    }\n",
       "</style>\n",
       "<table border=\"1\" class=\"dataframe\">\n",
       "  <thead>\n",
       "    <tr style=\"text-align: right;\">\n",
       "      <th></th>\n",
       "      <th>azul</th>\n",
       "      <th>blanco</th>\n",
       "      <th>hola</th>\n",
       "      <th>negro</th>\n",
       "      <th>rojo</th>\n",
       "      <th>violeta</th>\n",
       "    </tr>\n",
       "  </thead>\n",
       "  <tbody>\n",
       "    <tr>\n",
       "      <th>0</th>\n",
       "      <td>0.000000</td>\n",
       "      <td>0.481334</td>\n",
       "      <td>0.000000</td>\n",
       "      <td>0.619805</td>\n",
       "      <td>0.619805</td>\n",
       "      <td>0.000000</td>\n",
       "    </tr>\n",
       "    <tr>\n",
       "      <th>1</th>\n",
       "      <td>0.547832</td>\n",
       "      <td>0.425441</td>\n",
       "      <td>0.000000</td>\n",
       "      <td>0.000000</td>\n",
       "      <td>0.000000</td>\n",
       "      <td>0.720333</td>\n",
       "    </tr>\n",
       "    <tr>\n",
       "      <th>2</th>\n",
       "      <td>0.433067</td>\n",
       "      <td>0.336315</td>\n",
       "      <td>0.569431</td>\n",
       "      <td>0.433067</td>\n",
       "      <td>0.433067</td>\n",
       "      <td>0.000000</td>\n",
       "    </tr>\n",
       "  </tbody>\n",
       "</table>\n",
       "</div>"
      ],
      "text/plain": [
       "       azul    blanco      hola     negro      rojo   violeta\n",
       "0  0.000000  0.481334  0.000000  0.619805  0.619805  0.000000\n",
       "1  0.547832  0.425441  0.000000  0.000000  0.000000  0.720333\n",
       "2  0.433067  0.336315  0.569431  0.433067  0.433067  0.000000"
      ]
     },
     "execution_count": 250,
     "metadata": {},
     "output_type": "execute_result"
    }
   ],
   "source": [
    "data_vector_df"
   ]
  },
  {
   "cell_type": "code",
   "execution_count": 266,
   "metadata": {},
   "outputs": [],
   "source": [
    "vector_similitud_coseno = cosine_similarity(data_vector_df.values) ## crea la matriz\n",
    "\n",
    "cos_sim_df = pd.DataFrame(vector_similitud_coseno, index=data_vector_df.index, columns=data_vector_df.index)\n",
    "\n",
    "juego_simil = cos_sim_df.loc[1] ##  "
   ]
  },
  {
   "cell_type": "code",
   "execution_count": 267,
   "metadata": {},
   "outputs": [
    {
     "data": {
      "text/plain": [
       "array([[1.        , 0.20477907, 0.69871425],\n",
       "       [0.20477907, 1.        , 0.38033   ],\n",
       "       [0.69871425, 0.38033   , 1.        ]])"
      ]
     },
     "execution_count": 267,
     "metadata": {},
     "output_type": "execute_result"
    }
   ],
   "source": [
    "linear_kernel(tf_idf_matrix_prueba.toarray(),tf_idf_matrix_prueba.toarray())"
   ]
  },
  {
   "cell_type": "code",
   "execution_count": 268,
   "metadata": {},
   "outputs": [
    {
     "data": {
      "text/plain": [
       "0    0.204779\n",
       "1    1.000000\n",
       "2    0.380330\n",
       "Name: 1, dtype: float64"
      ]
     },
     "execution_count": 268,
     "metadata": {},
     "output_type": "execute_result"
    }
   ],
   "source": [
    "juego_simil"
   ]
  },
  {
   "cell_type": "code",
   "execution_count": 269,
   "metadata": {},
   "outputs": [],
   "source": [
    "simil_ordenada = juego_simil.sort_values(ascending=False)"
   ]
  },
  {
   "cell_type": "code",
   "execution_count": 270,
   "metadata": {},
   "outputs": [
    {
     "data": {
      "text/plain": [
       "1    1.000000\n",
       "2    0.380330\n",
       "0    0.204779\n",
       "Name: 1, dtype: float64"
      ]
     },
     "execution_count": 270,
     "metadata": {},
     "output_type": "execute_result"
    }
   ],
   "source": [
    "simil_ordenada"
   ]
  },
  {
   "cell_type": "code",
   "execution_count": 271,
   "metadata": {},
   "outputs": [],
   "source": [
    "resultado = simil_ordenada.head(6).reset_index()\n",
    "\n"
   ]
  },
  {
   "cell_type": "code",
   "execution_count": 272,
   "metadata": {},
   "outputs": [
    {
     "data": {
      "text/html": [
       "<div>\n",
       "<style scoped>\n",
       "    .dataframe tbody tr th:only-of-type {\n",
       "        vertical-align: middle;\n",
       "    }\n",
       "\n",
       "    .dataframe tbody tr th {\n",
       "        vertical-align: top;\n",
       "    }\n",
       "\n",
       "    .dataframe thead th {\n",
       "        text-align: right;\n",
       "    }\n",
       "</style>\n",
       "<table border=\"1\" class=\"dataframe\">\n",
       "  <thead>\n",
       "    <tr style=\"text-align: right;\">\n",
       "      <th></th>\n",
       "      <th>index</th>\n",
       "      <th>1</th>\n",
       "    </tr>\n",
       "  </thead>\n",
       "  <tbody>\n",
       "    <tr>\n",
       "      <th>0</th>\n",
       "      <td>1</td>\n",
       "      <td>1.000000</td>\n",
       "    </tr>\n",
       "    <tr>\n",
       "      <th>1</th>\n",
       "      <td>2</td>\n",
       "      <td>0.380330</td>\n",
       "    </tr>\n",
       "    <tr>\n",
       "      <th>2</th>\n",
       "      <td>0</td>\n",
       "      <td>0.204779</td>\n",
       "    </tr>\n",
       "  </tbody>\n",
       "</table>\n",
       "</div>"
      ],
      "text/plain": [
       "   index         1\n",
       "0      1  1.000000\n",
       "1      2  0.380330\n",
       "2      0  0.204779"
      ]
     },
     "execution_count": 272,
     "metadata": {},
     "output_type": "execute_result"
    }
   ],
   "source": [
    "resultado"
   ]
  },
  {
   "cell_type": "code",
   "execution_count": null,
   "metadata": {},
   "outputs": [],
   "source": [
    "\n",
    "# result_df = resultado.merge(data_juegos_steam, on='item_id',how='left')  merge para extraer el texto"
   ]
  },
  {
   "cell_type": "code",
   "execution_count": null,
   "metadata": {},
   "outputs": [],
   "source": [
    "vector_similitud_coseno = cosine_similarity(data_vector_df.values)\n",
    "\n",
    "cos_sim_df = pd.DataFrame(vector_similitud_coseno, index=data_vector_df.index, columns=data_vector_df.index)\n",
    "\n",
    "juego_simil = cos_sim_df.loc[item_id]\n",
    "\n",
    "simil_ordenada = juego_simil.sort_values(ascending=False)\n",
    "resultado = simil_ordenada.head(6).reset_index()\n",
    "\n",
    "result_df = resultado.merge(data_juegos_steam, on='item_id',how='left')"
   ]
  },
  {
   "cell_type": "code",
   "execution_count": 359,
   "metadata": {},
   "outputs": [],
   "source": [
    "tf_idf_matrix = tf.fit_transform(steam_games['genres'])"
   ]
  },
  {
   "cell_type": "code",
   "execution_count": 360,
   "metadata": {},
   "outputs": [
    {
     "data": {
      "text/plain": [
       "<29975x8 sparse matrix of type '<class 'numpy.float64'>'\n",
       "\twith 69266 stored elements in Compressed Sparse Row format>"
      ]
     },
     "execution_count": 360,
     "metadata": {},
     "output_type": "execute_result"
    }
   ],
   "source": [
    "tf_idf_matrix"
   ]
  },
  {
   "cell_type": "code",
   "execution_count": 361,
   "metadata": {},
   "outputs": [
    {
     "data": {
      "text/plain": [
       "array(['action', 'adventure', 'casual', 'indie', 'multiplayer',\n",
       "       'simulation', 'singleplayer', 'strategy'], dtype=object)"
      ]
     },
     "execution_count": 361,
     "metadata": {},
     "output_type": "execute_result"
    }
   ],
   "source": [
    "tf.get_feature_names_out()"
   ]
  },
  {
   "cell_type": "markdown",
   "metadata": {},
   "source": [
    "### Similitud coseno"
   ]
  },
  {
   "cell_type": "code",
   "execution_count": 34,
   "metadata": {},
   "outputs": [
    {
     "data": {
      "text/plain": [
       "<44044x358 sparse matrix of type '<class 'numpy.float64'>'\n",
       "\twith 929176 stored elements in Compressed Sparse Row format>"
      ]
     },
     "execution_count": 34,
     "metadata": {},
     "output_type": "execute_result"
    }
   ],
   "source": [
    "# tf_idf_matrix"
   ]
  },
  {
   "cell_type": "code",
   "execution_count": 91,
   "metadata": {},
   "outputs": [],
   "source": [
    "# calcularemos los features para cada (texto) utilizando el producto punto entre matrices"
   ]
  },
  {
   "cell_type": "code",
   "execution_count": 36,
   "metadata": {},
   "outputs": [
    {
     "data": {
      "text/plain": [
       "array([[1.        , 0.31125747],\n",
       "       [0.31125747, 1.        ]])"
      ]
     },
     "execution_count": 36,
     "metadata": {},
     "output_type": "execute_result"
    }
   ],
   "source": [
    "linear_kernel(tf_idf_matrix_prueba,tf_idf_matrix_prueba)"
   ]
  },
  {
   "cell_type": "code",
   "execution_count": null,
   "metadata": {},
   "outputs": [],
   "source": []
  }
 ],
 "metadata": {
  "kernelspec": {
   "display_name": "Python 3",
   "language": "python",
   "name": "python3"
  },
  "language_info": {
   "codemirror_mode": {
    "name": "ipython",
    "version": 3
   },
   "file_extension": ".py",
   "mimetype": "text/x-python",
   "name": "python",
   "nbconvert_exporter": "python",
   "pygments_lexer": "ipython3",
   "version": "3.10.12"
  }
 },
 "nbformat": 4,
 "nbformat_minor": 2
}
