{
 "cells": [
  {
   "cell_type": "markdown",
   "metadata": {},
   "source": [
    "# Play Time Genres\n",
    "- play_time_genres toma como parámetro un género particular, y retorna el año con mayor tiempo jugado para dicho genero.\n",
    "\n",
    "- Para evitar consultas lentas, crearemos una tabla auxiliar para realizar esta consulta. \n"
   ]
  },
  {
   "cell_type": "code",
   "execution_count": 36,
   "metadata": {},
   "outputs": [],
   "source": [
    "import pandas as pd\n",
    "import os \n",
    "\n",
    "path_user = os.path.join('..','data','clear','users_items.csv.gz')\n",
    "path_steam_games = os.path.join('..','data','clear','steam_games.csv.gz')"
   ]
  },
  {
   "cell_type": "markdown",
   "metadata": {},
   "source": [
    "## Carga de data"
   ]
  },
  {
   "cell_type": "code",
   "execution_count": 37,
   "metadata": {},
   "outputs": [],
   "source": [
    "## Cargamos la data necesaria para solucionar este problema.\n",
    "steam_columns = ['id','genres', 'release_year']\n",
    "steam_games = pd.read_csv(path_steam_games, usecols= steam_columns)\n",
    "\n",
    "## renombraremos la columna id por steam_id\n",
    "steam_games.rename(columns={'id':'steam_id'}, inplace=True)\n",
    "\n",
    "user_item_cols = ['item_id', 'item_name', 'playtime_forever']\n",
    "user_items = pd.read_csv(path_user, usecols = user_item_cols)"
   ]
  },
  {
   "cell_type": "code",
   "execution_count": 38,
   "metadata": {},
   "outputs": [
    {
     "data": {
      "text/html": [
       "<div>\n",
       "<style scoped>\n",
       "    .dataframe tbody tr th:only-of-type {\n",
       "        vertical-align: middle;\n",
       "    }\n",
       "\n",
       "    .dataframe tbody tr th {\n",
       "        vertical-align: top;\n",
       "    }\n",
       "\n",
       "    .dataframe thead th {\n",
       "        text-align: right;\n",
       "    }\n",
       "</style>\n",
       "<table border=\"1\" class=\"dataframe\">\n",
       "  <thead>\n",
       "    <tr style=\"text-align: right;\">\n",
       "      <th></th>\n",
       "      <th>genres</th>\n",
       "      <th>steam_id</th>\n",
       "      <th>release_year</th>\n",
       "    </tr>\n",
       "  </thead>\n",
       "  <tbody>\n",
       "    <tr>\n",
       "      <th>0</th>\n",
       "      <td>Strategy, Action, Indie, Casual, Simulation</td>\n",
       "      <td>761140.0</td>\n",
       "      <td>2018</td>\n",
       "    </tr>\n",
       "    <tr>\n",
       "      <th>1</th>\n",
       "      <td>Free to Play, Strategy, Indie, RPG, Card Game,...</td>\n",
       "      <td>643980.0</td>\n",
       "      <td>2018</td>\n",
       "    </tr>\n",
       "    <tr>\n",
       "      <th>2</th>\n",
       "      <td>Free to Play, Simulation, Sports, Casual, Indi...</td>\n",
       "      <td>670290.0</td>\n",
       "      <td>2017</td>\n",
       "    </tr>\n",
       "  </tbody>\n",
       "</table>\n",
       "</div>"
      ],
      "text/plain": [
       "                                              genres  steam_id  release_year\n",
       "0        Strategy, Action, Indie, Casual, Simulation  761140.0          2018\n",
       "1  Free to Play, Strategy, Indie, RPG, Card Game,...  643980.0          2018\n",
       "2  Free to Play, Simulation, Sports, Casual, Indi...  670290.0          2017"
      ]
     },
     "execution_count": 38,
     "metadata": {},
     "output_type": "execute_result"
    }
   ],
   "source": [
    "steam_games.head(3)"
   ]
  },
  {
   "cell_type": "code",
   "execution_count": 39,
   "metadata": {},
   "outputs": [
    {
     "data": {
      "text/html": [
       "<div>\n",
       "<style scoped>\n",
       "    .dataframe tbody tr th:only-of-type {\n",
       "        vertical-align: middle;\n",
       "    }\n",
       "\n",
       "    .dataframe tbody tr th {\n",
       "        vertical-align: top;\n",
       "    }\n",
       "\n",
       "    .dataframe thead th {\n",
       "        text-align: right;\n",
       "    }\n",
       "</style>\n",
       "<table border=\"1\" class=\"dataframe\">\n",
       "  <thead>\n",
       "    <tr style=\"text-align: right;\">\n",
       "      <th></th>\n",
       "      <th>playtime_forever</th>\n",
       "      <th>item_id</th>\n",
       "      <th>item_name</th>\n",
       "    </tr>\n",
       "  </thead>\n",
       "  <tbody>\n",
       "    <tr>\n",
       "      <th>0</th>\n",
       "      <td>6.0</td>\n",
       "      <td>10.0</td>\n",
       "      <td>Counter-strike</td>\n",
       "    </tr>\n",
       "    <tr>\n",
       "      <th>1</th>\n",
       "      <td>0.0</td>\n",
       "      <td>20.0</td>\n",
       "      <td>Team fortress classic</td>\n",
       "    </tr>\n",
       "    <tr>\n",
       "      <th>2</th>\n",
       "      <td>7.0</td>\n",
       "      <td>30.0</td>\n",
       "      <td>Day of defeat</td>\n",
       "    </tr>\n",
       "  </tbody>\n",
       "</table>\n",
       "</div>"
      ],
      "text/plain": [
       "   playtime_forever  item_id              item_name\n",
       "0               6.0     10.0         Counter-strike\n",
       "1               0.0     20.0  Team fortress classic\n",
       "2               7.0     30.0          Day of defeat"
      ]
     },
     "execution_count": 39,
     "metadata": {},
     "output_type": "execute_result"
    }
   ],
   "source": [
    "user_items.head(3)"
   ]
  },
  {
   "cell_type": "markdown",
   "metadata": {},
   "source": [
    "## Creación de tabla consulta\n",
    "- En esta sección combinaremos steam_games  con user_items, por medio de sus ids.\n",
    "Luego agruparemos por año de y grupo de genero comun, para calcular la suma de tiempos jugados por dicho genero."
   ]
  },
  {
   "cell_type": "code",
   "execution_count": 40,
   "metadata": {},
   "outputs": [],
   "source": [
    "# realizamos un inner join, ya que no nos interan juegos que no se encuentren en steam y tampoco nos interesa juegos de steam que no tenga información de usuarios que jugaron en ese juego.\n",
    "steam_users = steam_games.merge(user_items,\n",
    "                                left_on='steam_id', \n",
    "                                right_on= 'item_id',\n",
    "                                how='inner')\n"
   ]
  },
  {
   "cell_type": "code",
   "execution_count": 41,
   "metadata": {},
   "outputs": [
    {
     "data": {
      "text/html": [
       "<div>\n",
       "<style scoped>\n",
       "    .dataframe tbody tr th:only-of-type {\n",
       "        vertical-align: middle;\n",
       "    }\n",
       "\n",
       "    .dataframe tbody tr th {\n",
       "        vertical-align: top;\n",
       "    }\n",
       "\n",
       "    .dataframe thead th {\n",
       "        text-align: right;\n",
       "    }\n",
       "</style>\n",
       "<table border=\"1\" class=\"dataframe\">\n",
       "  <thead>\n",
       "    <tr style=\"text-align: right;\">\n",
       "      <th></th>\n",
       "      <th>genres</th>\n",
       "      <th>steam_id</th>\n",
       "      <th>release_year</th>\n",
       "      <th>playtime_forever</th>\n",
       "      <th>item_id</th>\n",
       "      <th>item_name</th>\n",
       "    </tr>\n",
       "  </thead>\n",
       "  <tbody>\n",
       "    <tr>\n",
       "      <th>1670713</th>\n",
       "      <td>Free to Play, Fishing, Simulation, Multiplayer...</td>\n",
       "      <td>380600.0</td>\n",
       "      <td>2015</td>\n",
       "      <td>0.0</td>\n",
       "      <td>380600.0</td>\n",
       "      <td>Fishing planet</td>\n",
       "    </tr>\n",
       "    <tr>\n",
       "      <th>1109108</th>\n",
       "      <td>Adventure, Point &amp; Click, Family Friendly, Cas...</td>\n",
       "      <td>283920.0</td>\n",
       "      <td>1992</td>\n",
       "      <td>63.0</td>\n",
       "      <td>283920.0</td>\n",
       "      <td>Putt-putt joins the parade</td>\n",
       "    </tr>\n",
       "    <tr>\n",
       "      <th>3932231</th>\n",
       "      <td>Music, Rhythm, Indie, Casual, Music-Based Proc...</td>\n",
       "      <td>12900.0</td>\n",
       "      <td>2008</td>\n",
       "      <td>1958.0</td>\n",
       "      <td>12900.0</td>\n",
       "      <td>Audiosurf</td>\n",
       "    </tr>\n",
       "    <tr>\n",
       "      <th>3681133</th>\n",
       "      <td>FPS, Action, Singleplayer, Story Rich, Atmosph...</td>\n",
       "      <td>8850.0</td>\n",
       "      <td>2010</td>\n",
       "      <td>3694.0</td>\n",
       "      <td>8850.0</td>\n",
       "      <td>Bioshock 2</td>\n",
       "    </tr>\n",
       "    <tr>\n",
       "      <th>3155543</th>\n",
       "      <td>Turn-Based Strategy, Tactical, Strategy, Sci-f...</td>\n",
       "      <td>200510.0</td>\n",
       "      <td>2012</td>\n",
       "      <td>2117.0</td>\n",
       "      <td>200510.0</td>\n",
       "      <td>Xcom: enemy unknown</td>\n",
       "    </tr>\n",
       "  </tbody>\n",
       "</table>\n",
       "</div>"
      ],
      "text/plain": [
       "                                                    genres  steam_id  \\\n",
       "1670713  Free to Play, Fishing, Simulation, Multiplayer...  380600.0   \n",
       "1109108  Adventure, Point & Click, Family Friendly, Cas...  283920.0   \n",
       "3932231  Music, Rhythm, Indie, Casual, Music-Based Proc...   12900.0   \n",
       "3681133  FPS, Action, Singleplayer, Story Rich, Atmosph...    8850.0   \n",
       "3155543  Turn-Based Strategy, Tactical, Strategy, Sci-f...  200510.0   \n",
       "\n",
       "         release_year  playtime_forever   item_id                   item_name  \n",
       "1670713          2015               0.0  380600.0              Fishing planet  \n",
       "1109108          1992              63.0  283920.0  Putt-putt joins the parade  \n",
       "3932231          2008            1958.0   12900.0                   Audiosurf  \n",
       "3681133          2010            3694.0    8850.0                  Bioshock 2  \n",
       "3155543          2012            2117.0  200510.0         Xcom: enemy unknown  "
      ]
     },
     "execution_count": 41,
     "metadata": {},
     "output_type": "execute_result"
    }
   ],
   "source": [
    "steam_users.sample(5)"
   ]
  },
  {
   "cell_type": "markdown",
   "metadata": {},
   "source": [
    "- Por cada año exinten muchos generos, y cada grupo diferente de año va a tener el mismo tiempo de juego. es por esto que agruparemos por la columna genero. Luego cada elemeno va a tener una lista de generos que van a tener el mismo tiempo de juego. Para que esta consulta sea considerada apropiada veremos que existe una cantidad considerablemente pequeña de grupos de generos."
   ]
  },
  {
   "cell_type": "code",
   "execution_count": 42,
   "metadata": {},
   "outputs": [
    {
     "data": {
      "text/plain": [
       "7679"
      ]
     },
     "execution_count": 42,
     "metadata": {},
     "output_type": "execute_result"
    }
   ],
   "source": [
    "len(steam_users['genres'].unique())"
   ]
  },
  {
   "cell_type": "code",
   "execution_count": 69,
   "metadata": {},
   "outputs": [
    {
     "data": {
      "text/html": [
       "<div>\n",
       "<style scoped>\n",
       "    .dataframe tbody tr th:only-of-type {\n",
       "        vertical-align: middle;\n",
       "    }\n",
       "\n",
       "    .dataframe tbody tr th {\n",
       "        vertical-align: top;\n",
       "    }\n",
       "\n",
       "    .dataframe thead th {\n",
       "        text-align: right;\n",
       "    }\n",
       "</style>\n",
       "<table border=\"1\" class=\"dataframe\">\n",
       "  <thead>\n",
       "    <tr style=\"text-align: right;\">\n",
       "      <th></th>\n",
       "      <th>genres</th>\n",
       "      <th>steam_id</th>\n",
       "      <th>release_year</th>\n",
       "      <th>playtime_forever</th>\n",
       "      <th>item_id</th>\n",
       "    </tr>\n",
       "  </thead>\n",
       "  <tbody>\n",
       "    <tr>\n",
       "      <th>0</th>\n",
       "      <td>Racing, Action, Classic, Indie, Gore, 1990's, ...</td>\n",
       "      <td>282010.0</td>\n",
       "      <td>1997</td>\n",
       "      <td>5.0</td>\n",
       "      <td>282010.0</td>\n",
       "    </tr>\n",
       "    <tr>\n",
       "      <th>1</th>\n",
       "      <td>Racing, Action, Classic, Indie, Gore, 1990's, ...</td>\n",
       "      <td>282010.0</td>\n",
       "      <td>1997</td>\n",
       "      <td>0.0</td>\n",
       "      <td>282010.0</td>\n",
       "    </tr>\n",
       "    <tr>\n",
       "      <th>2</th>\n",
       "      <td>Racing, Action, Classic, Indie, Gore, 1990's, ...</td>\n",
       "      <td>282010.0</td>\n",
       "      <td>1997</td>\n",
       "      <td>0.0</td>\n",
       "      <td>282010.0</td>\n",
       "    </tr>\n",
       "    <tr>\n",
       "      <th>3</th>\n",
       "      <td>Racing, Action, Classic, Indie, Gore, 1990's, ...</td>\n",
       "      <td>282010.0</td>\n",
       "      <td>1997</td>\n",
       "      <td>0.0</td>\n",
       "      <td>282010.0</td>\n",
       "    </tr>\n",
       "    <tr>\n",
       "      <th>4</th>\n",
       "      <td>Racing, Action, Classic, Indie, Gore, 1990's, ...</td>\n",
       "      <td>282010.0</td>\n",
       "      <td>1997</td>\n",
       "      <td>13.0</td>\n",
       "      <td>282010.0</td>\n",
       "    </tr>\n",
       "    <tr>\n",
       "      <th>...</th>\n",
       "      <td>...</td>\n",
       "      <td>...</td>\n",
       "      <td>...</td>\n",
       "      <td>...</td>\n",
       "      <td>...</td>\n",
       "    </tr>\n",
       "    <tr>\n",
       "      <th>4195207</th>\n",
       "      <td>Action, FPS, Shooter, Multiplayer, Singleplaye...</td>\n",
       "      <td>80.0</td>\n",
       "      <td>2004</td>\n",
       "      <td>0.0</td>\n",
       "      <td>80.0</td>\n",
       "    </tr>\n",
       "    <tr>\n",
       "      <th>4195208</th>\n",
       "      <td>Action, FPS, Shooter, Multiplayer, Singleplaye...</td>\n",
       "      <td>80.0</td>\n",
       "      <td>2004</td>\n",
       "      <td>0.0</td>\n",
       "      <td>80.0</td>\n",
       "    </tr>\n",
       "    <tr>\n",
       "      <th>4195209</th>\n",
       "      <td>Action, FPS, Shooter, Multiplayer, Singleplaye...</td>\n",
       "      <td>80.0</td>\n",
       "      <td>2004</td>\n",
       "      <td>0.0</td>\n",
       "      <td>80.0</td>\n",
       "    </tr>\n",
       "    <tr>\n",
       "      <th>4195210</th>\n",
       "      <td>Action, FPS, Shooter, Multiplayer, Singleplaye...</td>\n",
       "      <td>80.0</td>\n",
       "      <td>2004</td>\n",
       "      <td>9.0</td>\n",
       "      <td>80.0</td>\n",
       "    </tr>\n",
       "    <tr>\n",
       "      <th>4195211</th>\n",
       "      <td>Action, FPS, Shooter, Multiplayer, Singleplaye...</td>\n",
       "      <td>80.0</td>\n",
       "      <td>2004</td>\n",
       "      <td>99.0</td>\n",
       "      <td>80.0</td>\n",
       "    </tr>\n",
       "  </tbody>\n",
       "</table>\n",
       "<p>4195212 rows × 5 columns</p>\n",
       "</div>"
      ],
      "text/plain": [
       "                                                    genres  steam_id  \\\n",
       "0        Racing, Action, Classic, Indie, Gore, 1990's, ...  282010.0   \n",
       "1        Racing, Action, Classic, Indie, Gore, 1990's, ...  282010.0   \n",
       "2        Racing, Action, Classic, Indie, Gore, 1990's, ...  282010.0   \n",
       "3        Racing, Action, Classic, Indie, Gore, 1990's, ...  282010.0   \n",
       "4        Racing, Action, Classic, Indie, Gore, 1990's, ...  282010.0   \n",
       "...                                                    ...       ...   \n",
       "4195207  Action, FPS, Shooter, Multiplayer, Singleplaye...      80.0   \n",
       "4195208  Action, FPS, Shooter, Multiplayer, Singleplaye...      80.0   \n",
       "4195209  Action, FPS, Shooter, Multiplayer, Singleplaye...      80.0   \n",
       "4195210  Action, FPS, Shooter, Multiplayer, Singleplaye...      80.0   \n",
       "4195211  Action, FPS, Shooter, Multiplayer, Singleplaye...      80.0   \n",
       "\n",
       "         release_year  playtime_forever   item_id  \n",
       "0                1997               5.0  282010.0  \n",
       "1                1997               0.0  282010.0  \n",
       "2                1997               0.0  282010.0  \n",
       "3                1997               0.0  282010.0  \n",
       "4                1997              13.0  282010.0  \n",
       "...               ...               ...       ...  \n",
       "4195207          2004               0.0      80.0  \n",
       "4195208          2004               0.0      80.0  \n",
       "4195209          2004               0.0      80.0  \n",
       "4195210          2004               9.0      80.0  \n",
       "4195211          2004              99.0      80.0  \n",
       "\n",
       "[4195212 rows x 5 columns]"
      ]
     },
     "execution_count": 69,
     "metadata": {},
     "output_type": "execute_result"
    }
   ],
   "source": [
    "steam_users"
   ]
  },
  {
   "cell_type": "markdown",
   "metadata": {},
   "source": [
    "- Así observamos que la tabla resultante tendra un tamaño considerablemente menor y cada genero que se encuentre en estas lista, tendra el mismo tiempo de juego por año.\n",
    "\n",
    "- **Por ejemplo:** el juego Quake live se lanzó en el 2010, y tiene en particular el genero de FPS y Shooter, este juego va a general el mismo playtime_forever tanto para FPS como para shooter."
   ]
  },
  {
   "cell_type": "code",
   "execution_count": 44,
   "metadata": {},
   "outputs": [],
   "source": [
    "steam_users.drop(columns=['item_name'], inplace=True)\n",
    "\n",
    "tabla_endpoint_1 = steam_users.groupby(['release_year','genres']).sum().reset_index()\n",
    "\n",
    "tabla_endpoint_1.drop(columns=['item_id','steam_id'], inplace=True)"
   ]
  },
  {
   "cell_type": "markdown",
   "metadata": {},
   "source": [
    "## Exportar tabla consulta 1"
   ]
  },
  {
   "cell_type": "code",
   "execution_count": 57,
   "metadata": {},
   "outputs": [],
   "source": [
    "path_endpoint_1 = os.path.join('..','data','clear','01_play_time_genre_data.csv.gz')\n",
    "\n",
    "tabla_endpoint_1.to_csv(path_endpoint_1, \n",
    "                        index=False,\n",
    "                        compression='gzip')"
   ]
  },
  {
   "cell_type": "markdown",
   "metadata": {},
   "source": [
    "## Función play_time_genres"
   ]
  },
  {
   "cell_type": "code",
   "execution_count": 74,
   "metadata": {},
   "outputs": [],
   "source": [
    "def play_time_genres(genero: str):\n",
    "  path_endpoint_1 = os.path.join('..','data','clear','01_play_time_genre_data.csv.gz')\n",
    "  try:\n",
    "    tabla1 = pd.read_csv(path_endpoint_1)\n",
    "    \n",
    "    year_max =tabla1[tabla1['genres'].str.contains(genero)][['release_year','playtime_forever']].groupby('release_year').sum().idxmax().iloc[0]\n",
    "    return year_max\n",
    "  \n",
    "  except Exception as e :\n",
    "    return {f'Upps, tuvimos el siguiente error: {e}'}"
   ]
  }
 ],
 "metadata": {
  "kernelspec": {
   "display_name": "env",
   "language": "python",
   "name": "python3"
  },
  "language_info": {
   "codemirror_mode": {
    "name": "ipython",
    "version": 3
   },
   "file_extension": ".py",
   "mimetype": "text/x-python",
   "name": "python",
   "nbconvert_exporter": "python",
   "pygments_lexer": "ipython3",
   "version": "3.10.12"
  }
 },
 "nbformat": 4,
 "nbformat_minor": 2
}
