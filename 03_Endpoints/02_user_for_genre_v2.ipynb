{
 "cells": [
  {
   "cell_type": "markdown",
   "metadata": {},
   "source": [
    "# User for Genre\n",
    "\n",
    "- User for genre toma como parámetro un género particular, y retorna el usuario  con mayor tiempo jugado para dicho genero.\n",
    "\n",
    "- Para evitar consultas lentas, crearemos una tabla auxiliar que sera agrupada por año y jugador, donde agruparemos los generos en un str y sumaremos el tiempo jugado del usuario.\n",
    "\n",
    "- **Observación:** No tenemos la información sobre el año en que un usuario jugó un juego, por lo que vamos a tomar el año de lanzamiento del juego como el año en que el usuario jugó el juego. "
   ]
  },
  {
   "cell_type": "code",
   "execution_count": 5,
   "metadata": {},
   "outputs": [],
   "source": [
    "import pandas as pd\n",
    "import os\n",
    "\n",
    "path_user = os.path.join('..','data','clear','users_items.csv.gz')\n",
    "path_steam_games = os.path.join('..','data','clear','steam_games.csv.gz')"
   ]
  },
  {
   "cell_type": "markdown",
   "metadata": {},
   "source": [
    "## Carga de data"
   ]
  },
  {
   "cell_type": "code",
   "execution_count": 6,
   "metadata": {},
   "outputs": [],
   "source": [
    "path_user = os.path.join('..','data','clear','users_items.csv.gz')\n",
    "path_steam_games = os.path.join('..','data','clear','steam_games.csv.gz')\n",
    "\n",
    "## Cargamos la data necesaria para solucionar este problema.\n",
    "steam_colums = ['id','genres','release_year']\n",
    "steam_games = pd.read_csv(path_steam_games, usecols = steam_colums)\n",
    "\n",
    "## renombraremos la columna id por steam_id\n",
    "steam_games.rename(columns={'id':'steam_id'}, inplace=True)\n",
    "\n",
    "user_item_cols = ['item_id','user_id','playtime_forever']\n",
    "user_items = pd.read_csv(path_user, usecols = user_item_cols)\n"
   ]
  },
  {
   "cell_type": "code",
   "execution_count": 7,
   "metadata": {},
   "outputs": [
    {
     "data": {
      "text/html": [
       "<div>\n",
       "<style scoped>\n",
       "    .dataframe tbody tr th:only-of-type {\n",
       "        vertical-align: middle;\n",
       "    }\n",
       "\n",
       "    .dataframe tbody tr th {\n",
       "        vertical-align: top;\n",
       "    }\n",
       "\n",
       "    .dataframe thead th {\n",
       "        text-align: right;\n",
       "    }\n",
       "</style>\n",
       "<table border=\"1\" class=\"dataframe\">\n",
       "  <thead>\n",
       "    <tr style=\"text-align: right;\">\n",
       "      <th></th>\n",
       "      <th>genres</th>\n",
       "      <th>steam_id</th>\n",
       "      <th>release_year</th>\n",
       "    </tr>\n",
       "  </thead>\n",
       "  <tbody>\n",
       "    <tr>\n",
       "      <th>0</th>\n",
       "      <td>Strategy, Action, Indie, Casual, Simulation</td>\n",
       "      <td>761140.0</td>\n",
       "      <td>2018</td>\n",
       "    </tr>\n",
       "    <tr>\n",
       "      <th>1</th>\n",
       "      <td>Free to Play, Strategy, Indie, RPG, Card Game,...</td>\n",
       "      <td>643980.0</td>\n",
       "      <td>2018</td>\n",
       "    </tr>\n",
       "    <tr>\n",
       "      <th>2</th>\n",
       "      <td>Free to Play, Simulation, Sports, Casual, Indi...</td>\n",
       "      <td>670290.0</td>\n",
       "      <td>2017</td>\n",
       "    </tr>\n",
       "  </tbody>\n",
       "</table>\n",
       "</div>"
      ],
      "text/plain": [
       "                                              genres  steam_id  release_year\n",
       "0        Strategy, Action, Indie, Casual, Simulation  761140.0          2018\n",
       "1  Free to Play, Strategy, Indie, RPG, Card Game,...  643980.0          2018\n",
       "2  Free to Play, Simulation, Sports, Casual, Indi...  670290.0          2017"
      ]
     },
     "execution_count": 7,
     "metadata": {},
     "output_type": "execute_result"
    }
   ],
   "source": [
    "steam_games.head(3)"
   ]
  },
  {
   "cell_type": "code",
   "execution_count": 8,
   "metadata": {},
   "outputs": [
    {
     "data": {
      "text/html": [
       "<div>\n",
       "<style scoped>\n",
       "    .dataframe tbody tr th:only-of-type {\n",
       "        vertical-align: middle;\n",
       "    }\n",
       "\n",
       "    .dataframe tbody tr th {\n",
       "        vertical-align: top;\n",
       "    }\n",
       "\n",
       "    .dataframe thead th {\n",
       "        text-align: right;\n",
       "    }\n",
       "</style>\n",
       "<table border=\"1\" class=\"dataframe\">\n",
       "  <thead>\n",
       "    <tr style=\"text-align: right;\">\n",
       "      <th></th>\n",
       "      <th>user_id</th>\n",
       "      <th>playtime_forever</th>\n",
       "      <th>item_id</th>\n",
       "    </tr>\n",
       "  </thead>\n",
       "  <tbody>\n",
       "    <tr>\n",
       "      <th>0</th>\n",
       "      <td>76561197970982479</td>\n",
       "      <td>0.0</td>\n",
       "      <td>10.0</td>\n",
       "    </tr>\n",
       "    <tr>\n",
       "      <th>1</th>\n",
       "      <td>76561197970982479</td>\n",
       "      <td>0.0</td>\n",
       "      <td>20.0</td>\n",
       "    </tr>\n",
       "    <tr>\n",
       "      <th>2</th>\n",
       "      <td>76561197970982479</td>\n",
       "      <td>0.0</td>\n",
       "      <td>30.0</td>\n",
       "    </tr>\n",
       "  </tbody>\n",
       "</table>\n",
       "</div>"
      ],
      "text/plain": [
       "             user_id  playtime_forever  item_id\n",
       "0  76561197970982479               0.0     10.0\n",
       "1  76561197970982479               0.0     20.0\n",
       "2  76561197970982479               0.0     30.0"
      ]
     },
     "execution_count": 8,
     "metadata": {},
     "output_type": "execute_result"
    }
   ],
   "source": [
    "user_items.head(3)"
   ]
  },
  {
   "cell_type": "markdown",
   "metadata": {},
   "source": [
    "## Creación de tabla consulta\n",
    "\n",
    "- En esta sección combinaremos steam_games  con user_items, por medio de sus ids. Luego agruparemos por año de lanzamiento y grupo de genero comun, para calcular la suma de tiempos jugados por dicho genero."
   ]
  },
  {
   "cell_type": "code",
   "execution_count": 9,
   "metadata": {},
   "outputs": [],
   "source": [
    "\n",
    "steam_users = steam_games.merge(user_items,\n",
    "                              left_on='steam_id', \n",
    "                              right_on= 'item_id',\n",
    "                              how='inner').drop(columns=['steam_id','item_id'])"
   ]
  },
  {
   "cell_type": "code",
   "execution_count": 10,
   "metadata": {},
   "outputs": [
    {
     "data": {
      "text/html": [
       "<div>\n",
       "<style scoped>\n",
       "    .dataframe tbody tr th:only-of-type {\n",
       "        vertical-align: middle;\n",
       "    }\n",
       "\n",
       "    .dataframe tbody tr th {\n",
       "        vertical-align: top;\n",
       "    }\n",
       "\n",
       "    .dataframe thead th {\n",
       "        text-align: right;\n",
       "    }\n",
       "</style>\n",
       "<table border=\"1\" class=\"dataframe\">\n",
       "  <thead>\n",
       "    <tr style=\"text-align: right;\">\n",
       "      <th></th>\n",
       "      <th>genres</th>\n",
       "      <th>release_year</th>\n",
       "      <th>user_id</th>\n",
       "      <th>playtime_forever</th>\n",
       "    </tr>\n",
       "  </thead>\n",
       "  <tbody>\n",
       "    <tr>\n",
       "      <th>1739602</th>\n",
       "      <td>Free to Play, Survival, Zombies, Multiplayer, ...</td>\n",
       "      <td>2017</td>\n",
       "      <td>Greedomeedo</td>\n",
       "      <td>0.00</td>\n",
       "    </tr>\n",
       "    <tr>\n",
       "      <th>3867188</th>\n",
       "      <td>Puzzle, First-Person, Singleplayer, Sci-fi, Co...</td>\n",
       "      <td>2007</td>\n",
       "      <td>SirSloth_</td>\n",
       "      <td>0.00</td>\n",
       "    </tr>\n",
       "    <tr>\n",
       "      <th>2866101</th>\n",
       "      <td>Action, Adventure, Indie, Puzzle, Zombies, 2D</td>\n",
       "      <td>2013</td>\n",
       "      <td>lilslavyboy</td>\n",
       "      <td>0.00</td>\n",
       "    </tr>\n",
       "    <tr>\n",
       "      <th>782743</th>\n",
       "      <td>RPG, Star Wars, Sci-fi, Story Rich, Singleplay...</td>\n",
       "      <td>2005</td>\n",
       "      <td>76561197994640892</td>\n",
       "      <td>0.01</td>\n",
       "    </tr>\n",
       "    <tr>\n",
       "      <th>396443</th>\n",
       "      <td>Horror, First-Person, Atmospheric, Survival Ho...</td>\n",
       "      <td>2010</td>\n",
       "      <td>76561198094413234</td>\n",
       "      <td>0.00</td>\n",
       "    </tr>\n",
       "  </tbody>\n",
       "</table>\n",
       "</div>"
      ],
      "text/plain": [
       "                                                    genres  release_year  \\\n",
       "1739602  Free to Play, Survival, Zombies, Multiplayer, ...          2017   \n",
       "3867188  Puzzle, First-Person, Singleplayer, Sci-fi, Co...          2007   \n",
       "2866101      Action, Adventure, Indie, Puzzle, Zombies, 2D          2013   \n",
       "782743   RPG, Star Wars, Sci-fi, Story Rich, Singleplay...          2005   \n",
       "396443   Horror, First-Person, Atmospheric, Survival Ho...          2010   \n",
       "\n",
       "                   user_id  playtime_forever  \n",
       "1739602        Greedomeedo              0.00  \n",
       "3867188          SirSloth_              0.00  \n",
       "2866101        lilslavyboy              0.00  \n",
       "782743   76561197994640892              0.01  \n",
       "396443   76561198094413234              0.00  "
      ]
     },
     "execution_count": 10,
     "metadata": {},
     "output_type": "execute_result"
    }
   ],
   "source": [
    "steam_users.sample(5)"
   ]
  },
  {
   "cell_type": "markdown",
   "metadata": {},
   "source": [
    "- Por eficiencia en la consulta vamos a agrupar por año de lanzamiento y usuario.\n",
    "Notamos que quedan dos columans sin agrupar, genres (str) y playtime_forever. Al realizar la agrupación por suma, vamos a acumular en playtime_forever las horas jugadas por un usuario en un año determinado; \n",
    "\n",
    "- Por otra parte genres concatenará cada string que contiene las columnas agrupadas. Esta técnica nos permitira seguir teniendo toda la información necesaria. Posteriormente vamos a transformar la columna genres para eliminar los generos repetidos en cada registro."
   ]
  },
  {
   "cell_type": "code",
   "execution_count": 11,
   "metadata": {},
   "outputs": [],
   "source": [
    "tabla_endpoint_2 = steam_users.groupby(['release_year','user_id']).sum(numeric_only=False).reset_index()"
   ]
  },
  {
   "cell_type": "markdown",
   "metadata": {},
   "source": [
    "- Así observamos que la tabla resultante tendra un tamaño considerablemente menor y cada usuario que se encuentre en estas lista, tendra los generos jugados por este usuario."
   ]
  },
  {
   "cell_type": "markdown",
   "metadata": {},
   "source": [
    "- Ahora vamos a eliminar los generos repetidos en cada registro, esto con el fin de reducir el tamaño del string de cada registro de genres. dado que esta consulta consume bastante memoria, utilicé una tecnica de carga con generadores."
   ]
  },
  {
   "cell_type": "code",
   "execution_count": 12,
   "metadata": {},
   "outputs": [],
   "source": [
    "## tomar los generos diferentes de cada uno de los caracteres, esto con el fin de reducir el tamaño del archivo.\n",
    "\n",
    "def genres_unique(x):\n",
    "  return ', '.join(set(map(str.strip, x.split(', '))))\n",
    "\n",
    "tabla_endpoint_2['genres'] = list(genres_unique(fila) for fila in tabla_endpoint_2['genres'])"
   ]
  },
  {
   "cell_type": "code",
   "execution_count": 13,
   "metadata": {},
   "outputs": [
    {
     "data": {
      "text/html": [
       "<div>\n",
       "<style scoped>\n",
       "    .dataframe tbody tr th:only-of-type {\n",
       "        vertical-align: middle;\n",
       "    }\n",
       "\n",
       "    .dataframe tbody tr th {\n",
       "        vertical-align: top;\n",
       "    }\n",
       "\n",
       "    .dataframe thead th {\n",
       "        text-align: right;\n",
       "    }\n",
       "</style>\n",
       "<table border=\"1\" class=\"dataframe\">\n",
       "  <thead>\n",
       "    <tr style=\"text-align: right;\">\n",
       "      <th></th>\n",
       "      <th>release_year</th>\n",
       "      <th>user_id</th>\n",
       "      <th>genres</th>\n",
       "      <th>playtime_forever</th>\n",
       "    </tr>\n",
       "  </thead>\n",
       "  <tbody>\n",
       "    <tr>\n",
       "      <th>0</th>\n",
       "      <td>1983</td>\n",
       "      <td>2Ta4</td>\n",
       "      <td>Short, Cartoon, Difficult, Action, Arcade, Ret...</td>\n",
       "      <td>0.0</td>\n",
       "    </tr>\n",
       "    <tr>\n",
       "      <th>1</th>\n",
       "      <td>1983</td>\n",
       "      <td>76561197960324641</td>\n",
       "      <td>Short, Cartoon, Difficult, Action, Arcade, Ret...</td>\n",
       "      <td>0.0</td>\n",
       "    </tr>\n",
       "    <tr>\n",
       "      <th>2</th>\n",
       "      <td>1983</td>\n",
       "      <td>76561197966936422</td>\n",
       "      <td>Short, Cartoon, Difficult, Action, Arcade, Ret...</td>\n",
       "      <td>0.0</td>\n",
       "    </tr>\n",
       "    <tr>\n",
       "      <th>3</th>\n",
       "      <td>1983</td>\n",
       "      <td>76561197968887720</td>\n",
       "      <td>Short, Cartoon, Difficult, Action, Arcade, Ret...</td>\n",
       "      <td>0.0</td>\n",
       "    </tr>\n",
       "    <tr>\n",
       "      <th>4</th>\n",
       "      <td>1983</td>\n",
       "      <td>76561197969020980</td>\n",
       "      <td>Short, Cartoon, Difficult, Action, Arcade, Ret...</td>\n",
       "      <td>0.0</td>\n",
       "    </tr>\n",
       "    <tr>\n",
       "      <th>5</th>\n",
       "      <td>1983</td>\n",
       "      <td>76561197971401137</td>\n",
       "      <td>Short, Cartoon, Difficult, Action, Arcade, Ret...</td>\n",
       "      <td>0.0</td>\n",
       "    </tr>\n",
       "    <tr>\n",
       "      <th>6</th>\n",
       "      <td>1983</td>\n",
       "      <td>76561197971951483</td>\n",
       "      <td>Short, Cartoon, Difficult, Action, Arcade, Ret...</td>\n",
       "      <td>0.0</td>\n",
       "    </tr>\n",
       "    <tr>\n",
       "      <th>7</th>\n",
       "      <td>1983</td>\n",
       "      <td>76561197972452208</td>\n",
       "      <td>Short, Cartoon, Difficult, Action, Arcade, Ret...</td>\n",
       "      <td>0.0</td>\n",
       "    </tr>\n",
       "    <tr>\n",
       "      <th>8</th>\n",
       "      <td>1983</td>\n",
       "      <td>76561197973470219</td>\n",
       "      <td>Short, Cartoon, Difficult, Action, Arcade, Ret...</td>\n",
       "      <td>0.0</td>\n",
       "    </tr>\n",
       "    <tr>\n",
       "      <th>9</th>\n",
       "      <td>1983</td>\n",
       "      <td>76561197975369524</td>\n",
       "      <td>Short, Cartoon, Difficult, Action, Arcade, Ret...</td>\n",
       "      <td>0.0</td>\n",
       "    </tr>\n",
       "  </tbody>\n",
       "</table>\n",
       "</div>"
      ],
      "text/plain": [
       "   release_year            user_id  \\\n",
       "0          1983               2Ta4   \n",
       "1          1983  76561197960324641   \n",
       "2          1983  76561197966936422   \n",
       "3          1983  76561197968887720   \n",
       "4          1983  76561197969020980   \n",
       "5          1983  76561197971401137   \n",
       "6          1983  76561197971951483   \n",
       "7          1983  76561197972452208   \n",
       "8          1983  76561197973470219   \n",
       "9          1983  76561197975369524   \n",
       "\n",
       "                                              genres  playtime_forever  \n",
       "0  Short, Cartoon, Difficult, Action, Arcade, Ret...               0.0  \n",
       "1  Short, Cartoon, Difficult, Action, Arcade, Ret...               0.0  \n",
       "2  Short, Cartoon, Difficult, Action, Arcade, Ret...               0.0  \n",
       "3  Short, Cartoon, Difficult, Action, Arcade, Ret...               0.0  \n",
       "4  Short, Cartoon, Difficult, Action, Arcade, Ret...               0.0  \n",
       "5  Short, Cartoon, Difficult, Action, Arcade, Ret...               0.0  \n",
       "6  Short, Cartoon, Difficult, Action, Arcade, Ret...               0.0  \n",
       "7  Short, Cartoon, Difficult, Action, Arcade, Ret...               0.0  \n",
       "8  Short, Cartoon, Difficult, Action, Arcade, Ret...               0.0  \n",
       "9  Short, Cartoon, Difficult, Action, Arcade, Ret...               0.0  "
      ]
     },
     "execution_count": 13,
     "metadata": {},
     "output_type": "execute_result"
    }
   ],
   "source": [
    "tabla_endpoint_2.head(10)"
   ]
  },
  {
   "cell_type": "code",
   "execution_count": 14,
   "metadata": {},
   "outputs": [],
   "source": [
    "# Me quedo con los usuarios que el tiempo de juego sea positivo\n",
    "tabla_endpoint_2 = tabla_endpoint_2[tabla_endpoint_2['playtime_forever']>0]"
   ]
  },
  {
   "cell_type": "markdown",
   "metadata": {},
   "source": [
    "## Exportar tabla consulta 2"
   ]
  },
  {
   "cell_type": "code",
   "execution_count": 18,
   "metadata": {},
   "outputs": [],
   "source": [
    "path_endpoint_2 = os.path.join('..','data','clear','02_user_for_genre_data_v2.csv.gz')\n",
    "\n",
    "tabla_endpoint_2.to_csv(path_endpoint_2, index = False,compression='gzip',)"
   ]
  },
  {
   "cell_type": "code",
   "execution_count": 19,
   "metadata": {},
   "outputs": [
    {
     "data": {
      "text/html": [
       "<div>\n",
       "<style scoped>\n",
       "    .dataframe tbody tr th:only-of-type {\n",
       "        vertical-align: middle;\n",
       "    }\n",
       "\n",
       "    .dataframe tbody tr th {\n",
       "        vertical-align: top;\n",
       "    }\n",
       "\n",
       "    .dataframe thead th {\n",
       "        text-align: right;\n",
       "    }\n",
       "</style>\n",
       "<table border=\"1\" class=\"dataframe\">\n",
       "  <thead>\n",
       "    <tr style=\"text-align: right;\">\n",
       "      <th></th>\n",
       "      <th>release_year</th>\n",
       "      <th>user_id</th>\n",
       "      <th>genres</th>\n",
       "      <th>playtime_forever</th>\n",
       "    </tr>\n",
       "  </thead>\n",
       "  <tbody>\n",
       "    <tr>\n",
       "      <th>122</th>\n",
       "      <td>1987</td>\n",
       "      <td>76561197966936422</td>\n",
       "      <td>Pixel Graphics, Retro, Point &amp; Click, 1990's, ...</td>\n",
       "      <td>0.01</td>\n",
       "    </tr>\n",
       "    <tr>\n",
       "      <th>123</th>\n",
       "      <td>1987</td>\n",
       "      <td>76561197967174031</td>\n",
       "      <td>Pixel Graphics, Retro, Point &amp; Click, 1990's, ...</td>\n",
       "      <td>0.02</td>\n",
       "    </tr>\n",
       "    <tr>\n",
       "      <th>1190</th>\n",
       "      <td>1988</td>\n",
       "      <td>comquack</td>\n",
       "      <td>Turn-Based, Sci-fi, Singleplayer, RPG, Action,...</td>\n",
       "      <td>0.04</td>\n",
       "    </tr>\n",
       "    <tr>\n",
       "      <th>1579</th>\n",
       "      <td>1989</td>\n",
       "      <td>76561198014848587</td>\n",
       "      <td>Retro, Strategy, Simulation, Adventure, Classic</td>\n",
       "      <td>0.02</td>\n",
       "    </tr>\n",
       "    <tr>\n",
       "      <th>1962</th>\n",
       "      <td>1990</td>\n",
       "      <td>76561198000121873</td>\n",
       "      <td>Action, Sci-fi, Platformer, Singleplayer, 2D, ...</td>\n",
       "      <td>0.01</td>\n",
       "    </tr>\n",
       "    <tr>\n",
       "      <th>...</th>\n",
       "      <td>...</td>\n",
       "      <td>...</td>\n",
       "      <td>...</td>\n",
       "      <td>...</td>\n",
       "    </tr>\n",
       "    <tr>\n",
       "      <th>763388</th>\n",
       "      <td>2017</td>\n",
       "      <td>zwanzigdrei</td>\n",
       "      <td>Difficult, Singleplayer, Exploration, Simulati...</td>\n",
       "      <td>0.01</td>\n",
       "    </tr>\n",
       "    <tr>\n",
       "      <th>763389</th>\n",
       "      <td>2017</td>\n",
       "      <td>zxcvbnm6995</td>\n",
       "      <td>Singleplayer, Hack and Slash, Free to PlayFree...</td>\n",
       "      <td>0.05</td>\n",
       "    </tr>\n",
       "    <tr>\n",
       "      <th>763393</th>\n",
       "      <td>2017</td>\n",
       "      <td>zychicken</td>\n",
       "      <td>Singleplayer, Platformer, Third-Person Shooter...</td>\n",
       "      <td>0.01</td>\n",
       "    </tr>\n",
       "    <tr>\n",
       "      <th>763399</th>\n",
       "      <td>2017</td>\n",
       "      <td>zzbrunozz</td>\n",
       "      <td>Singleplayer, Third-Person Shooter, Simulation...</td>\n",
       "      <td>0.04</td>\n",
       "    </tr>\n",
       "    <tr>\n",
       "      <th>763402</th>\n",
       "      <td>2017</td>\n",
       "      <td>zzoptimuszz</td>\n",
       "      <td>PvE, Singleplayer, Platformer, Third-Person Sh...</td>\n",
       "      <td>0.05</td>\n",
       "    </tr>\n",
       "  </tbody>\n",
       "</table>\n",
       "<p>320238 rows × 4 columns</p>\n",
       "</div>"
      ],
      "text/plain": [
       "        release_year            user_id  \\\n",
       "122             1987  76561197966936422   \n",
       "123             1987  76561197967174031   \n",
       "1190            1988           comquack   \n",
       "1579            1989  76561198014848587   \n",
       "1962            1990  76561198000121873   \n",
       "...              ...                ...   \n",
       "763388          2017        zwanzigdrei   \n",
       "763389          2017        zxcvbnm6995   \n",
       "763393          2017          zychicken   \n",
       "763399          2017          zzbrunozz   \n",
       "763402          2017        zzoptimuszz   \n",
       "\n",
       "                                                   genres  playtime_forever  \n",
       "122     Pixel Graphics, Retro, Point & Click, 1990's, ...              0.01  \n",
       "123     Pixel Graphics, Retro, Point & Click, 1990's, ...              0.02  \n",
       "1190    Turn-Based, Sci-fi, Singleplayer, RPG, Action,...              0.04  \n",
       "1579      Retro, Strategy, Simulation, Adventure, Classic              0.02  \n",
       "1962    Action, Sci-fi, Platformer, Singleplayer, 2D, ...              0.01  \n",
       "...                                                   ...               ...  \n",
       "763388  Difficult, Singleplayer, Exploration, Simulati...              0.01  \n",
       "763389  Singleplayer, Hack and Slash, Free to PlayFree...              0.05  \n",
       "763393  Singleplayer, Platformer, Third-Person Shooter...              0.01  \n",
       "763399  Singleplayer, Third-Person Shooter, Simulation...              0.04  \n",
       "763402  PvE, Singleplayer, Platformer, Third-Person Sh...              0.05  \n",
       "\n",
       "[320238 rows x 4 columns]"
      ]
     },
     "execution_count": 19,
     "metadata": {},
     "output_type": "execute_result"
    }
   ],
   "source": [
    "tabla_endpoint_2"
   ]
  },
  {
   "cell_type": "code",
   "execution_count": 20,
   "metadata": {},
   "outputs": [
    {
     "name": "stdout",
     "output_type": "stream",
     "text": [
      "<class 'pandas.core.frame.DataFrame'>\n",
      "Int64Index: 320238 entries, 122 to 763402\n",
      "Data columns (total 4 columns):\n",
      " #   Column            Non-Null Count   Dtype  \n",
      "---  ------            --------------   -----  \n",
      " 0   release_year      320238 non-null  int64  \n",
      " 1   user_id           320238 non-null  object \n",
      " 2   genres            320238 non-null  object \n",
      " 3   playtime_forever  320238 non-null  float64\n",
      "dtypes: float64(1), int64(1), object(2)\n",
      "memory usage: 12.2+ MB\n"
     ]
    }
   ],
   "source": [
    "tabla_endpoint_2.info()"
   ]
  },
  {
   "cell_type": "markdown",
   "metadata": {},
   "source": [
    "## Lectura de tabla consulta"
   ]
  },
  {
   "cell_type": "markdown",
   "metadata": {},
   "source": [
    "**Retornaremos el usuario que acumula más horas jugadas para el género dado y una lista de la acumulación de horas jugadas por año**"
   ]
  },
  {
   "cell_type": "code",
   "execution_count": 3,
   "metadata": {},
   "outputs": [],
   "source": [
    "path_endpoint_2 = os.path.join('..','data','clear','02_user_for_genre_data_v2.csv.gz')\n",
    "table_2 = pd.read_csv(path_endpoint_2,compression='gzip')"
   ]
  },
  {
   "cell_type": "code",
   "execution_count": 4,
   "metadata": {},
   "outputs": [
    {
     "name": "stdout",
     "output_type": "stream",
     "text": [
      "<class 'pandas.core.frame.DataFrame'>\n",
      "RangeIndex: 320238 entries, 0 to 320237\n",
      "Data columns (total 4 columns):\n",
      " #   Column            Non-Null Count   Dtype  \n",
      "---  ------            --------------   -----  \n",
      " 0   release_year      320238 non-null  int64  \n",
      " 1   user_id           320238 non-null  object \n",
      " 2   genres            320238 non-null  object \n",
      " 3   playtime_forever  320238 non-null  float64\n",
      "dtypes: float64(1), int64(1), object(2)\n",
      "memory usage: 530.3 MB\n",
      "None\n"
     ]
    }
   ],
   "source": [
    "print(table_2.info(memory_usage='deep'))"
   ]
  },
  {
   "cell_type": "markdown",
   "metadata": {},
   "source": [
    "## Construcción de la consulta\n",
    "- A continuación vamos a realizar las consultas necesarias para encontrar el usuario con mas horas jugadas por genero.\n",
    "Para responder este problema vamos a ejemplificar la consulta inspecciónar con un genero particular, en este caso **Action**, luego vamos a construir las consultas para este genero particular"
   ]
  },
  {
   "cell_type": "code",
   "execution_count": 50,
   "metadata": {},
   "outputs": [],
   "source": [
    "genre = 'Action'"
   ]
  },
  {
   "cell_type": "code",
   "execution_count": 51,
   "metadata": {},
   "outputs": [],
   "source": [
    "# Filtro la tabla para quedarme únicamente con registros que contengan el género deseado\n",
    "genre_filter = table_2[table_2['genres'].str.contains(genre)]\n"
   ]
  },
  {
   "cell_type": "code",
   "execution_count": 52,
   "metadata": {},
   "outputs": [
    {
     "data": {
      "text/html": [
       "<div>\n",
       "<style scoped>\n",
       "    .dataframe tbody tr th:only-of-type {\n",
       "        vertical-align: middle;\n",
       "    }\n",
       "\n",
       "    .dataframe tbody tr th {\n",
       "        vertical-align: top;\n",
       "    }\n",
       "\n",
       "    .dataframe thead th {\n",
       "        text-align: right;\n",
       "    }\n",
       "</style>\n",
       "<table border=\"1\" class=\"dataframe\">\n",
       "  <thead>\n",
       "    <tr style=\"text-align: right;\">\n",
       "      <th></th>\n",
       "      <th>release_year</th>\n",
       "      <th>user_id</th>\n",
       "      <th>genres</th>\n",
       "      <th>playtime_forever</th>\n",
       "    </tr>\n",
       "  </thead>\n",
       "  <tbody>\n",
       "    <tr>\n",
       "      <th>0</th>\n",
       "      <td>1983</td>\n",
       "      <td>2Ta4</td>\n",
       "      <td>FMV, Cartoon, Short, Casual, Arcade, Retro, Di...</td>\n",
       "      <td>0.30</td>\n",
       "    </tr>\n",
       "    <tr>\n",
       "      <th>1</th>\n",
       "      <td>1983</td>\n",
       "      <td>76561197960324641</td>\n",
       "      <td>FMV, Cartoon, Short, Casual, Arcade, Retro, Di...</td>\n",
       "      <td>0.00</td>\n",
       "    </tr>\n",
       "    <tr>\n",
       "      <th>2</th>\n",
       "      <td>1983</td>\n",
       "      <td>76561197966936422</td>\n",
       "      <td>FMV, Cartoon, Short, Casual, Arcade, Retro, Di...</td>\n",
       "      <td>5.52</td>\n",
       "    </tr>\n",
       "    <tr>\n",
       "      <th>3</th>\n",
       "      <td>1983</td>\n",
       "      <td>76561197968887720</td>\n",
       "      <td>FMV, Cartoon, Short, Casual, Arcade, Retro, Di...</td>\n",
       "      <td>0.02</td>\n",
       "    </tr>\n",
       "  </tbody>\n",
       "</table>\n",
       "</div>"
      ],
      "text/plain": [
       "   release_year            user_id  \\\n",
       "0          1983               2Ta4   \n",
       "1          1983  76561197960324641   \n",
       "2          1983  76561197966936422   \n",
       "3          1983  76561197968887720   \n",
       "\n",
       "                                              genres  playtime_forever  \n",
       "0  FMV, Cartoon, Short, Casual, Arcade, Retro, Di...              0.30  \n",
       "1  FMV, Cartoon, Short, Casual, Arcade, Retro, Di...              0.00  \n",
       "2  FMV, Cartoon, Short, Casual, Arcade, Retro, Di...              5.52  \n",
       "3  FMV, Cartoon, Short, Casual, Arcade, Retro, Di...              0.02  "
      ]
     },
     "execution_count": 52,
     "metadata": {},
     "output_type": "execute_result"
    }
   ],
   "source": [
    "genre_filter.head(4)"
   ]
  },
  {
   "cell_type": "code",
   "execution_count": 53,
   "metadata": {},
   "outputs": [],
   "source": [
    "## Sumamos playtime_forever de cada usuario\n",
    "df_sum_play_time = genre_filter.groupby('user_id')['playtime_forever'].sum()"
   ]
  },
  {
   "cell_type": "code",
   "execution_count": 54,
   "metadata": {},
   "outputs": [
    {
     "data": {
      "text/html": [
       "<div>\n",
       "<style scoped>\n",
       "    .dataframe tbody tr th:only-of-type {\n",
       "        vertical-align: middle;\n",
       "    }\n",
       "\n",
       "    .dataframe tbody tr th {\n",
       "        vertical-align: top;\n",
       "    }\n",
       "\n",
       "    .dataframe thead th {\n",
       "        text-align: right;\n",
       "    }\n",
       "</style>\n",
       "<table border=\"1\" class=\"dataframe\">\n",
       "  <thead>\n",
       "    <tr style=\"text-align: right;\">\n",
       "      <th></th>\n",
       "      <th>playtime_forever</th>\n",
       "    </tr>\n",
       "    <tr>\n",
       "      <th>user_id</th>\n",
       "      <th></th>\n",
       "    </tr>\n",
       "  </thead>\n",
       "  <tbody>\n",
       "    <tr>\n",
       "      <th>--000--</th>\n",
       "      <td>2347.71</td>\n",
       "    </tr>\n",
       "    <tr>\n",
       "      <th>--ace--</th>\n",
       "      <td>1172.63</td>\n",
       "    </tr>\n",
       "    <tr>\n",
       "      <th>--ionex--</th>\n",
       "      <td>643.07</td>\n",
       "    </tr>\n",
       "    <tr>\n",
       "      <th>-2SV-vuLB-Kg</th>\n",
       "      <td>803.68</td>\n",
       "    </tr>\n",
       "    <tr>\n",
       "      <th>-404PageNotFound-</th>\n",
       "      <td>3311.12</td>\n",
       "    </tr>\n",
       "    <tr>\n",
       "      <th>...</th>\n",
       "      <td>...</td>\n",
       "    </tr>\n",
       "    <tr>\n",
       "      <th>zzonci</th>\n",
       "      <td>7.15</td>\n",
       "    </tr>\n",
       "    <tr>\n",
       "      <th>zzoptimuszz</th>\n",
       "      <td>1308.28</td>\n",
       "    </tr>\n",
       "    <tr>\n",
       "      <th>zzydrax</th>\n",
       "      <td>77.33</td>\n",
       "    </tr>\n",
       "    <tr>\n",
       "      <th>zzyfo</th>\n",
       "      <td>471.57</td>\n",
       "    </tr>\n",
       "    <tr>\n",
       "      <th>zzzmidmiss</th>\n",
       "      <td>164.45</td>\n",
       "    </tr>\n",
       "  </tbody>\n",
       "</table>\n",
       "<p>68485 rows × 1 columns</p>\n",
       "</div>"
      ],
      "text/plain": [
       "                   playtime_forever\n",
       "user_id                            \n",
       "--000--                     2347.71\n",
       "--ace--                     1172.63\n",
       "--ionex--                    643.07\n",
       "-2SV-vuLB-Kg                 803.68\n",
       "-404PageNotFound-           3311.12\n",
       "...                             ...\n",
       "zzonci                         7.15\n",
       "zzoptimuszz                 1308.28\n",
       "zzydrax                       77.33\n",
       "zzyfo                        471.57\n",
       "zzzmidmiss                   164.45\n",
       "\n",
       "[68485 rows x 1 columns]"
      ]
     },
     "execution_count": 54,
     "metadata": {},
     "output_type": "execute_result"
    }
   ],
   "source": [
    "pd.DataFrame(df_sum_play_time)"
   ]
  },
  {
   "cell_type": "code",
   "execution_count": 55,
   "metadata": {},
   "outputs": [
    {
     "name": "stdout",
     "output_type": "stream",
     "text": [
      "El usurio con mas horas jugadas \n",
      "para el genero Action es REBAS_AS_F-T\n"
     ]
    }
   ],
   "source": [
    "# Usuario con más horas jugadas en total\n",
    "user_max_time = df_sum_play_time.idxmax()\n",
    "\n",
    "print(f'El usurio con mas horas jugadas \\npara el genero {genre} es {user_max_time}')\n"
   ]
  },
  {
   "cell_type": "code",
   "execution_count": 56,
   "metadata": {},
   "outputs": [],
   "source": [
    "# Filtrar solo por los registros del usuario con mayor tiempo de juego y me quedo con las columnas release_year y playtime_forever\n",
    "mask = genre_filter['user_id'] == user_max_time\n",
    "\n",
    "user_filter = genre_filter[mask][['release_year', 'playtime_forever']]"
   ]
  },
  {
   "cell_type": "code",
   "execution_count": 57,
   "metadata": {},
   "outputs": [
    {
     "data": {
      "text/html": [
       "<div>\n",
       "<style scoped>\n",
       "    .dataframe tbody tr th:only-of-type {\n",
       "        vertical-align: middle;\n",
       "    }\n",
       "\n",
       "    .dataframe tbody tr th {\n",
       "        vertical-align: top;\n",
       "    }\n",
       "\n",
       "    .dataframe thead th {\n",
       "        text-align: right;\n",
       "    }\n",
       "</style>\n",
       "<table border=\"1\" class=\"dataframe\">\n",
       "  <thead>\n",
       "    <tr style=\"text-align: right;\">\n",
       "      <th></th>\n",
       "      <th>release_year</th>\n",
       "      <th>playtime_forever</th>\n",
       "    </tr>\n",
       "  </thead>\n",
       "  <tbody>\n",
       "    <tr>\n",
       "      <th>17153</th>\n",
       "      <td>1996</td>\n",
       "      <td>0.00</td>\n",
       "    </tr>\n",
       "    <tr>\n",
       "      <th>36546</th>\n",
       "      <td>1998</td>\n",
       "      <td>0.02</td>\n",
       "    </tr>\n",
       "    <tr>\n",
       "      <th>50057</th>\n",
       "      <td>1999</td>\n",
       "      <td>3.75</td>\n",
       "    </tr>\n",
       "    <tr>\n",
       "      <th>64835</th>\n",
       "      <td>2000</td>\n",
       "      <td>0.00</td>\n",
       "    </tr>\n",
       "    <tr>\n",
       "      <th>79718</th>\n",
       "      <td>2001</td>\n",
       "      <td>0.18</td>\n",
       "    </tr>\n",
       "  </tbody>\n",
       "</table>\n",
       "</div>"
      ],
      "text/plain": [
       "       release_year  playtime_forever\n",
       "17153          1996              0.00\n",
       "36546          1998              0.02\n",
       "50057          1999              3.75\n",
       "64835          2000              0.00\n",
       "79718          2001              0.18"
      ]
     },
     "execution_count": 57,
     "metadata": {},
     "output_type": "execute_result"
    }
   ],
   "source": [
    "user_filter.head(5)"
   ]
  },
  {
   "cell_type": "code",
   "execution_count": 58,
   "metadata": {},
   "outputs": [
    {
     "data": {
      "text/html": [
       "<div>\n",
       "<style scoped>\n",
       "    .dataframe tbody tr th:only-of-type {\n",
       "        vertical-align: middle;\n",
       "    }\n",
       "\n",
       "    .dataframe tbody tr th {\n",
       "        vertical-align: top;\n",
       "    }\n",
       "\n",
       "    .dataframe thead th {\n",
       "        text-align: right;\n",
       "    }\n",
       "</style>\n",
       "<table border=\"1\" class=\"dataframe\">\n",
       "  <thead>\n",
       "    <tr style=\"text-align: right;\">\n",
       "      <th></th>\n",
       "      <th>release_year</th>\n",
       "      <th>playtime_forever</th>\n",
       "    </tr>\n",
       "  </thead>\n",
       "  <tbody>\n",
       "    <tr>\n",
       "      <th>17153</th>\n",
       "      <td>1996</td>\n",
       "      <td>0.00</td>\n",
       "    </tr>\n",
       "    <tr>\n",
       "      <th>36546</th>\n",
       "      <td>1998</td>\n",
       "      <td>0.02</td>\n",
       "    </tr>\n",
       "    <tr>\n",
       "      <th>50057</th>\n",
       "      <td>1999</td>\n",
       "      <td>3.75</td>\n",
       "    </tr>\n",
       "    <tr>\n",
       "      <th>64835</th>\n",
       "      <td>2000</td>\n",
       "      <td>0.00</td>\n",
       "    </tr>\n",
       "    <tr>\n",
       "      <th>79718</th>\n",
       "      <td>2001</td>\n",
       "      <td>0.18</td>\n",
       "    </tr>\n",
       "    <tr>\n",
       "      <th>93224</th>\n",
       "      <td>2002</td>\n",
       "      <td>0.02</td>\n",
       "    </tr>\n",
       "    <tr>\n",
       "      <th>111602</th>\n",
       "      <td>2003</td>\n",
       "      <td>31.05</td>\n",
       "    </tr>\n",
       "    <tr>\n",
       "      <th>142419</th>\n",
       "      <td>2004</td>\n",
       "      <td>151.70</td>\n",
       "    </tr>\n",
       "    <tr>\n",
       "      <th>168447</th>\n",
       "      <td>2005</td>\n",
       "      <td>54.89</td>\n",
       "    </tr>\n",
       "    <tr>\n",
       "      <th>211548</th>\n",
       "      <td>2006</td>\n",
       "      <td>30.78</td>\n",
       "    </tr>\n",
       "    <tr>\n",
       "      <th>247807</th>\n",
       "      <td>2007</td>\n",
       "      <td>173.75</td>\n",
       "    </tr>\n",
       "    <tr>\n",
       "      <th>280778</th>\n",
       "      <td>2008</td>\n",
       "      <td>215.04</td>\n",
       "    </tr>\n",
       "    <tr>\n",
       "      <th>325864</th>\n",
       "      <td>2009</td>\n",
       "      <td>1028.71</td>\n",
       "    </tr>\n",
       "    <tr>\n",
       "      <th>374370</th>\n",
       "      <td>2010</td>\n",
       "      <td>1215.96</td>\n",
       "    </tr>\n",
       "    <tr>\n",
       "      <th>428717</th>\n",
       "      <td>2011</td>\n",
       "      <td>3103.64</td>\n",
       "    </tr>\n",
       "    <tr>\n",
       "      <th>488353</th>\n",
       "      <td>2012</td>\n",
       "      <td>4459.36</td>\n",
       "    </tr>\n",
       "    <tr>\n",
       "      <th>546125</th>\n",
       "      <td>2013</td>\n",
       "      <td>6805.02</td>\n",
       "    </tr>\n",
       "    <tr>\n",
       "      <th>601210</th>\n",
       "      <td>2014</td>\n",
       "      <td>7992.97</td>\n",
       "    </tr>\n",
       "    <tr>\n",
       "      <th>653941</th>\n",
       "      <td>2015</td>\n",
       "      <td>17897.55</td>\n",
       "    </tr>\n",
       "    <tr>\n",
       "      <th>702074</th>\n",
       "      <td>2016</td>\n",
       "      <td>22049.68</td>\n",
       "    </tr>\n",
       "    <tr>\n",
       "      <th>749645</th>\n",
       "      <td>2017</td>\n",
       "      <td>584.46</td>\n",
       "    </tr>\n",
       "  </tbody>\n",
       "</table>\n",
       "</div>"
      ],
      "text/plain": [
       "        release_year  playtime_forever\n",
       "17153           1996              0.00\n",
       "36546           1998              0.02\n",
       "50057           1999              3.75\n",
       "64835           2000              0.00\n",
       "79718           2001              0.18\n",
       "93224           2002              0.02\n",
       "111602          2003             31.05\n",
       "142419          2004            151.70\n",
       "168447          2005             54.89\n",
       "211548          2006             30.78\n",
       "247807          2007            173.75\n",
       "280778          2008            215.04\n",
       "325864          2009           1028.71\n",
       "374370          2010           1215.96\n",
       "428717          2011           3103.64\n",
       "488353          2012           4459.36\n",
       "546125          2013           6805.02\n",
       "601210          2014           7992.97\n",
       "653941          2015          17897.55\n",
       "702074          2016          22049.68\n",
       "749645          2017            584.46"
      ]
     },
     "execution_count": 58,
     "metadata": {},
     "output_type": "execute_result"
    }
   ],
   "source": [
    "# Este es el tiempo acumulado jugado por el usuario con mas tiempo jugado con el genero action.\n",
    "pd.DataFrame(user_filter)"
   ]
  },
  {
   "cell_type": "code",
   "execution_count": 59,
   "metadata": {},
   "outputs": [],
   "source": [
    "# Retornaremos como una lista de diccionarios del estilo\n",
    "# {year : playtime_forever_cum }\n",
    "\n",
    "target = user_filter.rename(columns={'release_year': 'year', 'playtime_forever': 'total_horas'}).to_dict(orient='records')"
   ]
  },
  {
   "cell_type": "code",
   "execution_count": 60,
   "metadata": {},
   "outputs": [
    {
     "data": {
      "text/plain": [
       "[{'year': 1996, 'total_horas': 0.0},\n",
       " {'year': 1998, 'total_horas': 0.02},\n",
       " {'year': 1999, 'total_horas': 3.75},\n",
       " {'year': 2000, 'total_horas': 0.0},\n",
       " {'year': 2001, 'total_horas': 0.18}]"
      ]
     },
     "execution_count": 60,
     "metadata": {},
     "output_type": "execute_result"
    }
   ],
   "source": [
    "target[:5]"
   ]
  },
  {
   "cell_type": "code",
   "execution_count": 61,
   "metadata": {},
   "outputs": [
    {
     "name": "stdout",
     "output_type": "stream",
     "text": [
      "Usuario con más horas jugadas para Género Action: es REBAS_AS_F-T, \n",
      "Horas jugadas:\n"
     ]
    },
    {
     "data": {
      "text/plain": [
       "[{'year': 1996, 'total_horas': 0.0},\n",
       " {'year': 1998, 'total_horas': 0.02},\n",
       " {'year': 1999, 'total_horas': 3.75},\n",
       " {'year': 2000, 'total_horas': 0.0},\n",
       " {'year': 2001, 'total_horas': 0.18},\n",
       " {'year': 2002, 'total_horas': 0.02},\n",
       " {'year': 2003, 'total_horas': 31.05},\n",
       " {'year': 2004, 'total_horas': 151.7},\n",
       " {'year': 2005, 'total_horas': 54.89000000000001},\n",
       " {'year': 2006, 'total_horas': 30.78},\n",
       " {'year': 2007, 'total_horas': 173.75},\n",
       " {'year': 2008, 'total_horas': 215.04},\n",
       " {'year': 2009, 'total_horas': 1028.71},\n",
       " {'year': 2010, 'total_horas': 1215.96},\n",
       " {'year': 2011, 'total_horas': 3103.64},\n",
       " {'year': 2012, 'total_horas': 4459.36},\n",
       " {'year': 2013, 'total_horas': 6805.02},\n",
       " {'year': 2014, 'total_horas': 7992.97},\n",
       " {'year': 2015, 'total_horas': 17897.55},\n",
       " {'year': 2016, 'total_horas': 22049.68},\n",
       " {'year': 2017, 'total_horas': 584.46}]"
      ]
     },
     "execution_count": 61,
     "metadata": {},
     "output_type": "execute_result"
    }
   ],
   "source": [
    "print(f\"Usuario con más horas jugadas para Género {genre}: es {user_max_time}, \\nHoras jugadas:\")\n",
    "target"
   ]
  },
  {
   "cell_type": "markdown",
   "metadata": {},
   "source": [
    "## Función UserForGenre"
   ]
  },
  {
   "cell_type": "code",
   "execution_count": 1,
   "metadata": {},
   "outputs": [
    {
     "ename": "ModuleNotFoundError",
     "evalue": "No module named 'memory_profiler'",
     "output_type": "error",
     "traceback": [
      "\u001b[0;31m---------------------------------------------------------------------------\u001b[0m",
      "\u001b[0;31mModuleNotFoundError\u001b[0m                       Traceback (most recent call last)",
      "\u001b[1;32m/home/pc/Documentos/henry/Steam_games_PI_1/03_Endpoints/02_user_for_genre.ipynb Cell 44\u001b[0m line \u001b[0;36m1\n\u001b[0;32m----> <a href='vscode-notebook-cell:/home/pc/Documentos/henry/Steam_games_PI_1/03_Endpoints/02_user_for_genre.ipynb#X61sZmlsZQ%3D%3D?line=0'>1</a>\u001b[0m \u001b[39mfrom\u001b[39;00m \u001b[39mmemory_profiler\u001b[39;00m \u001b[39mimport\u001b[39;00m profile\n\u001b[1;32m      <a href='vscode-notebook-cell:/home/pc/Documentos/henry/Steam_games_PI_1/03_Endpoints/02_user_for_genre.ipynb#X61sZmlsZQ%3D%3D?line=2'>3</a>\u001b[0m \u001b[39m@profile\u001b[39m\n\u001b[1;32m      <a href='vscode-notebook-cell:/home/pc/Documentos/henry/Steam_games_PI_1/03_Endpoints/02_user_for_genre.ipynb#X61sZmlsZQ%3D%3D?line=3'>4</a>\u001b[0m \u001b[39mdef\u001b[39;00m \u001b[39muser_for_genre\u001b[39m(genre :\u001b[39mstr\u001b[39m):\n\u001b[1;32m      <a href='vscode-notebook-cell:/home/pc/Documentos/henry/Steam_games_PI_1/03_Endpoints/02_user_for_genre.ipynb#X61sZmlsZQ%3D%3D?line=4'>5</a>\u001b[0m   path_endpoint_2 \u001b[39m=\u001b[39m os\u001b[39m.\u001b[39mpath\u001b[39m.\u001b[39mjoin(\u001b[39m'\u001b[39m\u001b[39m..\u001b[39m\u001b[39m'\u001b[39m,\u001b[39m'\u001b[39m\u001b[39mdata\u001b[39m\u001b[39m'\u001b[39m,\u001b[39m'\u001b[39m\u001b[39mclear\u001b[39m\u001b[39m'\u001b[39m,\u001b[39m'\u001b[39m\u001b[39m02_user_for_genre_data.csv.gz\u001b[39m\u001b[39m'\u001b[39m)\n",
      "\u001b[0;31mModuleNotFoundError\u001b[0m: No module named 'memory_profiler'"
     ]
    }
   ],
   "source": [
    "from memory_profiler import profile\n",
    "\n",
    "@profile\n",
    "def user_for_genre(genre :str):\n",
    "  path_endpoint_2 = os.path.join('..','data','clear','02_user_for_genre_data.csv.gz')\n",
    "  table_2 = pd.read_csv(path_endpoint_2)\n",
    "\n",
    "  ## Filtro la tabla para quedarme unicamente con registros que contengan el genero deseado\n",
    "  genre_filter = table_2[table_2['genres'].str.contains(genre)]\n",
    "  \n",
    "  ## usuario con mayor tiempo de juego acumulado\n",
    "  df_sum_play_time =  genre_filter[['user_id','playtime_forever']].groupby(['user_id']).sum()\n",
    "  \n",
    "  # usuario con mas horas jugadas en total\n",
    "  if len(df_sum_play_time) > 0:\n",
    "    user_max_time = df_sum_play_time.idxmax().iloc[0]\n",
    "  else:\n",
    "    return ('No existe usuario que haya jugado este juego')\n",
    "  \n",
    "  ## Filtraremos solo por los registros del usuario con mayor tiempo de juego\n",
    "  ## nos quedamos con el año de lanzamiento y el tiempo de juego\n",
    "  mask = genre_filter['user_id'] == user_max_time\n",
    "  user_filter = genre_filter[mask][['release_year','playtime_forever']]\n",
    "  \n",
    "  # Sumamos las horas jugadas del usuario por añoprofile\n",
    "  user_filter_sum = user_filter.groupby('release_year').sum().reset_index()\n",
    "  \n",
    "  target = user_filter_sum.rename(columns={'release_year':'year'})[['year', 'playtime_forever']].to_dict(orient='records')\n",
    "  return {f\"Usuario con más horas jugadas para Género {genre}\" : user_max_time, \"Horas jugadas\": target}"
   ]
  },
  {
   "cell_type": "code",
   "execution_count": 9,
   "metadata": {},
   "outputs": [
    {
     "name": "stdout",
     "output_type": "stream",
     "text": [
      "ERROR: Could not find file /tmp/ipykernel_17756/2145153599.py\n"
     ]
    },
    {
     "data": {
      "text/plain": [
       "{'Usuario con más horas jugadas para Género Action': 'REBAS_AS_F-T',\n",
       " 'Horas jugadas': [{'year': 1996, 'playtime_forever': 0.0},\n",
       "  {'year': 1998, 'playtime_forever': 0.02},\n",
       "  {'year': 1999, 'playtime_forever': 3.75},\n",
       "  {'year': 2000, 'playtime_forever': 0.0},\n",
       "  {'year': 2001, 'playtime_forever': 0.18},\n",
       "  {'year': 2002, 'playtime_forever': 0.02},\n",
       "  {'year': 2003, 'playtime_forever': 31.05},\n",
       "  {'year': 2004, 'playtime_forever': 151.7},\n",
       "  {'year': 2005, 'playtime_forever': 54.89000000000001},\n",
       "  {'year': 2006, 'playtime_forever': 30.78},\n",
       "  {'year': 2007, 'playtime_forever': 173.75},\n",
       "  {'year': 2008, 'playtime_forever': 215.04},\n",
       "  {'year': 2009, 'playtime_forever': 1028.71},\n",
       "  {'year': 2010, 'playtime_forever': 1215.96},\n",
       "  {'year': 2011, 'playtime_forever': 3103.64},\n",
       "  {'year': 2012, 'playtime_forever': 4459.36},\n",
       "  {'year': 2013, 'playtime_forever': 6805.02},\n",
       "  {'year': 2014, 'playtime_forever': 7992.97},\n",
       "  {'year': 2015, 'playtime_forever': 17897.55},\n",
       "  {'year': 2016, 'playtime_forever': 22049.68},\n",
       "  {'year': 2017, 'playtime_forever': 584.46}]}"
      ]
     },
     "execution_count": 9,
     "metadata": {},
     "output_type": "execute_result"
    }
   ],
   "source": [
    "user_for_genre('Action')\n"
   ]
  },
  {
   "cell_type": "code",
   "execution_count": null,
   "metadata": {},
   "outputs": [],
   "source": [
    "user_items['playtime_forever'][user_items['user_id']=='REBAS_AS_F-T'].sum()"
   ]
  }
 ],
 "metadata": {
  "kernelspec": {
   "display_name": "env",
   "language": "python",
   "name": "python3"
  },
  "language_info": {
   "codemirror_mode": {
    "name": "ipython",
    "version": 3
   },
   "file_extension": ".py",
   "mimetype": "text/x-python",
   "name": "python",
   "nbconvert_exporter": "python",
   "pygments_lexer": "ipython3",
   "version": "3.10.12"
  }
 },
 "nbformat": 4,
 "nbformat_minor": 2
}
