{
 "cells": [
  {
   "cell_type": "code",
   "execution_count": 119,
   "metadata": {},
   "outputs": [],
   "source": [
    "import pandas as pd\n",
    "import os\n",
    "\n",
    "path_reviews = os.path.join('..','data','clear','user_reviews.csv.gz')\n",
    "path_steam_games = os.path.join('..','data','clear','steam_games.csv.gz')"
   ]
  },
  {
   "cell_type": "code",
   "execution_count": 120,
   "metadata": {},
   "outputs": [],
   "source": [
    "## Cargamos la data necesaria para solucionar este problema.\n",
    "\n",
    "steam_colums = ['id','app_name','publisher','genres','price','developer','release_year']\n",
    "# steam_colums = ['id','app_name','release_year']\n",
    "steam_games = pd.read_csv(path_steam_games,usecols=steam_colums)\n",
    "\n",
    "## renombraremos la columna id por steam_id\n",
    "steam_games.rename(columns={'id':'steam_id'}, inplace=True)\n"
   ]
  },
  {
   "cell_type": "code",
   "execution_count": 121,
   "metadata": {},
   "outputs": [
    {
     "data": {
      "text/html": [
       "<div>\n",
       "<style scoped>\n",
       "    .dataframe tbody tr th:only-of-type {\n",
       "        vertical-align: middle;\n",
       "    }\n",
       "\n",
       "    .dataframe tbody tr th {\n",
       "        vertical-align: top;\n",
       "    }\n",
       "\n",
       "    .dataframe thead th {\n",
       "        text-align: right;\n",
       "    }\n",
       "</style>\n",
       "<table border=\"1\" class=\"dataframe\">\n",
       "  <thead>\n",
       "    <tr style=\"text-align: right;\">\n",
       "      <th></th>\n",
       "      <th>publisher</th>\n",
       "      <th>genres</th>\n",
       "      <th>app_name</th>\n",
       "      <th>price</th>\n",
       "      <th>steam_id</th>\n",
       "      <th>developer</th>\n",
       "      <th>release_year</th>\n",
       "    </tr>\n",
       "  </thead>\n",
       "  <tbody>\n",
       "    <tr>\n",
       "      <th>0</th>\n",
       "      <td>Kotoshiro</td>\n",
       "      <td>Strategy, Action, Indie, Casual, Simulation</td>\n",
       "      <td>Lost summoner kitty</td>\n",
       "      <td>4.99</td>\n",
       "      <td>761140.0</td>\n",
       "      <td>Kotoshiro</td>\n",
       "      <td>2018</td>\n",
       "    </tr>\n",
       "    <tr>\n",
       "      <th>1</th>\n",
       "      <td>Making fun, inc.</td>\n",
       "      <td>Free to Play, Strategy, Indie, RPG, Card Game,...</td>\n",
       "      <td>Ironbound</td>\n",
       "      <td>0.00</td>\n",
       "      <td>643980.0</td>\n",
       "      <td>Secret level srl</td>\n",
       "      <td>2018</td>\n",
       "    </tr>\n",
       "    <tr>\n",
       "      <th>2</th>\n",
       "      <td>Poolians.com</td>\n",
       "      <td>Free to Play, Simulation, Sports, Casual, Indi...</td>\n",
       "      <td>Real pool 3d - poolians</td>\n",
       "      <td>0.00</td>\n",
       "      <td>670290.0</td>\n",
       "      <td>Poolians.com</td>\n",
       "      <td>2017</td>\n",
       "    </tr>\n",
       "    <tr>\n",
       "      <th>3</th>\n",
       "      <td>彼岸领域</td>\n",
       "      <td>Action, Adventure, Casual</td>\n",
       "      <td>弹炸人2222</td>\n",
       "      <td>0.99</td>\n",
       "      <td>767400.0</td>\n",
       "      <td>彼岸领域</td>\n",
       "      <td>2017</td>\n",
       "    </tr>\n",
       "  </tbody>\n",
       "</table>\n",
       "</div>"
      ],
      "text/plain": [
       "          publisher                                             genres  \\\n",
       "0         Kotoshiro        Strategy, Action, Indie, Casual, Simulation   \n",
       "1  Making fun, inc.  Free to Play, Strategy, Indie, RPG, Card Game,...   \n",
       "2      Poolians.com  Free to Play, Simulation, Sports, Casual, Indi...   \n",
       "3              彼岸领域                          Action, Adventure, Casual   \n",
       "\n",
       "                  app_name  price  steam_id         developer  release_year  \n",
       "0      Lost summoner kitty   4.99  761140.0         Kotoshiro          2018  \n",
       "1                Ironbound   0.00  643980.0  Secret level srl          2018  \n",
       "2  Real pool 3d - poolians   0.00  670290.0      Poolians.com          2017  \n",
       "3                  弹炸人2222   0.99  767400.0              彼岸领域          2017  "
      ]
     },
     "execution_count": 121,
     "metadata": {},
     "output_type": "execute_result"
    }
   ],
   "source": [
    "steam_games.head(4)"
   ]
  },
  {
   "cell_type": "code",
   "execution_count": 122,
   "metadata": {},
   "outputs": [],
   "source": [
    "import pandas as pd\n",
    "from collections import Counter\n",
    "from itertools import chain\n",
    "\n",
    "def select_n_best(caracteristica, n):\n",
    "    \n",
    "    # Dividir las palabras en cada fila y contar la frecuencia de cada palabra\n",
    "    conteo_palabras = Counter(chain.from_iterable(caracteristica.str.split(', ')))\n",
    "\n",
    "    # Obtener las n palabras más comunes\n",
    "    palabras_mas_comunes = conteo_palabras.most_common(n)\n",
    "\n",
    "    print(\"Palabras más comunes:\")\n",
    "    for palabra, frecuencia in palabras_mas_comunes:\n",
    "        print(f\"{palabra}: {frecuencia}\")\n",
    "    \n",
    "    return([palabras_mas_comunes[i][0] for i in range(n)])"
   ]
  },
  {
   "cell_type": "code",
   "execution_count": 123,
   "metadata": {},
   "outputs": [
    {
     "data": {
      "text/plain": [
       "0              Strategy, Action, Indie, Casual, Simulation\n",
       "1        Free to Play, Strategy, Indie, RPG, Card Game,...\n",
       "2        Free to Play, Simulation, Sports, Casual, Indi...\n",
       "3                                Action, Adventure, Casual\n",
       "4                            Action, Indie, Casual, Sports\n",
       "                               ...                        \n",
       "29970                  Strategy, Indie, Casual, Simulation\n",
       "29971                              Strategy, Indie, Casual\n",
       "29972                            Indie, Simulation, Racing\n",
       "29973    Indie, Casual, Puzzle, Singleplayer, Atmospher...\n",
       "29974    Early Access, Adventure, Indie, Action, Simula...\n",
       "Name: genres, Length: 29975, dtype: object"
      ]
     },
     "execution_count": 123,
     "metadata": {},
     "output_type": "execute_result"
    }
   ],
   "source": [
    "steam_games['genres']"
   ]
  },
  {
   "cell_type": "code",
   "execution_count": 124,
   "metadata": {},
   "outputs": [
    {
     "name": "stdout",
     "output_type": "stream",
     "text": [
      "Palabras más comunes:\n",
      "Indie: 16783\n",
      "Action: 12320\n",
      "Casual: 9471\n",
      "Adventure: 9344\n",
      "Simulation: 7508\n",
      "Strategy: 7289\n",
      "RPG: 5552\n",
      "Singleplayer: 4268\n",
      "Multiplayer: 2283\n",
      "Great Soundtrack: 2185\n"
     ]
    }
   ],
   "source": [
    "palabras_mas_relevantes = select_n_best(steam_games['genres'], 10)"
   ]
  },
  {
   "cell_type": "code",
   "execution_count": 125,
   "metadata": {},
   "outputs": [],
   "source": [
    "def drop_not_important(genres):\n",
    "  return(', ').join([palabra for palabra in genres.split(', ') if palabra.capitalize() in palabras_mas_relevantes])\n"
   ]
  },
  {
   "cell_type": "code",
   "execution_count": 126,
   "metadata": {},
   "outputs": [],
   "source": [
    "steam_games['genres'] = steam_games['genres'].apply(drop_not_important)"
   ]
  },
  {
   "cell_type": "code",
   "execution_count": 127,
   "metadata": {},
   "outputs": [],
   "source": [
    "\n",
    "cols_concatenate = ['app_name','developer','genres']\n",
    "\n",
    "steam_games['features'] = steam_games[cols_concatenate].apply(lambda row: ', '.join(row), axis=1)"
   ]
  },
  {
   "cell_type": "code",
   "execution_count": 128,
   "metadata": {},
   "outputs": [],
   "source": [
    "consulta = steam_games[['steam_id','features']].head(5000)"
   ]
  },
  {
   "cell_type": "code",
   "execution_count": 129,
   "metadata": {},
   "outputs": [],
   "source": [
    "import nltk\n",
    "from nltk.corpus import stopwords\n",
    "\n",
    "#Eliminaremos las stopwords\n",
    "\n",
    "stop_words_steams = ['op','based','co','first','000', '101', '102', '18', '2008']\n",
    "stop = list(stopwords.words('english'))\n",
    "stop += stop_words_steams"
   ]
  },
  {
   "cell_type": "code",
   "execution_count": 130,
   "metadata": {},
   "outputs": [],
   "source": [
    "import os \n",
    "import pandas as pd\n",
    "\n",
    "from sklearn.metrics.pairwise import cosine_similarity, linear_kernel\n",
    "\n",
    "from sklearn.feature_extraction.text import TfidfVectorizer, CountVectorizer"
   ]
  },
  {
   "cell_type": "code",
   "execution_count": 131,
   "metadata": {},
   "outputs": [],
   "source": [
    "tf = TfidfVectorizer(stop_words=stop)"
   ]
  },
  {
   "cell_type": "code",
   "execution_count": 132,
   "metadata": {},
   "outputs": [],
   "source": [
    "tf_idf_matrix_prueba =tf.fit_transform(consulta['features'])"
   ]
  },
  {
   "cell_type": "code",
   "execution_count": 99,
   "metadata": {},
   "outputs": [],
   "source": [
    "# tf.get_feature_names_out()"
   ]
  },
  {
   "cell_type": "code",
   "execution_count": 133,
   "metadata": {},
   "outputs": [
    {
     "data": {
      "text/plain": [
       "(5000, 7883)"
      ]
     },
     "execution_count": 133,
     "metadata": {},
     "output_type": "execute_result"
    }
   ],
   "source": [
    "tf_idf_matrix_prueba.toarray().shape"
   ]
  },
  {
   "cell_type": "code",
   "execution_count": 134,
   "metadata": {},
   "outputs": [],
   "source": [
    "data_vector_df = pd.DataFrame(tf_idf_matrix_prueba.toarray(),\n",
    "                              columns = tf.get_feature_names_out(),\n",
    "                              index = consulta['steam_id'])"
   ]
  },
  {
   "cell_type": "code",
   "execution_count": 136,
   "metadata": {},
   "outputs": [],
   "source": [
    "# data_vector_df"
   ]
  },
  {
   "cell_type": "code",
   "execution_count": 139,
   "metadata": {},
   "outputs": [],
   "source": [
    "vector_similitud_coseno = cosine_similarity(data_vector_df.values)  ## crea la matriz\n",
    "\n",
    "cos_sim_df = pd.DataFrame(vector_similitud_coseno, index=data_vector_df.index, columns=data_vector_df.index)\n",
    "\n",
    "juego_simil = cos_sim_df.loc[2780] ##  se trae la linea 2780 (indice) "
   ]
  },
  {
   "cell_type": "code",
   "execution_count": 142,
   "metadata": {},
   "outputs": [
    {
     "data": {
      "text/plain": [
       "['prueba06.pkl']"
      ]
     },
     "execution_count": 142,
     "metadata": {},
     "output_type": "execute_result"
    }
   ],
   "source": [
    "import joblib\n",
    "\n",
    "joblib.dump(vector_similitud_coseno, 'prueba06.pkl',compress=1)"
   ]
  },
  {
   "cell_type": "markdown",
   "metadata": {},
   "source": [
    "## carga de datos"
   ]
  },
  {
   "cell_type": "code",
   "execution_count": 143,
   "metadata": {},
   "outputs": [],
   "source": [
    "with open('prueba06.pkl','rb') as file:\n",
    "  modelo = joblib.load(file)\n"
   ]
  },
  {
   "cell_type": "code",
   "execution_count": 145,
   "metadata": {},
   "outputs": [
    {
     "data": {
      "text/plain": [
       "array([[1.        , 0.03351191, 0.03482668, ..., 0.03909307, 0.02202796,\n",
       "        0.03446117],\n",
       "       [0.03351191, 1.        , 0.00836192, ..., 0.        , 0.01126954,\n",
       "        0.        ],\n",
       "       [0.03482668, 0.00836192, 1.        , ..., 0.02697959, 0.00732202,\n",
       "        0.02378295],\n",
       "       ...,\n",
       "       [0.03909307, 0.        , 0.02697959, ..., 1.        , 0.        ,\n",
       "        0.65132936],\n",
       "       [0.02202796, 0.01126954, 0.00732202, ..., 0.        , 1.        ,\n",
       "        0.        ],\n",
       "       [0.03446117, 0.        , 0.02378295, ..., 0.65132936, 0.        ,\n",
       "        1.        ]])"
      ]
     },
     "execution_count": 145,
     "metadata": {},
     "output_type": "execute_result"
    }
   ],
   "source": [
    "modelo"
   ]
  },
  {
   "cell_type": "code",
   "execution_count": 114,
   "metadata": {},
   "outputs": [
    {
     "data": {
      "text/plain": [
       "array([[1.        , 0.02744998, 0.02978931, ..., 0.03321324, 0.02254848,\n",
       "        0.06258432],\n",
       "       [0.02744998, 1.        , 0.00594145, ..., 0.01642366, 0.02185189,\n",
       "        0.01248239],\n",
       "       [0.02978931, 0.00594145, 1.        , ..., 0.01105389, 0.        ,\n",
       "        0.04253039],\n",
       "       ...,\n",
       "       [0.03321324, 0.01642366, 0.01105389, ..., 1.        , 0.01979625,\n",
       "        0.02322311],\n",
       "       [0.02254848, 0.02185189, 0.        , ..., 0.01979625, 1.        ,\n",
       "        0.        ],\n",
       "       [0.06258432, 0.01248239, 0.04253039, ..., 0.02322311, 0.        ,\n",
       "        1.        ]])"
      ]
     },
     "execution_count": 114,
     "metadata": {},
     "output_type": "execute_result"
    }
   ],
   "source": [
    "\n",
    "modelo = pd.DataFrame(modelo, index=data_vector_df.index, columns=data_vector_df.index)"
   ]
  },
  {
   "cell_type": "code",
   "execution_count": 104,
   "metadata": {},
   "outputs": [
    {
     "data": {
      "text/plain": [
       "steam_id\n",
       "761140.0    0.029803\n",
       "643980.0    0.083293\n",
       "670290.0    0.012240\n",
       "767400.0    0.014541\n",
       "773570.0    0.016057\n",
       "              ...   \n",
       "684110.0    0.000000\n",
       "349790.0    0.000000\n",
       "670700.0    0.015813\n",
       "665310.0    0.000000\n",
       "563420.0    0.025715\n",
       "Name: 2780.0, Length: 10000, dtype: float64"
      ]
     },
     "execution_count": 104,
     "metadata": {},
     "output_type": "execute_result"
    }
   ],
   "source": [
    "juego_simil"
   ]
  },
  {
   "cell_type": "code",
   "execution_count": 105,
   "metadata": {},
   "outputs": [],
   "source": [
    "simil_ordenada = juego_simil.sort_values(ascending=False)"
   ]
  },
  {
   "cell_type": "code",
   "execution_count": 106,
   "metadata": {},
   "outputs": [
    {
     "data": {
      "text/plain": [
       "steam_id\n",
       "2780.0      1.000000\n",
       "304380.0    0.639207\n",
       "304400.0    0.606144\n",
       "332350.0    0.526931\n",
       "639600.0    0.526931\n",
       "              ...   \n",
       "533600.0    0.000000\n",
       "319560.0    0.000000\n",
       "533090.0    0.000000\n",
       "421110.0    0.000000\n",
       "380710.0    0.000000\n",
       "Name: 2780.0, Length: 10000, dtype: float64"
      ]
     },
     "execution_count": 106,
     "metadata": {},
     "output_type": "execute_result"
    }
   ],
   "source": [
    "simil_ordenada"
   ]
  },
  {
   "cell_type": "code",
   "execution_count": 107,
   "metadata": {},
   "outputs": [],
   "source": [
    "resultado = simil_ordenada.head(6).reset_index()\n"
   ]
  },
  {
   "cell_type": "code",
   "execution_count": 108,
   "metadata": {},
   "outputs": [
    {
     "data": {
      "text/html": [
       "<div>\n",
       "<style scoped>\n",
       "    .dataframe tbody tr th:only-of-type {\n",
       "        vertical-align: middle;\n",
       "    }\n",
       "\n",
       "    .dataframe tbody tr th {\n",
       "        vertical-align: top;\n",
       "    }\n",
       "\n",
       "    .dataframe thead th {\n",
       "        text-align: right;\n",
       "    }\n",
       "</style>\n",
       "<table border=\"1\" class=\"dataframe\">\n",
       "  <thead>\n",
       "    <tr style=\"text-align: right;\">\n",
       "      <th></th>\n",
       "      <th>steam_id</th>\n",
       "      <th>2780.0</th>\n",
       "    </tr>\n",
       "  </thead>\n",
       "  <tbody>\n",
       "    <tr>\n",
       "      <th>0</th>\n",
       "      <td>2780.0</td>\n",
       "      <td>1.000000</td>\n",
       "    </tr>\n",
       "    <tr>\n",
       "      <th>1</th>\n",
       "      <td>304380.0</td>\n",
       "      <td>0.639207</td>\n",
       "    </tr>\n",
       "    <tr>\n",
       "      <th>2</th>\n",
       "      <td>304400.0</td>\n",
       "      <td>0.606144</td>\n",
       "    </tr>\n",
       "    <tr>\n",
       "      <th>3</th>\n",
       "      <td>332350.0</td>\n",
       "      <td>0.526931</td>\n",
       "    </tr>\n",
       "    <tr>\n",
       "      <th>4</th>\n",
       "      <td>639600.0</td>\n",
       "      <td>0.526931</td>\n",
       "    </tr>\n",
       "    <tr>\n",
       "      <th>5</th>\n",
       "      <td>288520.0</td>\n",
       "      <td>0.487864</td>\n",
       "    </tr>\n",
       "  </tbody>\n",
       "</table>\n",
       "</div>"
      ],
      "text/plain": [
       "   steam_id    2780.0\n",
       "0    2780.0  1.000000\n",
       "1  304380.0  0.639207\n",
       "2  304400.0  0.606144\n",
       "3  332350.0  0.526931\n",
       "4  639600.0  0.526931\n",
       "5  288520.0  0.487864"
      ]
     },
     "execution_count": 108,
     "metadata": {},
     "output_type": "execute_result"
    }
   ],
   "source": [
    "resultado"
   ]
  },
  {
   "cell_type": "code",
   "execution_count": 109,
   "metadata": {},
   "outputs": [
    {
     "name": "stderr",
     "output_type": "stream",
     "text": [
      "/tmp/ipykernel_182850/3647313794.py:3: FutureWarning: The behavior of `series[i:j]` with an integer-dtype index is deprecated. In a future version, this will be treated as *label-based* indexing, consistent with e.g. `series[i]` lookups. To retain the old behavior, use `series.iloc[i:j]`. To get the future behavior, use `series.loc[i:j]`.\n",
      "  list(consulta.merge(resultado).sort_values(2780, ascending=False)['features'].apply(lambda x: x.split(',')[0])[1:6])\n"
     ]
    },
    {
     "data": {
      "text/plain": [
       "['Arma 3 helicopters',\n",
       " 'Arma 3 dlc bundle 1',\n",
       " 'Arma 3 marksmen',\n",
       " 'Arma 3 malden',\n",
       " 'Arma 3 karts']"
      ]
     },
     "execution_count": 109,
     "metadata": {},
     "output_type": "execute_result"
    }
   ],
   "source": [
    "ids = resultado['steam_id']\n",
    "\n",
    "list(consulta.merge(resultado).sort_values(2780, ascending=False)['features'].apply(lambda x: x.split(',')[0])[1:6])\n"
   ]
  }
 ],
 "metadata": {
  "kernelspec": {
   "display_name": "env",
   "language": "python",
   "name": "python3"
  },
  "language_info": {
   "codemirror_mode": {
    "name": "ipython",
    "version": 3
   },
   "file_extension": ".py",
   "mimetype": "text/x-python",
   "name": "python",
   "nbconvert_exporter": "python",
   "pygments_lexer": "ipython3",
   "version": "3.10.12"
  }
 },
 "nbformat": 4,
 "nbformat_minor": 2
}
