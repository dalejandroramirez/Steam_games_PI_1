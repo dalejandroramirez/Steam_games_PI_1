{
 "cells": [
  {
   "cell_type": "code",
   "execution_count": 2,
   "metadata": {},
   "outputs": [],
   "source": [
    "import pandas as pd\n",
    "import os"
   ]
  },
  {
   "cell_type": "code",
   "execution_count": 7,
   "metadata": {},
   "outputs": [],
   "source": [
    "path_data =  os.path.join('..','data','clear','steam_games.csv.gz')\n",
    "\n",
    "steam_games = pd.read_csv(path_data, compression='gzip')"
   ]
  },
  {
   "cell_type": "code",
   "execution_count": 9,
   "metadata": {},
   "outputs": [
    {
     "data": {
      "text/plain": [
       "0              Strategy, Action, Indie, Casual, Simulation\n",
       "1        Free to Play, Strategy, Indie, RPG, Card Game,...\n",
       "2        Free to Play, Simulation, Sports, Casual, Indi...\n",
       "3                                Action, Adventure, Casual\n",
       "4                            Action, Indie, Casual, Sports\n",
       "                               ...                        \n",
       "29970                  Strategy, Indie, Casual, Simulation\n",
       "29971                              Strategy, Indie, Casual\n",
       "29972                            Indie, Simulation, Racing\n",
       "29973    Indie, Casual, Puzzle, Singleplayer, Atmospher...\n",
       "29974    Early Access, Adventure, Indie, Action, Simula...\n",
       "Name: genres, Length: 29975, dtype: object"
      ]
     },
     "execution_count": 9,
     "metadata": {},
     "output_type": "execute_result"
    }
   ],
   "source": [
    "steam_games['genres']"
   ]
  },
  {
   "cell_type": "code",
   "execution_count": 24,
   "metadata": {},
   "outputs": [
    {
     "name": "stdout",
     "output_type": "stream",
     "text": [
      "Palabras más comunes:\n",
      "Indie: 16783\n",
      "Action: 12320\n",
      "Casual: 9471\n",
      "Adventure: 9344\n",
      "Simulation: 7508\n",
      "Strategy: 7289\n",
      "RPG: 5552\n",
      "Singleplayer: 4268\n",
      "Multiplayer: 2283\n",
      "Great Soundtrack: 2185\n",
      "Free to Play: 2183\n",
      "Puzzle: 2075\n",
      "2D: 1915\n",
      "Atmospheric: 1901\n",
      "Early Access: 1839\n",
      "VR: 1707\n",
      "Sports: 1530\n",
      "Platformer: 1420\n",
      "Story Rich: 1417\n",
      "Sci-fi: 1354\n",
      "Fantasy: 1338\n",
      "Difficult: 1289\n",
      "Open World: 1273\n",
      "Horror: 1269\n",
      "Pixel Graphics: 1218\n",
      "Racing: 1188\n",
      "Shooter: 1178\n",
      "Co-op: 1174\n",
      "Massively Multiplayer: 1168\n",
      "Female Protagonist: 1153\n",
      "Anime: 1138\n",
      "Funny: 1089\n",
      "First-Person: 1037\n",
      "Arcade: 958\n",
      "Retro: 943\n",
      "Sandbox: 937\n",
      "Turn-Based: 932\n",
      "FPS: 928\n",
      "Comedy: 873\n",
      "Point & Click: 855\n",
      "Survival: 833\n",
      "Classic: 787\n",
      "Family Friendly: 754\n",
      "Space: 708\n",
      "Gore: 615\n",
      "Third Person: 613\n",
      "Movie: 601\n",
      "Visual Novel: 585\n",
      "Exploration: 582\n",
      "Online Co-Op: 562\n",
      "Cute: 542\n",
      "Shoot 'Em Up: 526\n",
      "Hidden Object: 517\n",
      "Local Co-Op: 503\n",
      "Local Multiplayer: 499\n",
      "Rogue-like: 497\n",
      "Zombies: 496\n",
      "Tactical: 489\n",
      "Utilities: 478\n",
      "Violent: 464\n",
      "RPGMaker: 462\n",
      "Controller: 455\n",
      "Design & Illustration: 454\n",
      "RTS: 448\n",
      "Physics: 442\n",
      "Mystery: 442\n",
      "Turn-Based Strategy: 434\n",
      "Nudity: 413\n",
      "Psychological Horror: 410\n",
      "Replay Value: 383\n",
      "Memes: 373\n",
      "Puzzle-Platformer: 371\n",
      "Historical: 364\n",
      "Fast-Paced: 360\n",
      "Short: 355\n",
      "Side Scroller: 347\n",
      "Building: 343\n",
      "Realistic: 343\n",
      "Action RPG: 332\n",
      "Tower Defense: 332\n",
      "Management: 323\n",
      "Stealth: 319\n",
      "Dark: 314\n",
      "Bullet Hell: 302\n",
      "Music: 300\n",
      "Survival Horror: 298\n",
      "Education: 295\n",
      "Relaxing: 294\n",
      "Hack and Slash: 291\n",
      "Action-Adventure: 288\n",
      "War: 286\n",
      "Crafting: 282\n",
      "Top-Down: 277\n",
      "Walking Simulator: 276\n",
      "4 Player Local: 270\n",
      "JRPG: 270\n",
      "Colorful: 269\n",
      "Party-Based RPG: 262\n",
      "Rogue-lite: 258\n",
      "Web Publishing: 258\n"
     ]
    }
   ],
   "source": [
    "import pandas as pd\n",
    "from collections import Counter\n",
    "from itertools import chain\n",
    "\n",
    "\n",
    "\n",
    "df = pd.DataFrame(steam_games['genres'])\n",
    "\n",
    "# Dividir las palabras en cada fila y contar la frecuencia de cada palabra\n",
    "conteo_palabras = Counter(chain.from_iterable(steam_games['genres'].str.split(', ')))\n",
    "\n",
    "# Obtener las 5 palabras más comunes\n",
    "palabras_mas_comunes = conteo_palabras.most_common(100)\n",
    "\n",
    "print(\"Palabras más comunes:\")\n",
    "for palabra, frecuencia in palabras_mas_comunes:\n",
    "    print(f\"{palabra}: {frecuencia}\")\n"
   ]
  },
  {
   "cell_type": "code",
   "execution_count": 21,
   "metadata": {},
   "outputs": [
    {
     "data": {
      "text/plain": [
       "[('Indie', 16783),\n",
       " ('Action', 12320),\n",
       " ('Casual', 9471),\n",
       " ('Adventure', 9344),\n",
       " ('Simulation', 7508),\n",
       " ('Strategy', 7289),\n",
       " ('RPG', 5552),\n",
       " ('Singleplayer', 4268),\n",
       " ('Multiplayer', 2283),\n",
       " ('Great Soundtrack', 2185),\n",
       " ('Free to Play', 2183),\n",
       " ('Puzzle', 2075),\n",
       " ('2D', 1915),\n",
       " ('Atmospheric', 1901),\n",
       " ('Early Access', 1839),\n",
       " ('VR', 1707),\n",
       " ('Sports', 1530),\n",
       " ('Platformer', 1420),\n",
       " ('Story Rich', 1417),\n",
       " ('Sci-fi', 1354)]"
      ]
     },
     "execution_count": 21,
     "metadata": {},
     "output_type": "execute_result"
    }
   ],
   "source": [
    "palabras_mas_comunes"
   ]
  }
 ],
 "metadata": {
  "kernelspec": {
   "display_name": "env",
   "language": "python",
   "name": "python3"
  },
  "language_info": {
   "codemirror_mode": {
    "name": "ipython",
    "version": 3
   },
   "file_extension": ".py",
   "mimetype": "text/x-python",
   "name": "python",
   "nbconvert_exporter": "python",
   "pygments_lexer": "ipython3",
   "version": "3.10.12"
  }
 },
 "nbformat": 4,
 "nbformat_minor": 2
}
