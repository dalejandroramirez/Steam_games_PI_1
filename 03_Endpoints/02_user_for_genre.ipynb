{
 "cells": [
  {
   "cell_type": "markdown",
   "metadata": {},
   "source": [
    "# User for Genre\n",
    "\n",
    "- User for genre toma como parámetro un género particular, y retorna el usuario  con mayor tiempo jugado para dicho genero.\n",
    "\n",
    "- Para evitar consultas lentas, crearemos una tabla auxiliar que sera agrupada por año y jugador, donde agruparemos los generos en un str y sumaremos el tiempo jugado del usuario."
   ]
  },
  {
   "cell_type": "code",
   "execution_count": 1,
   "metadata": {},
   "outputs": [],
   "source": [
    "import pandas as pd\n",
    "import os\n",
    "\n",
    "path_user = os.path.join('..','data','clear','users_items.csv.gz')\n",
    "path_steam_games = os.path.join('..','data','clear','steam_games.csv.gz')"
   ]
  },
  {
   "cell_type": "markdown",
   "metadata": {},
   "source": [
    "## Carga de data"
   ]
  },
  {
   "cell_type": "markdown",
   "metadata": {},
   "source": [
    " \"\"\"\"   el usuario que acumula más horas jugadas para el género dado y una lista de la acumulación de horas jugadas por año.\n",
    "\"\"\""
   ]
  },
  {
   "cell_type": "code",
   "execution_count": 2,
   "metadata": {},
   "outputs": [],
   "source": [
    "path_user = os.path.join('..','data','clear','users_items.csv.gz')\n",
    "path_steam_games = os.path.join('..','data','clear','steam_games.csv.gz')\n",
    "\n",
    "## Cargamos la data necesaria para solucionar este problema.\n",
    "steam_colums = ['id','genres','release_year']\n",
    "steam_games = pd.read_csv(path_steam_games, usecols = steam_colums)\n",
    "\n",
    "## renombraremos la columna id por steam_id\n",
    "steam_games.rename(columns={'id':'steam_id'}, inplace=True)\n",
    "\n",
    "user_item_cols = ['item_id','user_id','playtime_forever']\n",
    "user_items = pd.read_csv(path_user, usecols = user_item_cols)\n"
   ]
  },
  {
   "cell_type": "code",
   "execution_count": 3,
   "metadata": {},
   "outputs": [
    {
     "data": {
      "text/html": [
       "<div>\n",
       "<style scoped>\n",
       "    .dataframe tbody tr th:only-of-type {\n",
       "        vertical-align: middle;\n",
       "    }\n",
       "\n",
       "    .dataframe tbody tr th {\n",
       "        vertical-align: top;\n",
       "    }\n",
       "\n",
       "    .dataframe thead th {\n",
       "        text-align: right;\n",
       "    }\n",
       "</style>\n",
       "<table border=\"1\" class=\"dataframe\">\n",
       "  <thead>\n",
       "    <tr style=\"text-align: right;\">\n",
       "      <th></th>\n",
       "      <th>genres</th>\n",
       "      <th>steam_id</th>\n",
       "      <th>release_year</th>\n",
       "    </tr>\n",
       "  </thead>\n",
       "  <tbody>\n",
       "    <tr>\n",
       "      <th>0</th>\n",
       "      <td>Strategy, Action, Indie, Casual, Simulation</td>\n",
       "      <td>761140.0</td>\n",
       "      <td>2018</td>\n",
       "    </tr>\n",
       "    <tr>\n",
       "      <th>1</th>\n",
       "      <td>Free to Play, Strategy, Indie, RPG, Card Game,...</td>\n",
       "      <td>643980.0</td>\n",
       "      <td>2018</td>\n",
       "    </tr>\n",
       "    <tr>\n",
       "      <th>2</th>\n",
       "      <td>Free to Play, Simulation, Sports, Casual, Indi...</td>\n",
       "      <td>670290.0</td>\n",
       "      <td>2017</td>\n",
       "    </tr>\n",
       "  </tbody>\n",
       "</table>\n",
       "</div>"
      ],
      "text/plain": [
       "                                              genres  steam_id  release_year\n",
       "0        Strategy, Action, Indie, Casual, Simulation  761140.0          2018\n",
       "1  Free to Play, Strategy, Indie, RPG, Card Game,...  643980.0          2018\n",
       "2  Free to Play, Simulation, Sports, Casual, Indi...  670290.0          2017"
      ]
     },
     "execution_count": 3,
     "metadata": {},
     "output_type": "execute_result"
    }
   ],
   "source": [
    "steam_games.head(3)"
   ]
  },
  {
   "cell_type": "code",
   "execution_count": 4,
   "metadata": {},
   "outputs": [
    {
     "data": {
      "text/html": [
       "<div>\n",
       "<style scoped>\n",
       "    .dataframe tbody tr th:only-of-type {\n",
       "        vertical-align: middle;\n",
       "    }\n",
       "\n",
       "    .dataframe tbody tr th {\n",
       "        vertical-align: top;\n",
       "    }\n",
       "\n",
       "    .dataframe thead th {\n",
       "        text-align: right;\n",
       "    }\n",
       "</style>\n",
       "<table border=\"1\" class=\"dataframe\">\n",
       "  <thead>\n",
       "    <tr style=\"text-align: right;\">\n",
       "      <th></th>\n",
       "      <th>user_id</th>\n",
       "      <th>playtime_forever</th>\n",
       "      <th>item_id</th>\n",
       "    </tr>\n",
       "  </thead>\n",
       "  <tbody>\n",
       "    <tr>\n",
       "      <th>0</th>\n",
       "      <td>76561197970982479</td>\n",
       "      <td>6.0</td>\n",
       "      <td>10.0</td>\n",
       "    </tr>\n",
       "    <tr>\n",
       "      <th>1</th>\n",
       "      <td>76561197970982479</td>\n",
       "      <td>0.0</td>\n",
       "      <td>20.0</td>\n",
       "    </tr>\n",
       "    <tr>\n",
       "      <th>2</th>\n",
       "      <td>76561197970982479</td>\n",
       "      <td>7.0</td>\n",
       "      <td>30.0</td>\n",
       "    </tr>\n",
       "  </tbody>\n",
       "</table>\n",
       "</div>"
      ],
      "text/plain": [
       "             user_id  playtime_forever  item_id\n",
       "0  76561197970982479               6.0     10.0\n",
       "1  76561197970982479               0.0     20.0\n",
       "2  76561197970982479               7.0     30.0"
      ]
     },
     "execution_count": 4,
     "metadata": {},
     "output_type": "execute_result"
    }
   ],
   "source": [
    "user_items.head(3)"
   ]
  },
  {
   "cell_type": "markdown",
   "metadata": {},
   "source": [
    "## Creación de tabla consulta\n",
    "\n",
    "- En esta sección combinaremos steam_games  con user_items, por medio de sus ids.\n",
    "Luego agruparemos por año de y grupo de genero comun, para calcular la suma de tiempos jugados por dicho genero."
   ]
  },
  {
   "cell_type": "code",
   "execution_count": 5,
   "metadata": {},
   "outputs": [],
   "source": [
    "\n",
    "steam_users = steam_games.merge(user_items,\n",
    "                              left_on='steam_id', \n",
    "                              right_on= 'item_id',\n",
    "                              how='inner').drop(columns=['steam_id','item_id'])"
   ]
  },
  {
   "cell_type": "code",
   "execution_count": 6,
   "metadata": {},
   "outputs": [
    {
     "data": {
      "text/html": [
       "<div>\n",
       "<style scoped>\n",
       "    .dataframe tbody tr th:only-of-type {\n",
       "        vertical-align: middle;\n",
       "    }\n",
       "\n",
       "    .dataframe tbody tr th {\n",
       "        vertical-align: top;\n",
       "    }\n",
       "\n",
       "    .dataframe thead th {\n",
       "        text-align: right;\n",
       "    }\n",
       "</style>\n",
       "<table border=\"1\" class=\"dataframe\">\n",
       "  <thead>\n",
       "    <tr style=\"text-align: right;\">\n",
       "      <th></th>\n",
       "      <th>genres</th>\n",
       "      <th>release_year</th>\n",
       "      <th>user_id</th>\n",
       "      <th>playtime_forever</th>\n",
       "    </tr>\n",
       "  </thead>\n",
       "  <tbody>\n",
       "    <tr>\n",
       "      <th>2305042</th>\n",
       "      <td>Early Access, Free to Play, Sandbox, Multiplay...</td>\n",
       "      <td>2014</td>\n",
       "      <td>Lorazx</td>\n",
       "      <td>6.0</td>\n",
       "    </tr>\n",
       "    <tr>\n",
       "      <th>1298808</th>\n",
       "      <td>Early Access, Free to Play, Shooter, Multiplay...</td>\n",
       "      <td>2014</td>\n",
       "      <td>76561198143395684</td>\n",
       "      <td>2584.0</td>\n",
       "    </tr>\n",
       "    <tr>\n",
       "      <th>2060686</th>\n",
       "      <td>RPG, Adventure, Action, Indie, Voxel, Co-op, D...</td>\n",
       "      <td>2015</td>\n",
       "      <td>SubmarineBear</td>\n",
       "      <td>346.0</td>\n",
       "    </tr>\n",
       "    <tr>\n",
       "      <th>433774</th>\n",
       "      <td>Action, Adventure, Hack and Slash, Third Perso...</td>\n",
       "      <td>2010</td>\n",
       "      <td>76561198043305219</td>\n",
       "      <td>0.0</td>\n",
       "    </tr>\n",
       "    <tr>\n",
       "      <th>2096077</th>\n",
       "      <td>World War I, FPS, Multiplayer, War, Historical...</td>\n",
       "      <td>2015</td>\n",
       "      <td>76561198052408414</td>\n",
       "      <td>1375.0</td>\n",
       "    </tr>\n",
       "  </tbody>\n",
       "</table>\n",
       "</div>"
      ],
      "text/plain": [
       "                                                    genres  release_year  \\\n",
       "2305042  Early Access, Free to Play, Sandbox, Multiplay...          2014   \n",
       "1298808  Early Access, Free to Play, Shooter, Multiplay...          2014   \n",
       "2060686  RPG, Adventure, Action, Indie, Voxel, Co-op, D...          2015   \n",
       "433774   Action, Adventure, Hack and Slash, Third Perso...          2010   \n",
       "2096077  World War I, FPS, Multiplayer, War, Historical...          2015   \n",
       "\n",
       "                   user_id  playtime_forever  \n",
       "2305042             Lorazx               6.0  \n",
       "1298808  76561198143395684            2584.0  \n",
       "2060686      SubmarineBear             346.0  \n",
       "433774   76561198043305219               0.0  \n",
       "2096077  76561198052408414            1375.0  "
      ]
     },
     "execution_count": 6,
     "metadata": {},
     "output_type": "execute_result"
    }
   ],
   "source": [
    "steam_users.sample(5)"
   ]
  },
  {
   "cell_type": "markdown",
   "metadata": {},
   "source": [
    "- Por eficiencia en la consulta vamos a agrupar por año de lanzamiento y usuario.\n",
    "Notamos que quedan dos columans sin agrupar, genres (str) y playtime_forever. Al realizar la agrupación por suma, vamos a acumular en playtime_forever las horas jugadas por un usuario en un año determinado; por otra parte genres concatenará cada string que contiene las columnas agrupadas. Esta técnica nos permitira seguir teniendo toda la información necesaria. Posteriormente vamos a transformar la columna genres para eliminar los generos repetidos en cada registro."
   ]
  },
  {
   "cell_type": "code",
   "execution_count": 7,
   "metadata": {},
   "outputs": [],
   "source": [
    "tabla_endpoint_2 = steam_users.groupby(['release_year','user_id']).sum().reset_index()"
   ]
  },
  {
   "cell_type": "code",
   "execution_count": 8,
   "metadata": {},
   "outputs": [
    {
     "data": {
      "text/html": [
       "<div>\n",
       "<style scoped>\n",
       "    .dataframe tbody tr th:only-of-type {\n",
       "        vertical-align: middle;\n",
       "    }\n",
       "\n",
       "    .dataframe tbody tr th {\n",
       "        vertical-align: top;\n",
       "    }\n",
       "\n",
       "    .dataframe thead th {\n",
       "        text-align: right;\n",
       "    }\n",
       "</style>\n",
       "<table border=\"1\" class=\"dataframe\">\n",
       "  <thead>\n",
       "    <tr style=\"text-align: right;\">\n",
       "      <th></th>\n",
       "      <th>release_year</th>\n",
       "      <th>user_id</th>\n",
       "      <th>genres</th>\n",
       "      <th>playtime_forever</th>\n",
       "    </tr>\n",
       "  </thead>\n",
       "  <tbody>\n",
       "    <tr>\n",
       "      <th>0</th>\n",
       "      <td>1983</td>\n",
       "      <td>2Ta4</td>\n",
       "      <td>Adventure, Action, FMV, Casual, Quick-Time Eve...</td>\n",
       "      <td>18.0</td>\n",
       "    </tr>\n",
       "    <tr>\n",
       "      <th>1</th>\n",
       "      <td>1983</td>\n",
       "      <td>76561197960324641</td>\n",
       "      <td>Adventure, Action, FMV, Casual, Quick-Time Eve...</td>\n",
       "      <td>0.0</td>\n",
       "    </tr>\n",
       "    <tr>\n",
       "      <th>2</th>\n",
       "      <td>1983</td>\n",
       "      <td>76561197966936422</td>\n",
       "      <td>Adventure, Action, FMV, Casual, Quick-Time Eve...</td>\n",
       "      <td>331.0</td>\n",
       "    </tr>\n",
       "    <tr>\n",
       "      <th>3</th>\n",
       "      <td>1983</td>\n",
       "      <td>76561197968887720</td>\n",
       "      <td>Adventure, Action, FMV, Casual, Quick-Time Eve...</td>\n",
       "      <td>1.0</td>\n",
       "    </tr>\n",
       "    <tr>\n",
       "      <th>4</th>\n",
       "      <td>1983</td>\n",
       "      <td>76561197969020980</td>\n",
       "      <td>Adventure, Action, FMV, Casual, Quick-Time Eve...</td>\n",
       "      <td>98.0</td>\n",
       "    </tr>\n",
       "    <tr>\n",
       "      <th>...</th>\n",
       "      <td>...</td>\n",
       "      <td>...</td>\n",
       "      <td>...</td>\n",
       "      <td>...</td>\n",
       "    </tr>\n",
       "    <tr>\n",
       "      <th>763521</th>\n",
       "      <td>2018</td>\n",
       "      <td>xerector</td>\n",
       "      <td>Early Access, Indie, Platformer, Metroidvania</td>\n",
       "      <td>0.0</td>\n",
       "    </tr>\n",
       "    <tr>\n",
       "      <th>763522</th>\n",
       "      <td>2018</td>\n",
       "      <td>xinyo</td>\n",
       "      <td>Early Access, Action, Indie, SimulationEarly A...</td>\n",
       "      <td>0.0</td>\n",
       "    </tr>\n",
       "    <tr>\n",
       "      <th>763523</th>\n",
       "      <td>2018</td>\n",
       "      <td>xmatiias</td>\n",
       "      <td>Early Access, Action, Adventure, RPG, Indie, A...</td>\n",
       "      <td>0.0</td>\n",
       "    </tr>\n",
       "    <tr>\n",
       "      <th>763524</th>\n",
       "      <td>2018</td>\n",
       "      <td>yes12429</td>\n",
       "      <td>Early Access, Indie, Platformer, Metroidvania</td>\n",
       "      <td>0.0</td>\n",
       "    </tr>\n",
       "    <tr>\n",
       "      <th>763525</th>\n",
       "      <td>2018</td>\n",
       "      <td>yukiist</td>\n",
       "      <td>Early Access, Indie, Platformer, Metroidvania</td>\n",
       "      <td>0.0</td>\n",
       "    </tr>\n",
       "  </tbody>\n",
       "</table>\n",
       "<p>763526 rows × 4 columns</p>\n",
       "</div>"
      ],
      "text/plain": [
       "        release_year            user_id  \\\n",
       "0               1983               2Ta4   \n",
       "1               1983  76561197960324641   \n",
       "2               1983  76561197966936422   \n",
       "3               1983  76561197968887720   \n",
       "4               1983  76561197969020980   \n",
       "...              ...                ...   \n",
       "763521          2018           xerector   \n",
       "763522          2018              xinyo   \n",
       "763523          2018           xmatiias   \n",
       "763524          2018           yes12429   \n",
       "763525          2018            yukiist   \n",
       "\n",
       "                                                   genres  playtime_forever  \n",
       "0       Adventure, Action, FMV, Casual, Quick-Time Eve...              18.0  \n",
       "1       Adventure, Action, FMV, Casual, Quick-Time Eve...               0.0  \n",
       "2       Adventure, Action, FMV, Casual, Quick-Time Eve...             331.0  \n",
       "3       Adventure, Action, FMV, Casual, Quick-Time Eve...               1.0  \n",
       "4       Adventure, Action, FMV, Casual, Quick-Time Eve...              98.0  \n",
       "...                                                   ...               ...  \n",
       "763521      Early Access, Indie, Platformer, Metroidvania               0.0  \n",
       "763522  Early Access, Action, Indie, SimulationEarly A...               0.0  \n",
       "763523  Early Access, Action, Adventure, RPG, Indie, A...               0.0  \n",
       "763524      Early Access, Indie, Platformer, Metroidvania               0.0  \n",
       "763525      Early Access, Indie, Platformer, Metroidvania               0.0  \n",
       "\n",
       "[763526 rows x 4 columns]"
      ]
     },
     "execution_count": 8,
     "metadata": {},
     "output_type": "execute_result"
    }
   ],
   "source": [
    "tabla_endpoint_2"
   ]
  },
  {
   "cell_type": "markdown",
   "metadata": {},
   "source": [
    "- Así observamos que la tabla resultante tendra un tamaño considerablemente menor y cada usuario que se encuentre en estas lista, tendra los generos jugados por este usuario."
   ]
  },
  {
   "cell_type": "markdown",
   "metadata": {},
   "source": [
    "- Ahora vamos a eliminar los generos repetidos en cada registro, esto con el fin de reducir el tamaño del string de cada registro de genres. dado que esta consulta consume bastante memoria, utilicé una tecnica de carga con generadores."
   ]
  },
  {
   "cell_type": "code",
   "execution_count": 9,
   "metadata": {},
   "outputs": [],
   "source": [
    "## tomar los generos diferentes de cada uno de los caracteres\n",
    "def genres_unique(x):\n",
    "  return ', '.join(set(map(str.strip, x.split(', '))))\n",
    "\n",
    "tabla_endpoint_2['genres'] = list(genres_unique(fila) for fila in tabla_endpoint_2['genres'])"
   ]
  },
  {
   "cell_type": "code",
   "execution_count": 10,
   "metadata": {},
   "outputs": [
    {
     "data": {
      "text/html": [
       "<div>\n",
       "<style scoped>\n",
       "    .dataframe tbody tr th:only-of-type {\n",
       "        vertical-align: middle;\n",
       "    }\n",
       "\n",
       "    .dataframe tbody tr th {\n",
       "        vertical-align: top;\n",
       "    }\n",
       "\n",
       "    .dataframe thead th {\n",
       "        text-align: right;\n",
       "    }\n",
       "</style>\n",
       "<table border=\"1\" class=\"dataframe\">\n",
       "  <thead>\n",
       "    <tr style=\"text-align: right;\">\n",
       "      <th></th>\n",
       "      <th>release_year</th>\n",
       "      <th>user_id</th>\n",
       "      <th>genres</th>\n",
       "      <th>playtime_forever</th>\n",
       "    </tr>\n",
       "  </thead>\n",
       "  <tbody>\n",
       "    <tr>\n",
       "      <th>0</th>\n",
       "      <td>1983</td>\n",
       "      <td>2Ta4</td>\n",
       "      <td>FMV, Short, Action, Retro, Cartoon, Classic, A...</td>\n",
       "      <td>18.0</td>\n",
       "    </tr>\n",
       "    <tr>\n",
       "      <th>1</th>\n",
       "      <td>1983</td>\n",
       "      <td>76561197960324641</td>\n",
       "      <td>FMV, Short, Action, Retro, Cartoon, Classic, A...</td>\n",
       "      <td>0.0</td>\n",
       "    </tr>\n",
       "    <tr>\n",
       "      <th>2</th>\n",
       "      <td>1983</td>\n",
       "      <td>76561197966936422</td>\n",
       "      <td>FMV, Short, Action, Retro, Cartoon, Classic, A...</td>\n",
       "      <td>331.0</td>\n",
       "    </tr>\n",
       "    <tr>\n",
       "      <th>3</th>\n",
       "      <td>1983</td>\n",
       "      <td>76561197968887720</td>\n",
       "      <td>FMV, Short, Action, Retro, Cartoon, Classic, A...</td>\n",
       "      <td>1.0</td>\n",
       "    </tr>\n",
       "    <tr>\n",
       "      <th>4</th>\n",
       "      <td>1983</td>\n",
       "      <td>76561197969020980</td>\n",
       "      <td>FMV, Short, Action, Retro, Cartoon, Classic, A...</td>\n",
       "      <td>98.0</td>\n",
       "    </tr>\n",
       "    <tr>\n",
       "      <th>5</th>\n",
       "      <td>1983</td>\n",
       "      <td>76561197971401137</td>\n",
       "      <td>FMV, Short, Action, Retro, Cartoon, Classic, A...</td>\n",
       "      <td>33.0</td>\n",
       "    </tr>\n",
       "    <tr>\n",
       "      <th>6</th>\n",
       "      <td>1983</td>\n",
       "      <td>76561197971951483</td>\n",
       "      <td>FMV, Short, Action, Retro, Cartoon, Classic, A...</td>\n",
       "      <td>27.0</td>\n",
       "    </tr>\n",
       "    <tr>\n",
       "      <th>7</th>\n",
       "      <td>1983</td>\n",
       "      <td>76561197972452208</td>\n",
       "      <td>FMV, Short, Action, Retro, Cartoon, Classic, A...</td>\n",
       "      <td>0.0</td>\n",
       "    </tr>\n",
       "    <tr>\n",
       "      <th>8</th>\n",
       "      <td>1983</td>\n",
       "      <td>76561197973470219</td>\n",
       "      <td>FMV, Short, Action, Retro, Cartoon, Classic, A...</td>\n",
       "      <td>0.0</td>\n",
       "    </tr>\n",
       "    <tr>\n",
       "      <th>9</th>\n",
       "      <td>1983</td>\n",
       "      <td>76561197975369524</td>\n",
       "      <td>FMV, Short, Action, Retro, Cartoon, Classic, A...</td>\n",
       "      <td>45.0</td>\n",
       "    </tr>\n",
       "  </tbody>\n",
       "</table>\n",
       "</div>"
      ],
      "text/plain": [
       "   release_year            user_id  \\\n",
       "0          1983               2Ta4   \n",
       "1          1983  76561197960324641   \n",
       "2          1983  76561197966936422   \n",
       "3          1983  76561197968887720   \n",
       "4          1983  76561197969020980   \n",
       "5          1983  76561197971401137   \n",
       "6          1983  76561197971951483   \n",
       "7          1983  76561197972452208   \n",
       "8          1983  76561197973470219   \n",
       "9          1983  76561197975369524   \n",
       "\n",
       "                                              genres  playtime_forever  \n",
       "0  FMV, Short, Action, Retro, Cartoon, Classic, A...              18.0  \n",
       "1  FMV, Short, Action, Retro, Cartoon, Classic, A...               0.0  \n",
       "2  FMV, Short, Action, Retro, Cartoon, Classic, A...             331.0  \n",
       "3  FMV, Short, Action, Retro, Cartoon, Classic, A...               1.0  \n",
       "4  FMV, Short, Action, Retro, Cartoon, Classic, A...              98.0  \n",
       "5  FMV, Short, Action, Retro, Cartoon, Classic, A...              33.0  \n",
       "6  FMV, Short, Action, Retro, Cartoon, Classic, A...              27.0  \n",
       "7  FMV, Short, Action, Retro, Cartoon, Classic, A...               0.0  \n",
       "8  FMV, Short, Action, Retro, Cartoon, Classic, A...               0.0  \n",
       "9  FMV, Short, Action, Retro, Cartoon, Classic, A...              45.0  "
      ]
     },
     "execution_count": 10,
     "metadata": {},
     "output_type": "execute_result"
    }
   ],
   "source": [
    "tabla_endpoint_2.head(10)"
   ]
  },
  {
   "cell_type": "markdown",
   "metadata": {},
   "source": [
    "## Exportar tabla consulta 2"
   ]
  },
  {
   "cell_type": "code",
   "execution_count": 12,
   "metadata": {},
   "outputs": [],
   "source": [
    "path_endpoint_2 = os.path.join('..','data','clear','02_user_for_genre_data.csv.gz')\n",
    "\n",
    "\n",
    "tabla_endpoint_2.to_csv(path_endpoint_2, index = False,compression='gzip')"
   ]
  },
  {
   "cell_type": "markdown",
   "metadata": {},
   "source": [
    "## Lectura de tabla consulta"
   ]
  },
  {
   "cell_type": "markdown",
   "metadata": {},
   "source": [
    "**Retornaremos el usuario que acumula más horas jugadas para el género dado y una lista de la acumulación de horas jugadas por año**"
   ]
  },
  {
   "cell_type": "code",
   "execution_count": 15,
   "metadata": {},
   "outputs": [],
   "source": [
    "table_2 = pd.read_csv(path_endpoint_2)"
   ]
  },
  {
   "cell_type": "markdown",
   "metadata": {},
   "source": [
    "## Construcción de la consulta\n",
    "- A continuación vamos a realizar las consultas necesarias para encontrar el usuario con mas horas jugadas por genero.\n",
    "Para responder este problema vamos inspecciónar con un genero particular, en este caso **Action**, luego vamos a contruir las consultas para este genero particular"
   ]
  },
  {
   "cell_type": "code",
   "execution_count": 16,
   "metadata": {},
   "outputs": [],
   "source": [
    "genre = 'Action'"
   ]
  },
  {
   "cell_type": "code",
   "execution_count": 17,
   "metadata": {},
   "outputs": [],
   "source": [
    "# Filtro la tabla para quedarme únicamente con registros que contengan el género deseado\n",
    "genre_filter = table_2[table_2['genres'].str.contains(genre)]\n"
   ]
  },
  {
   "cell_type": "code",
   "execution_count": 18,
   "metadata": {},
   "outputs": [
    {
     "data": {
      "text/html": [
       "<div>\n",
       "<style scoped>\n",
       "    .dataframe tbody tr th:only-of-type {\n",
       "        vertical-align: middle;\n",
       "    }\n",
       "\n",
       "    .dataframe tbody tr th {\n",
       "        vertical-align: top;\n",
       "    }\n",
       "\n",
       "    .dataframe thead th {\n",
       "        text-align: right;\n",
       "    }\n",
       "</style>\n",
       "<table border=\"1\" class=\"dataframe\">\n",
       "  <thead>\n",
       "    <tr style=\"text-align: right;\">\n",
       "      <th></th>\n",
       "      <th>release_year</th>\n",
       "      <th>user_id</th>\n",
       "      <th>genres</th>\n",
       "      <th>playtime_forever</th>\n",
       "    </tr>\n",
       "  </thead>\n",
       "  <tbody>\n",
       "    <tr>\n",
       "      <th>0</th>\n",
       "      <td>1983</td>\n",
       "      <td>2Ta4</td>\n",
       "      <td>FMV, Short, Action, Retro, Cartoon, Classic, A...</td>\n",
       "      <td>18.0</td>\n",
       "    </tr>\n",
       "    <tr>\n",
       "      <th>1</th>\n",
       "      <td>1983</td>\n",
       "      <td>76561197960324641</td>\n",
       "      <td>FMV, Short, Action, Retro, Cartoon, Classic, A...</td>\n",
       "      <td>0.0</td>\n",
       "    </tr>\n",
       "    <tr>\n",
       "      <th>2</th>\n",
       "      <td>1983</td>\n",
       "      <td>76561197966936422</td>\n",
       "      <td>FMV, Short, Action, Retro, Cartoon, Classic, A...</td>\n",
       "      <td>331.0</td>\n",
       "    </tr>\n",
       "    <tr>\n",
       "      <th>3</th>\n",
       "      <td>1983</td>\n",
       "      <td>76561197968887720</td>\n",
       "      <td>FMV, Short, Action, Retro, Cartoon, Classic, A...</td>\n",
       "      <td>1.0</td>\n",
       "    </tr>\n",
       "  </tbody>\n",
       "</table>\n",
       "</div>"
      ],
      "text/plain": [
       "   release_year            user_id  \\\n",
       "0          1983               2Ta4   \n",
       "1          1983  76561197960324641   \n",
       "2          1983  76561197966936422   \n",
       "3          1983  76561197968887720   \n",
       "\n",
       "                                              genres  playtime_forever  \n",
       "0  FMV, Short, Action, Retro, Cartoon, Classic, A...              18.0  \n",
       "1  FMV, Short, Action, Retro, Cartoon, Classic, A...               0.0  \n",
       "2  FMV, Short, Action, Retro, Cartoon, Classic, A...             331.0  \n",
       "3  FMV, Short, Action, Retro, Cartoon, Classic, A...               1.0  "
      ]
     },
     "execution_count": 18,
     "metadata": {},
     "output_type": "execute_result"
    }
   ],
   "source": [
    "genre_filter.head(4)"
   ]
  },
  {
   "cell_type": "code",
   "execution_count": 23,
   "metadata": {},
   "outputs": [],
   "source": [
    "## Sumamos playtime_forever de cada usuario \n",
    "df_sum_play_time = genre_filter.groupby('user_id')['playtime_forever'].sum()"
   ]
  },
  {
   "cell_type": "code",
   "execution_count": 27,
   "metadata": {},
   "outputs": [
    {
     "data": {
      "text/html": [
       "<div>\n",
       "<style scoped>\n",
       "    .dataframe tbody tr th:only-of-type {\n",
       "        vertical-align: middle;\n",
       "    }\n",
       "\n",
       "    .dataframe tbody tr th {\n",
       "        vertical-align: top;\n",
       "    }\n",
       "\n",
       "    .dataframe thead th {\n",
       "        text-align: right;\n",
       "    }\n",
       "</style>\n",
       "<table border=\"1\" class=\"dataframe\">\n",
       "  <thead>\n",
       "    <tr style=\"text-align: right;\">\n",
       "      <th></th>\n",
       "      <th>playtime_forever</th>\n",
       "    </tr>\n",
       "    <tr>\n",
       "      <th>user_id</th>\n",
       "      <th></th>\n",
       "    </tr>\n",
       "  </thead>\n",
       "  <tbody>\n",
       "    <tr>\n",
       "      <th>--000--</th>\n",
       "      <td>140864.0</td>\n",
       "    </tr>\n",
       "    <tr>\n",
       "      <th>--ace--</th>\n",
       "      <td>70359.0</td>\n",
       "    </tr>\n",
       "    <tr>\n",
       "      <th>--ionex--</th>\n",
       "      <td>38584.0</td>\n",
       "    </tr>\n",
       "    <tr>\n",
       "      <th>-2SV-vuLB-Kg</th>\n",
       "      <td>48221.0</td>\n",
       "    </tr>\n",
       "    <tr>\n",
       "      <th>-404PageNotFound-</th>\n",
       "      <td>198665.0</td>\n",
       "    </tr>\n",
       "    <tr>\n",
       "      <th>...</th>\n",
       "      <td>...</td>\n",
       "    </tr>\n",
       "    <tr>\n",
       "      <th>zzonci</th>\n",
       "      <td>429.0</td>\n",
       "    </tr>\n",
       "    <tr>\n",
       "      <th>zzoptimuszz</th>\n",
       "      <td>78498.0</td>\n",
       "    </tr>\n",
       "    <tr>\n",
       "      <th>zzydrax</th>\n",
       "      <td>4640.0</td>\n",
       "    </tr>\n",
       "    <tr>\n",
       "      <th>zzyfo</th>\n",
       "      <td>28295.0</td>\n",
       "    </tr>\n",
       "    <tr>\n",
       "      <th>zzzmidmiss</th>\n",
       "      <td>9867.0</td>\n",
       "    </tr>\n",
       "  </tbody>\n",
       "</table>\n",
       "<p>68485 rows × 1 columns</p>\n",
       "</div>"
      ],
      "text/plain": [
       "                   playtime_forever\n",
       "user_id                            \n",
       "--000--                    140864.0\n",
       "--ace--                     70359.0\n",
       "--ionex--                   38584.0\n",
       "-2SV-vuLB-Kg                48221.0\n",
       "-404PageNotFound-          198665.0\n",
       "...                             ...\n",
       "zzonci                        429.0\n",
       "zzoptimuszz                 78498.0\n",
       "zzydrax                      4640.0\n",
       "zzyfo                       28295.0\n",
       "zzzmidmiss                   9867.0\n",
       "\n",
       "[68485 rows x 1 columns]"
      ]
     },
     "execution_count": 27,
     "metadata": {},
     "output_type": "execute_result"
    }
   ],
   "source": [
    "pd.DataFrame(df_sum_play_time)"
   ]
  },
  {
   "cell_type": "code",
   "execution_count": 34,
   "metadata": {},
   "outputs": [
    {
     "name": "stdout",
     "output_type": "stream",
     "text": [
      "El usurio con mas horas jugadas \n",
      "para el genero Action es REBAS_AS_F-T\n"
     ]
    }
   ],
   "source": [
    "# Usuario con más horas jugadas en total\n",
    "user_max_time = df_sum_play_time.idxmax()\n",
    "\n",
    "print(f'El usurio con mas horas jugadas \\npara el genero {genre} es {user_max_time}')\n"
   ]
  },
  {
   "cell_type": "code",
   "execution_count": 35,
   "metadata": {},
   "outputs": [],
   "source": [
    "# Filtrar solo por los registros del usuario con mayor tiempo de juego y me quedo con las columnas release_year y playtime_forever\n",
    "mask = genre_filter['user_id'] == user_max_time\n",
    "\n",
    "user_filter = genre_filter[mask][['release_year', 'playtime_forever']]"
   ]
  },
  {
   "cell_type": "code",
   "execution_count": 36,
   "metadata": {},
   "outputs": [
    {
     "data": {
      "text/html": [
       "<div>\n",
       "<style scoped>\n",
       "    .dataframe tbody tr th:only-of-type {\n",
       "        vertical-align: middle;\n",
       "    }\n",
       "\n",
       "    .dataframe tbody tr th {\n",
       "        vertical-align: top;\n",
       "    }\n",
       "\n",
       "    .dataframe thead th {\n",
       "        text-align: right;\n",
       "    }\n",
       "</style>\n",
       "<table border=\"1\" class=\"dataframe\">\n",
       "  <thead>\n",
       "    <tr style=\"text-align: right;\">\n",
       "      <th></th>\n",
       "      <th>release_year</th>\n",
       "      <th>playtime_forever</th>\n",
       "    </tr>\n",
       "  </thead>\n",
       "  <tbody>\n",
       "    <tr>\n",
       "      <th>17153</th>\n",
       "      <td>1996</td>\n",
       "      <td>0.0</td>\n",
       "    </tr>\n",
       "    <tr>\n",
       "      <th>36546</th>\n",
       "      <td>1998</td>\n",
       "      <td>1.0</td>\n",
       "    </tr>\n",
       "    <tr>\n",
       "      <th>50057</th>\n",
       "      <td>1999</td>\n",
       "      <td>225.0</td>\n",
       "    </tr>\n",
       "    <tr>\n",
       "      <th>64835</th>\n",
       "      <td>2000</td>\n",
       "      <td>0.0</td>\n",
       "    </tr>\n",
       "    <tr>\n",
       "      <th>79718</th>\n",
       "      <td>2001</td>\n",
       "      <td>11.0</td>\n",
       "    </tr>\n",
       "  </tbody>\n",
       "</table>\n",
       "</div>"
      ],
      "text/plain": [
       "       release_year  playtime_forever\n",
       "17153          1996               0.0\n",
       "36546          1998               1.0\n",
       "50057          1999             225.0\n",
       "64835          2000               0.0\n",
       "79718          2001              11.0"
      ]
     },
     "execution_count": 36,
     "metadata": {},
     "output_type": "execute_result"
    }
   ],
   "source": [
    "user_filter.head(5)"
   ]
  },
  {
   "cell_type": "code",
   "execution_count": 37,
   "metadata": {},
   "outputs": [],
   "source": [
    "# Sumar las horas jugadas del usuario por año\n",
    "user_filter_sum = user_filter.groupby('release_year')['playtime_forever'].sum().cumsum()"
   ]
  },
  {
   "cell_type": "code",
   "execution_count": 41,
   "metadata": {},
   "outputs": [
    {
     "data": {
      "text/html": [
       "<div>\n",
       "<style scoped>\n",
       "    .dataframe tbody tr th:only-of-type {\n",
       "        vertical-align: middle;\n",
       "    }\n",
       "\n",
       "    .dataframe tbody tr th {\n",
       "        vertical-align: top;\n",
       "    }\n",
       "\n",
       "    .dataframe thead th {\n",
       "        text-align: right;\n",
       "    }\n",
       "</style>\n",
       "<table border=\"1\" class=\"dataframe\">\n",
       "  <thead>\n",
       "    <tr style=\"text-align: right;\">\n",
       "      <th></th>\n",
       "      <th>playtime_forever</th>\n",
       "    </tr>\n",
       "    <tr>\n",
       "      <th>release_year</th>\n",
       "      <th></th>\n",
       "    </tr>\n",
       "  </thead>\n",
       "  <tbody>\n",
       "    <tr>\n",
       "      <th>1996</th>\n",
       "      <td>0.0</td>\n",
       "    </tr>\n",
       "    <tr>\n",
       "      <th>1998</th>\n",
       "      <td>1.0</td>\n",
       "    </tr>\n",
       "    <tr>\n",
       "      <th>1999</th>\n",
       "      <td>226.0</td>\n",
       "    </tr>\n",
       "    <tr>\n",
       "      <th>2000</th>\n",
       "      <td>226.0</td>\n",
       "    </tr>\n",
       "    <tr>\n",
       "      <th>2001</th>\n",
       "      <td>237.0</td>\n",
       "    </tr>\n",
       "    <tr>\n",
       "      <th>2002</th>\n",
       "      <td>238.0</td>\n",
       "    </tr>\n",
       "    <tr>\n",
       "      <th>2003</th>\n",
       "      <td>2101.0</td>\n",
       "    </tr>\n",
       "    <tr>\n",
       "      <th>2004</th>\n",
       "      <td>11203.0</td>\n",
       "    </tr>\n",
       "    <tr>\n",
       "      <th>2005</th>\n",
       "      <td>14496.0</td>\n",
       "    </tr>\n",
       "    <tr>\n",
       "      <th>2006</th>\n",
       "      <td>16343.0</td>\n",
       "    </tr>\n",
       "    <tr>\n",
       "      <th>2007</th>\n",
       "      <td>26769.0</td>\n",
       "    </tr>\n",
       "    <tr>\n",
       "      <th>2008</th>\n",
       "      <td>39671.0</td>\n",
       "    </tr>\n",
       "    <tr>\n",
       "      <th>2009</th>\n",
       "      <td>101393.0</td>\n",
       "    </tr>\n",
       "    <tr>\n",
       "      <th>2010</th>\n",
       "      <td>174351.0</td>\n",
       "    </tr>\n",
       "    <tr>\n",
       "      <th>2011</th>\n",
       "      <td>360568.0</td>\n",
       "    </tr>\n",
       "    <tr>\n",
       "      <th>2012</th>\n",
       "      <td>628128.0</td>\n",
       "    </tr>\n",
       "    <tr>\n",
       "      <th>2013</th>\n",
       "      <td>1036426.0</td>\n",
       "    </tr>\n",
       "    <tr>\n",
       "      <th>2014</th>\n",
       "      <td>1516004.0</td>\n",
       "    </tr>\n",
       "    <tr>\n",
       "      <th>2015</th>\n",
       "      <td>2589860.0</td>\n",
       "    </tr>\n",
       "    <tr>\n",
       "      <th>2016</th>\n",
       "      <td>3912840.0</td>\n",
       "    </tr>\n",
       "    <tr>\n",
       "      <th>2017</th>\n",
       "      <td>3947907.0</td>\n",
       "    </tr>\n",
       "  </tbody>\n",
       "</table>\n",
       "</div>"
      ],
      "text/plain": [
       "              playtime_forever\n",
       "release_year                  \n",
       "1996                       0.0\n",
       "1998                       1.0\n",
       "1999                     226.0\n",
       "2000                     226.0\n",
       "2001                     237.0\n",
       "2002                     238.0\n",
       "2003                    2101.0\n",
       "2004                   11203.0\n",
       "2005                   14496.0\n",
       "2006                   16343.0\n",
       "2007                   26769.0\n",
       "2008                   39671.0\n",
       "2009                  101393.0\n",
       "2010                  174351.0\n",
       "2011                  360568.0\n",
       "2012                  628128.0\n",
       "2013                 1036426.0\n",
       "2014                 1516004.0\n",
       "2015                 2589860.0\n",
       "2016                 3912840.0\n",
       "2017                 3947907.0"
      ]
     },
     "execution_count": 41,
     "metadata": {},
     "output_type": "execute_result"
    }
   ],
   "source": [
    "# Este es el tiempo acumulado jugado por el usuario con mas tiempo jugado con el genero action.\n",
    "pd.DataFrame(user_filter_sum)"
   ]
  },
  {
   "cell_type": "code",
   "execution_count": 42,
   "metadata": {},
   "outputs": [],
   "source": [
    "# Retornaremos como una lista de diccionarios del estilo\n",
    "# {year : playtime_forever_cum }\n",
    "\n",
    "target = user_filter_sum.reset_index().rename(columns={'release_year': 'year', 'playtime_forever': 'total_horas'}).to_dict(orient='records')"
   ]
  },
  {
   "cell_type": "code",
   "execution_count": 49,
   "metadata": {},
   "outputs": [
    {
     "data": {
      "text/plain": [
       "[{'year': 1996, 'total_horas': 0.0},\n",
       " {'year': 1998, 'total_horas': 1.0},\n",
       " {'year': 1999, 'total_horas': 226.0},\n",
       " {'year': 2000, 'total_horas': 226.0},\n",
       " {'year': 2001, 'total_horas': 237.0}]"
      ]
     },
     "execution_count": 49,
     "metadata": {},
     "output_type": "execute_result"
    }
   ],
   "source": [
    "target[:5]"
   ]
  },
  {
   "cell_type": "code",
   "execution_count": 58,
   "metadata": {},
   "outputs": [
    {
     "name": "stdout",
     "output_type": "stream",
     "text": [
      "Usuario con más horas jugadas para Género Action: es REBAS_AS_F-T, \n",
      "Horas jugadas:\n"
     ]
    },
    {
     "data": {
      "text/plain": [
       "[{'year': 1996, 'total_horas': 0.0},\n",
       " {'year': 1998, 'total_horas': 1.0},\n",
       " {'year': 1999, 'total_horas': 226.0},\n",
       " {'year': 2000, 'total_horas': 226.0},\n",
       " {'year': 2001, 'total_horas': 237.0},\n",
       " {'year': 2002, 'total_horas': 238.0},\n",
       " {'year': 2003, 'total_horas': 2101.0},\n",
       " {'year': 2004, 'total_horas': 11203.0},\n",
       " {'year': 2005, 'total_horas': 14496.0},\n",
       " {'year': 2006, 'total_horas': 16343.0},\n",
       " {'year': 2007, 'total_horas': 26769.0},\n",
       " {'year': 2008, 'total_horas': 39671.0},\n",
       " {'year': 2009, 'total_horas': 101393.0},\n",
       " {'year': 2010, 'total_horas': 174351.0},\n",
       " {'year': 2011, 'total_horas': 360568.0},\n",
       " {'year': 2012, 'total_horas': 628128.0},\n",
       " {'year': 2013, 'total_horas': 1036426.0},\n",
       " {'year': 2014, 'total_horas': 1516004.0},\n",
       " {'year': 2015, 'total_horas': 2589860.0},\n",
       " {'year': 2016, 'total_horas': 3912840.0},\n",
       " {'year': 2017, 'total_horas': 3947907.0}]"
      ]
     },
     "execution_count": 58,
     "metadata": {},
     "output_type": "execute_result"
    }
   ],
   "source": [
    "print(f\"Usuario con más horas jugadas para Género {genre}: es {user_max_time}, \\nHoras jugadas:\")\n",
    "target"
   ]
  },
  {
   "cell_type": "markdown",
   "metadata": {},
   "source": [
    "## Función UserForGenre"
   ]
  },
  {
   "cell_type": "code",
   "execution_count": 23,
   "metadata": {},
   "outputs": [],
   "source": [
    "def user_for_genre(genre :str):\n",
    "  \n",
    "  table_2 = pd.read_csv('entpoint_2.csv')\n",
    "\n",
    "  ## Filtro la tabla para quedarme unicamente con registros que contengan el genero deseado\n",
    "  genre_filter = table_2[table_2['genres'].str.contains(genre)]\n",
    "  \n",
    "  ## usuario con mayor tiempo de juego acumulado\n",
    "  df_sum_play_time =  genre_filter[['user_id','playtime_forever']].groupby(['user_id']).sum()\n",
    "  \n",
    "  # usuario con mas horas jugadas en total\n",
    "  if len(df_sum_play_time) > 0:\n",
    "    user_max_time = df_sum_play_time.idxmax().iloc[0]\n",
    "  else:\n",
    "    return ('No existe usuario que haya jugado este juego')\n",
    "  \n",
    "  ## Filtraremos solo por los registros del usuario con mayor tiempo de juego\n",
    "  ## nos quedamos con el año de lanzamiento y el tiempo de juego\n",
    "  mask = genre_filter['user_id'] == user_max_time\n",
    "  user_filter = genre_filter[mask][['release_year','playtime_forever']]\n",
    "  \n",
    "  # Sumamos las horas jugadas del usuario por año\n",
    "  user_filter_sum = user_filter.groupby('release_year').sum().reset_index()\n",
    "  \n",
    "  # ## Calculamos la suma acumulada\n",
    "  user_filter_sum['total_horas'] = user_filter_sum['playtime_forever'].cumsum()\n",
    "  \n",
    "  target = user_filter_sum.rename(columns={'release_year':'year'})[['year', 'total_horas']].to_dict(orient='records')\n",
    "  return {f\"Usuario con más horas jugadas para Género {genre}\" : user_max_time, \"Horas jugadas\": target}"
   ]
  },
  {
   "cell_type": "code",
   "execution_count": 24,
   "metadata": {},
   "outputs": [
    {
     "data": {
      "text/plain": [
       "{'Usuario con más horas jugadas para Género Action': 'REBAS_AS_F-T',\n",
       " 'Horas jugadas': [{'year': 1996, 'total_horas': 0.0},\n",
       "  {'year': 1998, 'total_horas': 1.0},\n",
       "  {'year': 1999, 'total_horas': 226.0},\n",
       "  {'year': 2000, 'total_horas': 226.0},\n",
       "  {'year': 2001, 'total_horas': 237.0},\n",
       "  {'year': 2002, 'total_horas': 238.0},\n",
       "  {'year': 2003, 'total_horas': 2101.0},\n",
       "  {'year': 2004, 'total_horas': 11203.0},\n",
       "  {'year': 2005, 'total_horas': 14496.0},\n",
       "  {'year': 2006, 'total_horas': 16343.0},\n",
       "  {'year': 2007, 'total_horas': 26769.0},\n",
       "  {'year': 2008, 'total_horas': 39671.0},\n",
       "  {'year': 2009, 'total_horas': 101393.0},\n",
       "  {'year': 2010, 'total_horas': 174351.0},\n",
       "  {'year': 2011, 'total_horas': 360568.0},\n",
       "  {'year': 2012, 'total_horas': 628128.0},\n",
       "  {'year': 2013, 'total_horas': 1036426.0},\n",
       "  {'year': 2014, 'total_horas': 1516004.0},\n",
       "  {'year': 2015, 'total_horas': 2589860.0},\n",
       "  {'year': 2016, 'total_horas': 3912840.0},\n",
       "  {'year': 2017, 'total_horas': 3947907.0}]}"
      ]
     },
     "execution_count": 24,
     "metadata": {},
     "output_type": "execute_result"
    }
   ],
   "source": [
    "user_for_genre('Action')\n"
   ]
  },
  {
   "cell_type": "code",
   "execution_count": null,
   "metadata": {},
   "outputs": [],
   "source": []
  }
 ],
 "metadata": {
  "kernelspec": {
   "display_name": "env",
   "language": "python",
   "name": "python3"
  },
  "language_info": {
   "codemirror_mode": {
    "name": "ipython",
    "version": 3
   },
   "file_extension": ".py",
   "mimetype": "text/x-python",
   "name": "python",
   "nbconvert_exporter": "python",
   "pygments_lexer": "ipython3",
   "version": "3.10.12"
  }
 },
 "nbformat": 4,
 "nbformat_minor": 2
}
