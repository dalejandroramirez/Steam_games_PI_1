{
 "cells": [
  {
   "cell_type": "code",
   "execution_count": 1,
   "metadata": {},
   "outputs": [],
   "source": [
    "import pandas as pd\n",
    "import os"
   ]
  },
  {
   "cell_type": "code",
   "execution_count": 8,
   "metadata": {},
   "outputs": [],
   "source": [
    "path_user = os.path.join('..','data','clear','users_items.csv.gz')\n",
    "path_steam_games = os.path.join('..','data','clear','steam_games.csv.gz')\n",
    "\n",
    "user_items = pd.read_csv(path_user)\n",
    "steam_games = pd.read_csv(path_steam_games)\n"
   ]
  },
  {
   "cell_type": "code",
   "execution_count": 9,
   "metadata": {},
   "outputs": [],
   "source": [
    "col_steam = ['id','genres','release_year']\n",
    "tabla_steam = steam_games[col_steam]"
   ]
  },
  {
   "cell_type": "code",
   "execution_count": 4,
   "metadata": {},
   "outputs": [
    {
     "data": {
      "text/plain": [
       "Index(['user_id', 'playtime_forever', 'item_id', 'item_name'], dtype='object')"
      ]
     },
     "execution_count": 4,
     "metadata": {},
     "output_type": "execute_result"
    }
   ],
   "source": [
    "user_items.columns"
   ]
  },
  {
   "cell_type": "code",
   "execution_count": 10,
   "metadata": {},
   "outputs": [],
   "source": [
    "col_user = ['item_id','user_id','playtime_forever']\n",
    "tabla_user = user_items[col_user]"
   ]
  },
  {
   "cell_type": "code",
   "execution_count": 13,
   "metadata": {},
   "outputs": [],
   "source": [
    "\n",
    "consulta2 = tabla_steam.merge(tabla_user,left_on='id', right_on= 'item_id',how='inner').drop(columns=['id','item_id'])"
   ]
  },
  {
   "cell_type": "code",
   "execution_count": 15,
   "metadata": {},
   "outputs": [
    {
     "data": {
      "text/html": [
       "<div>\n",
       "<style scoped>\n",
       "    .dataframe tbody tr th:only-of-type {\n",
       "        vertical-align: middle;\n",
       "    }\n",
       "\n",
       "    .dataframe tbody tr th {\n",
       "        vertical-align: top;\n",
       "    }\n",
       "\n",
       "    .dataframe thead th {\n",
       "        text-align: right;\n",
       "    }\n",
       "</style>\n",
       "<table border=\"1\" class=\"dataframe\">\n",
       "  <thead>\n",
       "    <tr style=\"text-align: right;\">\n",
       "      <th></th>\n",
       "      <th>genres</th>\n",
       "      <th>release_year</th>\n",
       "      <th>user_id</th>\n",
       "      <th>playtime_forever</th>\n",
       "    </tr>\n",
       "  </thead>\n",
       "  <tbody>\n",
       "    <tr>\n",
       "      <th>0</th>\n",
       "      <td>2D, Turn-Based, Strategy, Multiplayer, Action,...</td>\n",
       "      <td>2015</td>\n",
       "      <td>76561198071282547</td>\n",
       "      <td>540.0</td>\n",
       "    </tr>\n",
       "    <tr>\n",
       "      <th>1</th>\n",
       "      <td>2D, Turn-Based, Strategy, Multiplayer, Action,...</td>\n",
       "      <td>2015</td>\n",
       "      <td>jett1234</td>\n",
       "      <td>2.0</td>\n",
       "    </tr>\n",
       "    <tr>\n",
       "      <th>2</th>\n",
       "      <td>2D, Turn-Based, Strategy, Multiplayer, Action,...</td>\n",
       "      <td>2015</td>\n",
       "      <td>thehellerphant</td>\n",
       "      <td>0.0</td>\n",
       "    </tr>\n",
       "    <tr>\n",
       "      <th>3</th>\n",
       "      <td>2D, Turn-Based, Strategy, Multiplayer, Action,...</td>\n",
       "      <td>2015</td>\n",
       "      <td>zomgieee</td>\n",
       "      <td>12.0</td>\n",
       "    </tr>\n",
       "    <tr>\n",
       "      <th>4</th>\n",
       "      <td>2D, Word Game, Indie, Side Scroller, Puzzle-Pl...</td>\n",
       "      <td>2016</td>\n",
       "      <td>76561198011616111</td>\n",
       "      <td>0.0</td>\n",
       "    </tr>\n",
       "    <tr>\n",
       "      <th>...</th>\n",
       "      <td>...</td>\n",
       "      <td>...</td>\n",
       "      <td>...</td>\n",
       "      <td>...</td>\n",
       "    </tr>\n",
       "    <tr>\n",
       "      <th>4136206</th>\n",
       "      <td>Zombies, World War II, FPS, Action, Multiplaye...</td>\n",
       "      <td>2008</td>\n",
       "      <td>zomethingelses</td>\n",
       "      <td>0.0</td>\n",
       "    </tr>\n",
       "    <tr>\n",
       "      <th>4136207</th>\n",
       "      <td>Zombies, World War II, FPS, Action, Multiplaye...</td>\n",
       "      <td>2008</td>\n",
       "      <td>zomgieee</td>\n",
       "      <td>0.0</td>\n",
       "    </tr>\n",
       "    <tr>\n",
       "      <th>4136208</th>\n",
       "      <td>Zombies, World War II, FPS, Action, Multiplaye...</td>\n",
       "      <td>2008</td>\n",
       "      <td>zordbot</td>\n",
       "      <td>278.0</td>\n",
       "    </tr>\n",
       "    <tr>\n",
       "      <th>4136209</th>\n",
       "      <td>Zombies, World War II, FPS, Action, Multiplaye...</td>\n",
       "      <td>2008</td>\n",
       "      <td>zsharoarkbr</td>\n",
       "      <td>885.0</td>\n",
       "    </tr>\n",
       "    <tr>\n",
       "      <th>4136210</th>\n",
       "      <td>Zombies, World War II, FPS, Action, Multiplaye...</td>\n",
       "      <td>2008</td>\n",
       "      <td>zzydrax</td>\n",
       "      <td>243.0</td>\n",
       "    </tr>\n",
       "  </tbody>\n",
       "</table>\n",
       "<p>4136211 rows × 4 columns</p>\n",
       "</div>"
      ],
      "text/plain": [
       "                                                    genres  release_year  \\\n",
       "0        2D, Turn-Based, Strategy, Multiplayer, Action,...          2015   \n",
       "1        2D, Turn-Based, Strategy, Multiplayer, Action,...          2015   \n",
       "2        2D, Turn-Based, Strategy, Multiplayer, Action,...          2015   \n",
       "3        2D, Turn-Based, Strategy, Multiplayer, Action,...          2015   \n",
       "4        2D, Word Game, Indie, Side Scroller, Puzzle-Pl...          2016   \n",
       "...                                                    ...           ...   \n",
       "4136206  Zombies, World War II, FPS, Action, Multiplaye...          2008   \n",
       "4136207  Zombies, World War II, FPS, Action, Multiplaye...          2008   \n",
       "4136208  Zombies, World War II, FPS, Action, Multiplaye...          2008   \n",
       "4136209  Zombies, World War II, FPS, Action, Multiplaye...          2008   \n",
       "4136210  Zombies, World War II, FPS, Action, Multiplaye...          2008   \n",
       "\n",
       "                   user_id  playtime_forever  \n",
       "0        76561198071282547             540.0  \n",
       "1                 jett1234               2.0  \n",
       "2           thehellerphant               0.0  \n",
       "3                 zomgieee              12.0  \n",
       "4        76561198011616111               0.0  \n",
       "...                    ...               ...  \n",
       "4136206     zomethingelses               0.0  \n",
       "4136207           zomgieee               0.0  \n",
       "4136208            zordbot             278.0  \n",
       "4136209        zsharoarkbr             885.0  \n",
       "4136210            zzydrax             243.0  \n",
       "\n",
       "[4136211 rows x 4 columns]"
      ]
     },
     "execution_count": 15,
     "metadata": {},
     "output_type": "execute_result"
    }
   ],
   "source": [
    "\n",
    "consulta2.groupby(['genres','release_year','user_id']).sum().reset_index()"
   ]
  },
  {
   "cell_type": "code",
   "execution_count": 23,
   "metadata": {},
   "outputs": [],
   "source": [
    "## Concatemanos generos como texto\n",
    "\n",
    "tabla_3 = consulta2.groupby(['release_year','user_id']).sum().reset_index()"
   ]
  },
  {
   "cell_type": "code",
   "execution_count": 57,
   "metadata": {},
   "outputs": [],
   "source": [
    "tabla_3.to_csv('entpoint_2.csv')"
   ]
  },
  {
   "cell_type": "code",
   "execution_count": null,
   "metadata": {},
   "outputs": [],
   "source": []
  }
 ],
 "metadata": {
  "kernelspec": {
   "display_name": "env",
   "language": "python",
   "name": "python3"
  },
  "language_info": {
   "codemirror_mode": {
    "name": "ipython",
    "version": 3
   },
   "file_extension": ".py",
   "mimetype": "text/x-python",
   "name": "python",
   "nbconvert_exporter": "python",
   "pygments_lexer": "ipython3",
   "version": "3.10.12"
  }
 },
 "nbformat": 4,
 "nbformat_minor": 2
}
