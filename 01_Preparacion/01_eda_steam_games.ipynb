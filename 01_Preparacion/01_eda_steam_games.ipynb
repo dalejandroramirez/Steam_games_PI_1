{
 "cells": [
  {
   "cell_type": "markdown",
   "metadata": {},
   "source": [
    "# Analisis Exploratorio de datos"
   ]
  },
  {
   "cell_type": "code",
   "execution_count": 25,
   "metadata": {},
   "outputs": [],
   "source": [
    "import pandas as pd\n",
    "\n",
    "import os"
   ]
  },
  {
   "cell_type": "markdown",
   "metadata": {},
   "source": [
    "## Steam Games Limpieza\n",
    "\n",
    "- Eliminacion de columnas nulas.\n",
    "- Tratamiento de filas duplicadas."
   ]
  },
  {
   "cell_type": "code",
   "execution_count": 26,
   "metadata": {},
   "outputs": [],
   "source": [
    "path_data =  os.path.join('..','data','raw','steam_games.json.gz')\n",
    "\n",
    "steam_games = pd.read_json(path_data, compression='gzip',lines=True)\n",
    " "
   ]
  },
  {
   "cell_type": "code",
   "execution_count": 27,
   "metadata": {},
   "outputs": [],
   "source": [
    "# Eliminacion de filas que todos sus datos son nulos.\n",
    "steam_games.dropna(how='all',inplace=True)"
   ]
  },
  {
   "cell_type": "code",
   "execution_count": 28,
   "metadata": {},
   "outputs": [
    {
     "data": {
      "text/html": [
       "<div>\n",
       "<style scoped>\n",
       "    .dataframe tbody tr th:only-of-type {\n",
       "        vertical-align: middle;\n",
       "    }\n",
       "\n",
       "    .dataframe tbody tr th {\n",
       "        vertical-align: top;\n",
       "    }\n",
       "\n",
       "    .dataframe thead th {\n",
       "        text-align: right;\n",
       "    }\n",
       "</style>\n",
       "<table border=\"1\" class=\"dataframe\">\n",
       "  <thead>\n",
       "    <tr style=\"text-align: right;\">\n",
       "      <th></th>\n",
       "      <th>publisher</th>\n",
       "      <th>genres</th>\n",
       "      <th>app_name</th>\n",
       "      <th>title</th>\n",
       "      <th>url</th>\n",
       "      <th>release_date</th>\n",
       "      <th>tags</th>\n",
       "      <th>reviews_url</th>\n",
       "      <th>specs</th>\n",
       "      <th>price</th>\n",
       "      <th>early_access</th>\n",
       "      <th>id</th>\n",
       "      <th>developer</th>\n",
       "    </tr>\n",
       "  </thead>\n",
       "  <tbody>\n",
       "    <tr>\n",
       "      <th>88384</th>\n",
       "      <td>None</td>\n",
       "      <td>None</td>\n",
       "      <td>None</td>\n",
       "      <td>None</td>\n",
       "      <td>http://store.steampowered.com/</td>\n",
       "      <td>None</td>\n",
       "      <td>None</td>\n",
       "      <td>None</td>\n",
       "      <td>None</td>\n",
       "      <td>19.99</td>\n",
       "      <td>0.0</td>\n",
       "      <td>NaN</td>\n",
       "      <td>None</td>\n",
       "    </tr>\n",
       "    <tr>\n",
       "      <th>102204</th>\n",
       "      <td>Bethesda Softworks</td>\n",
       "      <td>[Action]</td>\n",
       "      <td>Wolfenstein II: The New Colossus</td>\n",
       "      <td>Wolfenstein II: The New Colossus</td>\n",
       "      <td>http://store.steampowered.com/app/612880/</td>\n",
       "      <td>2017-10-26</td>\n",
       "      <td>[Action, FPS, Gore, Violent, Alternate History...</td>\n",
       "      <td>http://steamcommunity.com/app/612880/reviews/?...</td>\n",
       "      <td>[Single-player, Steam Achievements, Full contr...</td>\n",
       "      <td>59.99</td>\n",
       "      <td>0.0</td>\n",
       "      <td>612880.0</td>\n",
       "      <td>Machine Games</td>\n",
       "    </tr>\n",
       "    <tr>\n",
       "      <th>102883</th>\n",
       "      <td>Bethesda Softworks</td>\n",
       "      <td>[Action]</td>\n",
       "      <td>Wolfenstein II: The New Colossus</td>\n",
       "      <td>Wolfenstein II: The New Colossus</td>\n",
       "      <td>http://store.steampowered.com/app/612880/Wolfe...</td>\n",
       "      <td>2017-10-26</td>\n",
       "      <td>[Action, FPS, Gore, Violent, Alternate History...</td>\n",
       "      <td>http://steamcommunity.com/app/612880/reviews/?...</td>\n",
       "      <td>[Single-player, Steam Achievements, Full contr...</td>\n",
       "      <td>59.99</td>\n",
       "      <td>0.0</td>\n",
       "      <td>612880.0</td>\n",
       "      <td>Machine Games</td>\n",
       "    </tr>\n",
       "    <tr>\n",
       "      <th>119271</th>\n",
       "      <td>Warner Bros. Interactive Entertainment, Feral ...</td>\n",
       "      <td>[Action, Adventure]</td>\n",
       "      <td>Batman: Arkham City - Game of the Year Edition</td>\n",
       "      <td>Batman: Arkham City - Game of the Year Edition</td>\n",
       "      <td>http://store.steampowered.com/app/200260</td>\n",
       "      <td>2012-09-07</td>\n",
       "      <td>[Action, Open World, Batman, Adventure, Stealt...</td>\n",
       "      <td>None</td>\n",
       "      <td>[Single-player, Steam Achievements, Steam Trad...</td>\n",
       "      <td>19.99</td>\n",
       "      <td>0.0</td>\n",
       "      <td>NaN</td>\n",
       "      <td>Rocksteady Studios,Feral Interactive (Mac)</td>\n",
       "    </tr>\n",
       "  </tbody>\n",
       "</table>\n",
       "</div>"
      ],
      "text/plain": [
       "                                                publisher  \\\n",
       "88384                                                None   \n",
       "102204                                 Bethesda Softworks   \n",
       "102883                                 Bethesda Softworks   \n",
       "119271  Warner Bros. Interactive Entertainment, Feral ...   \n",
       "\n",
       "                     genres                                        app_name  \\\n",
       "88384                  None                                            None   \n",
       "102204             [Action]                Wolfenstein II: The New Colossus   \n",
       "102883             [Action]                Wolfenstein II: The New Colossus   \n",
       "119271  [Action, Adventure]  Batman: Arkham City - Game of the Year Edition   \n",
       "\n",
       "                                                 title  \\\n",
       "88384                                             None   \n",
       "102204                Wolfenstein II: The New Colossus   \n",
       "102883                Wolfenstein II: The New Colossus   \n",
       "119271  Batman: Arkham City - Game of the Year Edition   \n",
       "\n",
       "                                                      url release_date  \\\n",
       "88384                      http://store.steampowered.com/         None   \n",
       "102204          http://store.steampowered.com/app/612880/   2017-10-26   \n",
       "102883  http://store.steampowered.com/app/612880/Wolfe...   2017-10-26   \n",
       "119271           http://store.steampowered.com/app/200260   2012-09-07   \n",
       "\n",
       "                                                     tags  \\\n",
       "88384                                                None   \n",
       "102204  [Action, FPS, Gore, Violent, Alternate History...   \n",
       "102883  [Action, FPS, Gore, Violent, Alternate History...   \n",
       "119271  [Action, Open World, Batman, Adventure, Stealt...   \n",
       "\n",
       "                                              reviews_url  \\\n",
       "88384                                                None   \n",
       "102204  http://steamcommunity.com/app/612880/reviews/?...   \n",
       "102883  http://steamcommunity.com/app/612880/reviews/?...   \n",
       "119271                                               None   \n",
       "\n",
       "                                                    specs  price  \\\n",
       "88384                                                None  19.99   \n",
       "102204  [Single-player, Steam Achievements, Full contr...  59.99   \n",
       "102883  [Single-player, Steam Achievements, Full contr...  59.99   \n",
       "119271  [Single-player, Steam Achievements, Steam Trad...  19.99   \n",
       "\n",
       "        early_access        id                                   developer  \n",
       "88384            0.0       NaN                                        None  \n",
       "102204           0.0  612880.0                               Machine Games  \n",
       "102883           0.0  612880.0                               Machine Games  \n",
       "119271           0.0       NaN  Rocksteady Studios,Feral Interactive (Mac)  "
      ]
     },
     "execution_count": 28,
     "metadata": {},
     "output_type": "execute_result"
    }
   ],
   "source": [
    "# Datos duplicados\n",
    "steam_games[steam_games['id'].duplicated(keep=False)]\n"
   ]
  },
  {
   "cell_type": "code",
   "execution_count": 29,
   "metadata": {},
   "outputs": [],
   "source": [
    "# Eliminación de datos duplicados\n",
    "\n",
    "index_duplicados_drop = [88384,102204,119271]\n",
    "steam_games.drop(index=index_duplicados_drop, axis=1, inplace=True)"
   ]
  },
  {
   "cell_type": "code",
   "execution_count": 30,
   "metadata": {},
   "outputs": [],
   "source": [
    "# Transforma una lista de elementos en un texto separado por coma\n",
    "def swap_to_text(x):\n",
    "  \"\"\"Convierte una lista de strings en un solo texto separado por comas y espacios.\"\"\"\n",
    "  if x is not None:\n",
    "      return ', '.join(x)\n",
    "  return x\n",
    "\n",
    "\n",
    "steam_games['genres'] = steam_games['genres'].apply(swap_to_text)\n",
    "steam_games['tags'] = steam_games['tags'].apply(swap_to_text)\n",
    "steam_games['specs'] = steam_games['specs'].apply(swap_to_text)"
   ]
  },
  {
   "cell_type": "markdown",
   "metadata": {},
   "source": [
    "### Tratamiento de datos nulos"
   ]
  },
  {
   "cell_type": "code",
   "execution_count": 31,
   "metadata": {},
   "outputs": [
    {
     "data": {
      "text/html": [
       "<div>\n",
       "<style scoped>\n",
       "    .dataframe tbody tr th:only-of-type {\n",
       "        vertical-align: middle;\n",
       "    }\n",
       "\n",
       "    .dataframe tbody tr th {\n",
       "        vertical-align: top;\n",
       "    }\n",
       "\n",
       "    .dataframe thead th {\n",
       "        text-align: right;\n",
       "    }\n",
       "</style>\n",
       "<table border=\"1\" class=\"dataframe\">\n",
       "  <thead>\n",
       "    <tr style=\"text-align: right;\">\n",
       "      <th></th>\n",
       "      <th>Nulls</th>\n",
       "    </tr>\n",
       "  </thead>\n",
       "  <tbody>\n",
       "    <tr>\n",
       "      <th>publisher</th>\n",
       "      <td>8051</td>\n",
       "    </tr>\n",
       "    <tr>\n",
       "      <th>genres</th>\n",
       "      <td>3282</td>\n",
       "    </tr>\n",
       "    <tr>\n",
       "      <th>app_name</th>\n",
       "      <td>1</td>\n",
       "    </tr>\n",
       "    <tr>\n",
       "      <th>title</th>\n",
       "      <td>2049</td>\n",
       "    </tr>\n",
       "    <tr>\n",
       "      <th>url</th>\n",
       "      <td>0</td>\n",
       "    </tr>\n",
       "    <tr>\n",
       "      <th>release_date</th>\n",
       "      <td>2066</td>\n",
       "    </tr>\n",
       "    <tr>\n",
       "      <th>tags</th>\n",
       "      <td>162</td>\n",
       "    </tr>\n",
       "    <tr>\n",
       "      <th>reviews_url</th>\n",
       "      <td>0</td>\n",
       "    </tr>\n",
       "    <tr>\n",
       "      <th>specs</th>\n",
       "      <td>669</td>\n",
       "    </tr>\n",
       "    <tr>\n",
       "      <th>price</th>\n",
       "      <td>1377</td>\n",
       "    </tr>\n",
       "    <tr>\n",
       "      <th>early_access</th>\n",
       "      <td>0</td>\n",
       "    </tr>\n",
       "    <tr>\n",
       "      <th>id</th>\n",
       "      <td>0</td>\n",
       "    </tr>\n",
       "    <tr>\n",
       "      <th>developer</th>\n",
       "      <td>3298</td>\n",
       "    </tr>\n",
       "  </tbody>\n",
       "</table>\n",
       "</div>"
      ],
      "text/plain": [
       "              Nulls\n",
       "publisher      8051\n",
       "genres         3282\n",
       "app_name          1\n",
       "title          2049\n",
       "url               0\n",
       "release_date   2066\n",
       "tags            162\n",
       "reviews_url       0\n",
       "specs           669\n",
       "price          1377\n",
       "early_access      0\n",
       "id                0\n",
       "developer      3298"
      ]
     },
     "execution_count": 31,
     "metadata": {},
     "output_type": "execute_result"
    }
   ],
   "source": [
    "pd.DataFrame(steam_games.isna().sum(),columns=['Nulls'])"
   ]
  },
  {
   "cell_type": "markdown",
   "metadata": {},
   "source": [
    "#### Analisis puntual de nulos"
   ]
  },
  {
   "cell_type": "code",
   "execution_count": 32,
   "metadata": {},
   "outputs": [],
   "source": [
    "# Eliminaremos las filas con app_name  nulo \n",
    "indices_a_borrar = steam_games[steam_games.app_name.isna()].index\n",
    "steam_games.drop(index=indices_a_borrar, inplace=True)\n",
    "\n",
    "# Rellenamos los titulos vacios con la columna app_name\n",
    "steam_games['title'] = steam_games['app_name'].fillna(steam_games['title'])\n",
    "\n",
    "# Completar los generos vacios con las etiquetas de los Tags\n",
    "steam_games['genres'] = steam_games['tags'].fillna(steam_games['genres'])\n",
    "\n",
    "# Si el dato en publisher se encuentrar nulo, entonces vamos a asumir que fue el desarrollador el publicador\n",
    "steam_games['publisher'].fillna(steam_games['developer'],inplace=True)\n",
    "\n",
    "# Si el dato en desarrollador se encuentrar nulo, entonces vamos a asumir que fue el publicador\n",
    "steam_games['developer'].fillna(steam_games['publisher'],inplace=True)\n",
    "\n",
    "# Si no hay datos del desarrollador y el publicador, entonces precederemos llenar 'otros'\n",
    "steam_games['publisher'].fillna('Otros', inplace=True)\n",
    "steam_games['developer'].fillna('Otros', inplace=True)\n"
   ]
  },
  {
   "cell_type": "markdown",
   "metadata": {},
   "source": [
    "#### Capitalización de texto"
   ]
  },
  {
   "cell_type": "code",
   "execution_count": 33,
   "metadata": {},
   "outputs": [],
   "source": [
    "# Capitalizacion de texto\n",
    "columns_capitalize = ['developer', 'publisher', 'app_name','title']\n",
    "\n",
    "for column in columns_capitalize:\n",
    "  steam_games[column] = steam_games[column].str.capitalize()\n",
    "  \n",
    "# Eliminacion de espacios en blanco\n",
    "steam_games[columns_capitalize] = steam_games[columns_capitalize].apply(lambda x: x.str.strip())"
   ]
  },
  {
   "cell_type": "markdown",
   "metadata": {},
   "source": [
    "#### Tratamiento de fechas"
   ]
  },
  {
   "cell_type": "code",
   "execution_count": 34,
   "metadata": {},
   "outputs": [],
   "source": [
    "# Cambiamos a formato fecha columna release_date y pusumos nulos los que no tenian un formato adecuado para poder establecer fecha\n",
    "steam_games['release_date'] = pd.to_datetime(steam_games['release_date'], format='%Y-%m-%d', errors='coerce')\n"
   ]
  },
  {
   "cell_type": "code",
   "execution_count": 35,
   "metadata": {},
   "outputs": [],
   "source": [
    "# Interpolamos fechas nulas usando interpolate. Este método lo he utilzado porque evita que cambie la distrbución de mis datos \n",
    "steam_games['release_date'] = steam_games['release_date'].interpolate()\n",
    "steam_games['release_date'] = pd.to_datetime(steam_games['release_date'], format='%Y-%m-%d', errors='coerce')\n"
   ]
  },
  {
   "cell_type": "code",
   "execution_count": 36,
   "metadata": {},
   "outputs": [],
   "source": [
    "# Crearemos las nuevas columnas 'release_year' y 'release_month'\n",
    "steam_games['release_year'] = steam_games['release_date'].dt.year\n",
    "steam_games['release_month'] = steam_games['release_date'].dt.month\n",
    "steam_games.drop(columns='release_date',inplace=True)"
   ]
  },
  {
   "cell_type": "code",
   "execution_count": 37,
   "metadata": {},
   "outputs": [
    {
     "data": {
      "text/plain": [
       "publisher           0\n",
       "genres            138\n",
       "app_name            0\n",
       "title               0\n",
       "url                 0\n",
       "tags              162\n",
       "reviews_url         0\n",
       "specs             669\n",
       "price            1376\n",
       "early_access        0\n",
       "id                  0\n",
       "developer           0\n",
       "release_year        0\n",
       "release_month       0\n",
       "dtype: int64"
      ]
     },
     "execution_count": 37,
     "metadata": {},
     "output_type": "execute_result"
    }
   ],
   "source": [
    "steam_games.isna().sum()"
   ]
  },
  {
   "cell_type": "markdown",
   "metadata": {},
   "source": [
    "### Analísis de columna Price"
   ]
  },
  {
   "cell_type": "code",
   "execution_count": 38,
   "metadata": {},
   "outputs": [
    {
     "data": {
      "text/plain": [
       "88310     False\n",
       "88311      True\n",
       "88312      True\n",
       "88313     False\n",
       "88314     False\n",
       "          ...  \n",
       "120440    False\n",
       "120441    False\n",
       "120442    False\n",
       "120443    False\n",
       "120444    False\n",
       "Name: price, Length: 32131, dtype: bool"
      ]
     },
     "execution_count": 38,
     "metadata": {},
     "output_type": "execute_result"
    }
   ],
   "source": [
    "steam_games['price'].str.contains(r'\\D+', case=False, na=False)"
   ]
  },
  {
   "cell_type": "code",
   "execution_count": 39,
   "metadata": {},
   "outputs": [],
   "source": [
    "def filtro_reg_exp(reg_exp, df):\n",
    "  \"Filtra una columan por una expresion regular reg_exp \"\n",
    "  \n",
    "  mask = df.str.contains(reg_exp, case=False, na=False)\n",
    "  return df[mask]"
   ]
  },
  {
   "cell_type": "code",
   "execution_count": 40,
   "metadata": {},
   "outputs": [
    {
     "data": {
      "text/plain": [
       "array(['Free To Play', 'Free to Play', 'Free', 'Free Demo',\n",
       "       'Play for Free!', 'Install Now', 'Play WARMACHINE: Tactics Demo',\n",
       "       'Free Mod', 'Install Theme', 'Third-party', 'Play Now',\n",
       "       'Free HITMAN™ Holiday Pack', 'Play the Demo',\n",
       "       'Starting at $499.00', 'Starting at $449.00', 'Free to Try',\n",
       "       'Free Movie', 'Free to Use'], dtype=object)"
      ]
     },
     "execution_count": 40,
     "metadata": {},
     "output_type": "execute_result"
    }
   ],
   "source": [
    "# Encontremos los valores de precio que son de tipo str\n",
    "filtro_reg_exp(r'\\D+' ,steam_games['price']).unique()"
   ]
  },
  {
   "cell_type": "code",
   "execution_count": 41,
   "metadata": {},
   "outputs": [],
   "source": [
    "input_price = {'Free To Play': 0, \n",
    "              'Free to Play': 0, \n",
    "              'Free': 0, \n",
    "              'Free Demo': 0,\n",
    "              'Play for Free!': 0,\n",
    "              'Install Now': 0, \n",
    "              'Play WARMACHINE: Tactics Demo': 0,\n",
    "              'Free Mod': 0, \n",
    "              'Install Theme': 0, \n",
    "              'Third-party': 0,\n",
    "              'Play Now': 0,\n",
    "              'Free HITMAN™ Holiday Pack': 0, \n",
    "              'Play the Demo': 0,\n",
    "              'Starting at $499.00': 499, \n",
    "              'Starting at $449.00': 449, \n",
    "              'Free to Try': 0,\n",
    "              'Free Movie': 0, \n",
    "              'Free to Use': 0}\n",
    "\n",
    "#Imputacion de precios\n",
    "steam_games['price'] = steam_games['price'].replace(input_price)"
   ]
  },
  {
   "cell_type": "markdown",
   "metadata": {},
   "source": [
    "### Imputacion de data"
   ]
  },
  {
   "cell_type": "code",
   "execution_count": 43,
   "metadata": {},
   "outputs": [
    {
     "data": {
      "text/plain": [
       "publisher           0\n",
       "genres            138\n",
       "app_name            0\n",
       "title               0\n",
       "url                 0\n",
       "tags              162\n",
       "reviews_url         0\n",
       "specs             669\n",
       "price            1376\n",
       "early_access        0\n",
       "id                  0\n",
       "developer           0\n",
       "release_year        0\n",
       "release_month       0\n",
       "dtype: int64"
      ]
     },
     "execution_count": 43,
     "metadata": {},
     "output_type": "execute_result"
    }
   ],
   "source": [
    "steam_games.isna().sum()"
   ]
  },
  {
   "cell_type": "code",
   "execution_count": 45,
   "metadata": {},
   "outputs": [
    {
     "data": {
      "text/html": [
       "<div>\n",
       "<style scoped>\n",
       "    .dataframe tbody tr th:only-of-type {\n",
       "        vertical-align: middle;\n",
       "    }\n",
       "\n",
       "    .dataframe tbody tr th {\n",
       "        vertical-align: top;\n",
       "    }\n",
       "\n",
       "    .dataframe thead th {\n",
       "        text-align: right;\n",
       "    }\n",
       "</style>\n",
       "<table border=\"1\" class=\"dataframe\">\n",
       "  <thead>\n",
       "    <tr style=\"text-align: right;\">\n",
       "      <th></th>\n",
       "      <th>publisher</th>\n",
       "      <th>genres</th>\n",
       "      <th>app_name</th>\n",
       "      <th>title</th>\n",
       "      <th>url</th>\n",
       "      <th>tags</th>\n",
       "      <th>reviews_url</th>\n",
       "      <th>specs</th>\n",
       "      <th>price</th>\n",
       "      <th>early_access</th>\n",
       "      <th>id</th>\n",
       "      <th>developer</th>\n",
       "      <th>release_year</th>\n",
       "      <th>release_month</th>\n",
       "    </tr>\n",
       "  </thead>\n",
       "  <tbody>\n",
       "    <tr>\n",
       "      <th>120416</th>\n",
       "      <td>Valve</td>\n",
       "      <td>Action, FPS, Multiplayer, Shooter, Classic, Te...</td>\n",
       "      <td>Counter-strike</td>\n",
       "      <td>Counter-strike</td>\n",
       "      <td>http://store.steampowered.com/app/10/CounterSt...</td>\n",
       "      <td>Action, FPS, Multiplayer, Shooter, Classic, Te...</td>\n",
       "      <td>http://steamcommunity.com/app/10/reviews/?brow...</td>\n",
       "      <td>Multi-player, Valve Anti-Cheat enabled</td>\n",
       "      <td>9.99</td>\n",
       "      <td>0.0</td>\n",
       "      <td>10.0</td>\n",
       "      <td>Valve</td>\n",
       "      <td>2000</td>\n",
       "      <td>11</td>\n",
       "    </tr>\n",
       "  </tbody>\n",
       "</table>\n",
       "</div>"
      ],
      "text/plain": [
       "       publisher                                             genres  \\\n",
       "120416     Valve  Action, FPS, Multiplayer, Shooter, Classic, Te...   \n",
       "\n",
       "              app_name           title  \\\n",
       "120416  Counter-strike  Counter-strike   \n",
       "\n",
       "                                                      url  \\\n",
       "120416  http://store.steampowered.com/app/10/CounterSt...   \n",
       "\n",
       "                                                     tags  \\\n",
       "120416  Action, FPS, Multiplayer, Shooter, Classic, Te...   \n",
       "\n",
       "                                              reviews_url  \\\n",
       "120416  http://steamcommunity.com/app/10/reviews/?brow...   \n",
       "\n",
       "                                         specs  price  early_access    id  \\\n",
       "120416  Multi-player, Valve Anti-Cheat enabled   9.99           0.0  10.0   \n",
       "\n",
       "       developer  release_year  release_month  \n",
       "120416     Valve          2000             11  "
      ]
     },
     "execution_count": 45,
     "metadata": {},
     "output_type": "execute_result"
    }
   ],
   "source": [
    "steam_games[steam_games['id']== 10]"
   ]
  }
 ],
 "metadata": {
  "kernelspec": {
   "display_name": "env",
   "language": "python",
   "name": "python3"
  },
  "language_info": {
   "codemirror_mode": {
    "name": "ipython",
    "version": 3
   },
   "file_extension": ".py",
   "mimetype": "text/x-python",
   "name": "python",
   "nbconvert_exporter": "python",
   "pygments_lexer": "ipython3",
   "version": "3.10.12"
  }
 },
 "nbformat": 4,
 "nbformat_minor": 2
}
