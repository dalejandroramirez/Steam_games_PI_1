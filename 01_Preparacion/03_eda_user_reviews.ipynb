{
 "cells": [
  {
   "cell_type": "code",
   "execution_count": null,
   "metadata": {},
   "outputs": [],
   "source": [
    "import pandas as pd\n",
    "import gzip\n",
    "import json\n",
    "import ast\n",
    "\n",
    "data_list = []\n",
    "file_path = 'australian_users_items.json'\n",
    "with open(file_path, 'r', encoding='utf-8') as file:\n",
    "    for line in file:\n",
    "        try:\n",
    "            # Usar ast.literal_eval para convertir la línea en un diccionario\n",
    "            json_data = ast.literal_eval(line)\n",
    "            data_list.append(json_data)\n",
    "        except ValueError as e:\n",
    "            print(f\"Error en la línea: {line}\")\n",
    "            continue\n",
    "df_user_items = pd.DataFrame(data_list)\n",
    "\n",
    "# Creo un df con el archivo review y accedo a la columna que me interesa desanidar.\n",
    "df_items = df_user_items.explode('items')\n",
    "\n",
    "# Creo un nuevo df donde esta la info desanidada en columnas\n",
    "df_items = pd.concat([df_user_items.drop(['items'], axis=1), df_user_items['items'].apply(pd.Series)], axis=1) \n",
    "\n",
    "# Guardamos el dataframe obtenido con compresión parquet\n",
    "df_items.to_parquet('../data/df_items.parquet')"
   ]
  }
 ],
 "metadata": {
  "language_info": {
   "name": "python"
  }
 },
 "nbformat": 4,
 "nbformat_minor": 2
}
