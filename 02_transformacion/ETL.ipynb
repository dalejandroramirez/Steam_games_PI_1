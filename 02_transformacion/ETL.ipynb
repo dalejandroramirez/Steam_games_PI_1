{
 "cells": [
  {
   "cell_type": "code",
   "execution_count": 2,
   "metadata": {},
   "outputs": [],
   "source": [
    "import pandas as pd \n",
    "import os, gzip \n",
    "import re\n",
    "from funciones_aux.desempaquetado  import *"
   ]
  },
  {
   "cell_type": "markdown",
   "metadata": {},
   "source": [
    "\n",
    "**Desanidamos los archivos user_reviews y users_items. Para solucionar esto usamos el modulo desempaquedo**"
   ]
  },
  {
   "cell_type": "markdown",
   "metadata": {},
   "source": [
    "# ETL: Users_items"
   ]
  },
  {
   "cell_type": "markdown",
   "metadata": {},
   "source": [
    "## Extracción de users_items"
   ]
  },
  {
   "cell_type": "code",
   "execution_count": 116,
   "metadata": {},
   "outputs": [],
   "source": [
    "path_data_json =  os.path.join('..','data','raw','users_items.json.gz')\n",
    "path_data_csv =  os.path.join('..','data','clear','users_items.csv.gz')\n",
    "\n",
    "# user_items = desempaquetado_users_items(path_data_json, path_data_csv)\n",
    "user_items = pd.read_csv(path_data_csv, compression='gzip')"
   ]
  },
  {
   "cell_type": "markdown",
   "metadata": {},
   "source": [
    "## Transformación de users_items"
   ]
  },
  {
   "cell_type": "markdown",
   "metadata": {},
   "source": [
    "### Eliminación de datos nulos\n",
    "- Dado que no existe información suficiente para inputar datos en users_items procederemos a eliminar estas filas nulas"
   ]
  },
  {
   "cell_type": "code",
   "execution_count": 117,
   "metadata": {},
   "outputs": [],
   "source": [
    "user_items.dropna(inplace=True)"
   ]
  },
  {
   "cell_type": "markdown",
   "metadata": {},
   "source": [
    "## Carga de data de users_items"
   ]
  },
  {
   "cell_type": "code",
   "execution_count": 118,
   "metadata": {},
   "outputs": [],
   "source": [
    "path_data_csv =  os.path.join('..','data','clear','users_items.csv.gz')\n",
    "\n",
    "user_items.to_csv(path_data_csv,index = False)\n"
   ]
  },
  {
   "cell_type": "markdown",
   "metadata": {},
   "source": [
    "**Observación**\n",
    "\n",
    "Inspeccionando users_items, con la funcón **desempaquetado_users_items** nos quedamos únicamente con las columnas que eran necesarias, la columna item_name la eliminamos ya que se puede obtener de steam games por medio de item_id."
   ]
  },
  {
   "cell_type": "markdown",
   "metadata": {},
   "source": [
    "# ETL User_Reviews"
   ]
  },
  {
   "cell_type": "markdown",
   "metadata": {},
   "source": [
    "## Extraccion de user_reviews"
   ]
  },
  {
   "cell_type": "code",
   "execution_count": 3,
   "metadata": {},
   "outputs": [],
   "source": [
    "path_data_json =  os.path.join('..','data','raw','user_reviews.json.gz')\n",
    "\n",
    "reviews = desempaquetado_reviews(path_data_json)\n"
   ]
  },
  {
   "cell_type": "markdown",
   "metadata": {},
   "source": [
    "## Tranformacion de user_reviews"
   ]
  },
  {
   "cell_type": "markdown",
   "metadata": {},
   "source": [
    "### Eliminación de datos nulos\n",
    "- Existen 28 usuarios que no tienen información, por lo que vamos a proceder a eliminar"
   ]
  },
  {
   "cell_type": "code",
   "execution_count": 4,
   "metadata": {},
   "outputs": [
    {
     "data": {
      "text/html": [
       "<div>\n",
       "<style scoped>\n",
       "    .dataframe tbody tr th:only-of-type {\n",
       "        vertical-align: middle;\n",
       "    }\n",
       "\n",
       "    .dataframe tbody tr th {\n",
       "        vertical-align: top;\n",
       "    }\n",
       "\n",
       "    .dataframe thead th {\n",
       "        text-align: right;\n",
       "    }\n",
       "</style>\n",
       "<table border=\"1\" class=\"dataframe\">\n",
       "  <thead>\n",
       "    <tr style=\"text-align: right;\">\n",
       "      <th></th>\n",
       "      <th>user_id</th>\n",
       "      <th>funny</th>\n",
       "      <th>posted</th>\n",
       "      <th>last_edited</th>\n",
       "      <th>item_id</th>\n",
       "      <th>helpful</th>\n",
       "      <th>recommend</th>\n",
       "      <th>review</th>\n",
       "    </tr>\n",
       "  </thead>\n",
       "  <tbody>\n",
       "    <tr>\n",
       "      <th>137</th>\n",
       "      <td>gdxsd</td>\n",
       "      <td>NaN</td>\n",
       "      <td>NaN</td>\n",
       "      <td>NaN</td>\n",
       "      <td>NaN</td>\n",
       "      <td>NaN</td>\n",
       "      <td>NaN</td>\n",
       "      <td>NaN</td>\n",
       "    </tr>\n",
       "    <tr>\n",
       "      <th>177</th>\n",
       "      <td>76561198094224872</td>\n",
       "      <td>NaN</td>\n",
       "      <td>NaN</td>\n",
       "      <td>NaN</td>\n",
       "      <td>NaN</td>\n",
       "      <td>NaN</td>\n",
       "      <td>NaN</td>\n",
       "      <td>NaN</td>\n",
       "    </tr>\n",
       "    <tr>\n",
       "      <th>2559</th>\n",
       "      <td>76561198021575394</td>\n",
       "      <td>NaN</td>\n",
       "      <td>NaN</td>\n",
       "      <td>NaN</td>\n",
       "      <td>NaN</td>\n",
       "      <td>NaN</td>\n",
       "      <td>NaN</td>\n",
       "      <td>NaN</td>\n",
       "    </tr>\n",
       "    <tr>\n",
       "      <th>10080</th>\n",
       "      <td>cmuir37</td>\n",
       "      <td>NaN</td>\n",
       "      <td>NaN</td>\n",
       "      <td>NaN</td>\n",
       "      <td>NaN</td>\n",
       "      <td>NaN</td>\n",
       "      <td>NaN</td>\n",
       "      <td>NaN</td>\n",
       "    </tr>\n",
       "    <tr>\n",
       "      <th>13767</th>\n",
       "      <td>Jaysteeny</td>\n",
       "      <td>NaN</td>\n",
       "      <td>NaN</td>\n",
       "      <td>NaN</td>\n",
       "      <td>NaN</td>\n",
       "      <td>NaN</td>\n",
       "      <td>NaN</td>\n",
       "      <td>NaN</td>\n",
       "    </tr>\n",
       "    <tr>\n",
       "      <th>15493</th>\n",
       "      <td>ML8989</td>\n",
       "      <td>NaN</td>\n",
       "      <td>NaN</td>\n",
       "      <td>NaN</td>\n",
       "      <td>NaN</td>\n",
       "      <td>NaN</td>\n",
       "      <td>NaN</td>\n",
       "      <td>NaN</td>\n",
       "    </tr>\n",
       "    <tr>\n",
       "      <th>19184</th>\n",
       "      <td>76561198079215291</td>\n",
       "      <td>NaN</td>\n",
       "      <td>NaN</td>\n",
       "      <td>NaN</td>\n",
       "      <td>NaN</td>\n",
       "      <td>NaN</td>\n",
       "      <td>NaN</td>\n",
       "      <td>NaN</td>\n",
       "    </tr>\n",
       "    <tr>\n",
       "      <th>20223</th>\n",
       "      <td>76561198079342142</td>\n",
       "      <td>NaN</td>\n",
       "      <td>NaN</td>\n",
       "      <td>NaN</td>\n",
       "      <td>NaN</td>\n",
       "      <td>NaN</td>\n",
       "      <td>NaN</td>\n",
       "      <td>NaN</td>\n",
       "    </tr>\n",
       "    <tr>\n",
       "      <th>25056</th>\n",
       "      <td>76561198061996985</td>\n",
       "      <td>NaN</td>\n",
       "      <td>NaN</td>\n",
       "      <td>NaN</td>\n",
       "      <td>NaN</td>\n",
       "      <td>NaN</td>\n",
       "      <td>NaN</td>\n",
       "      <td>NaN</td>\n",
       "    </tr>\n",
       "    <tr>\n",
       "      <th>26257</th>\n",
       "      <td>76561198108286351</td>\n",
       "      <td>NaN</td>\n",
       "      <td>NaN</td>\n",
       "      <td>NaN</td>\n",
       "      <td>NaN</td>\n",
       "      <td>NaN</td>\n",
       "      <td>NaN</td>\n",
       "      <td>NaN</td>\n",
       "    </tr>\n",
       "    <tr>\n",
       "      <th>26674</th>\n",
       "      <td>CallTripleZero</td>\n",
       "      <td>NaN</td>\n",
       "      <td>NaN</td>\n",
       "      <td>NaN</td>\n",
       "      <td>NaN</td>\n",
       "      <td>NaN</td>\n",
       "      <td>NaN</td>\n",
       "      <td>NaN</td>\n",
       "    </tr>\n",
       "    <tr>\n",
       "      <th>28444</th>\n",
       "      <td>Priceless612</td>\n",
       "      <td>NaN</td>\n",
       "      <td>NaN</td>\n",
       "      <td>NaN</td>\n",
       "      <td>NaN</td>\n",
       "      <td>NaN</td>\n",
       "      <td>NaN</td>\n",
       "      <td>NaN</td>\n",
       "    </tr>\n",
       "    <tr>\n",
       "      <th>28452</th>\n",
       "      <td>diabolical666</td>\n",
       "      <td>NaN</td>\n",
       "      <td>NaN</td>\n",
       "      <td>NaN</td>\n",
       "      <td>NaN</td>\n",
       "      <td>NaN</td>\n",
       "      <td>NaN</td>\n",
       "      <td>NaN</td>\n",
       "    </tr>\n",
       "    <tr>\n",
       "      <th>28975</th>\n",
       "      <td>DrScottnik</td>\n",
       "      <td>NaN</td>\n",
       "      <td>NaN</td>\n",
       "      <td>NaN</td>\n",
       "      <td>NaN</td>\n",
       "      <td>NaN</td>\n",
       "      <td>NaN</td>\n",
       "      <td>NaN</td>\n",
       "    </tr>\n",
       "    <tr>\n",
       "      <th>31955</th>\n",
       "      <td>76561198110176420</td>\n",
       "      <td>NaN</td>\n",
       "      <td>NaN</td>\n",
       "      <td>NaN</td>\n",
       "      <td>NaN</td>\n",
       "      <td>NaN</td>\n",
       "      <td>NaN</td>\n",
       "      <td>NaN</td>\n",
       "    </tr>\n",
       "    <tr>\n",
       "      <th>32819</th>\n",
       "      <td>jojoPL1987</td>\n",
       "      <td>NaN</td>\n",
       "      <td>NaN</td>\n",
       "      <td>NaN</td>\n",
       "      <td>NaN</td>\n",
       "      <td>NaN</td>\n",
       "      <td>NaN</td>\n",
       "      <td>NaN</td>\n",
       "    </tr>\n",
       "    <tr>\n",
       "      <th>33785</th>\n",
       "      <td>Kylee_Kylie</td>\n",
       "      <td>NaN</td>\n",
       "      <td>NaN</td>\n",
       "      <td>NaN</td>\n",
       "      <td>NaN</td>\n",
       "      <td>NaN</td>\n",
       "      <td>NaN</td>\n",
       "      <td>NaN</td>\n",
       "    </tr>\n",
       "    <tr>\n",
       "      <th>39279</th>\n",
       "      <td>_samie</td>\n",
       "      <td>NaN</td>\n",
       "      <td>NaN</td>\n",
       "      <td>NaN</td>\n",
       "      <td>NaN</td>\n",
       "      <td>NaN</td>\n",
       "      <td>NaN</td>\n",
       "      <td>NaN</td>\n",
       "    </tr>\n",
       "    <tr>\n",
       "      <th>39357</th>\n",
       "      <td>FifthExclamation</td>\n",
       "      <td>NaN</td>\n",
       "      <td>NaN</td>\n",
       "      <td>NaN</td>\n",
       "      <td>NaN</td>\n",
       "      <td>NaN</td>\n",
       "      <td>NaN</td>\n",
       "      <td>NaN</td>\n",
       "    </tr>\n",
       "    <tr>\n",
       "      <th>39420</th>\n",
       "      <td>sbenji</td>\n",
       "      <td>NaN</td>\n",
       "      <td>NaN</td>\n",
       "      <td>NaN</td>\n",
       "      <td>NaN</td>\n",
       "      <td>NaN</td>\n",
       "      <td>NaN</td>\n",
       "      <td>NaN</td>\n",
       "    </tr>\n",
       "    <tr>\n",
       "      <th>40661</th>\n",
       "      <td>SpatialWheel14</td>\n",
       "      <td>NaN</td>\n",
       "      <td>NaN</td>\n",
       "      <td>NaN</td>\n",
       "      <td>NaN</td>\n",
       "      <td>NaN</td>\n",
       "      <td>NaN</td>\n",
       "      <td>NaN</td>\n",
       "    </tr>\n",
       "    <tr>\n",
       "      <th>41777</th>\n",
       "      <td>76561198065238937</td>\n",
       "      <td>NaN</td>\n",
       "      <td>NaN</td>\n",
       "      <td>NaN</td>\n",
       "      <td>NaN</td>\n",
       "      <td>NaN</td>\n",
       "      <td>NaN</td>\n",
       "      <td>NaN</td>\n",
       "    </tr>\n",
       "    <tr>\n",
       "      <th>44384</th>\n",
       "      <td>76561198071075080</td>\n",
       "      <td>NaN</td>\n",
       "      <td>NaN</td>\n",
       "      <td>NaN</td>\n",
       "      <td>NaN</td>\n",
       "      <td>NaN</td>\n",
       "      <td>NaN</td>\n",
       "      <td>NaN</td>\n",
       "    </tr>\n",
       "    <tr>\n",
       "      <th>50718</th>\n",
       "      <td>76561198063489150</td>\n",
       "      <td>NaN</td>\n",
       "      <td>NaN</td>\n",
       "      <td>NaN</td>\n",
       "      <td>NaN</td>\n",
       "      <td>NaN</td>\n",
       "      <td>NaN</td>\n",
       "      <td>NaN</td>\n",
       "    </tr>\n",
       "    <tr>\n",
       "      <th>53323</th>\n",
       "      <td>thecommunistbear</td>\n",
       "      <td>NaN</td>\n",
       "      <td>NaN</td>\n",
       "      <td>NaN</td>\n",
       "      <td>NaN</td>\n",
       "      <td>NaN</td>\n",
       "      <td>NaN</td>\n",
       "      <td>NaN</td>\n",
       "    </tr>\n",
       "    <tr>\n",
       "      <th>55425</th>\n",
       "      <td>76561198085883839</td>\n",
       "      <td>NaN</td>\n",
       "      <td>NaN</td>\n",
       "      <td>NaN</td>\n",
       "      <td>NaN</td>\n",
       "      <td>NaN</td>\n",
       "      <td>NaN</td>\n",
       "      <td>NaN</td>\n",
       "    </tr>\n",
       "    <tr>\n",
       "      <th>57578</th>\n",
       "      <td>76561198100396147</td>\n",
       "      <td>NaN</td>\n",
       "      <td>NaN</td>\n",
       "      <td>NaN</td>\n",
       "      <td>NaN</td>\n",
       "      <td>NaN</td>\n",
       "      <td>NaN</td>\n",
       "      <td>NaN</td>\n",
       "    </tr>\n",
       "    <tr>\n",
       "      <th>57766</th>\n",
       "      <td>76561198102423654</td>\n",
       "      <td>NaN</td>\n",
       "      <td>NaN</td>\n",
       "      <td>NaN</td>\n",
       "      <td>NaN</td>\n",
       "      <td>NaN</td>\n",
       "      <td>NaN</td>\n",
       "      <td>NaN</td>\n",
       "    </tr>\n",
       "  </tbody>\n",
       "</table>\n",
       "</div>"
      ],
      "text/plain": [
       "                 user_id funny posted last_edited item_id helpful recommend  \\\n",
       "137                gdxsd   NaN    NaN         NaN     NaN     NaN       NaN   \n",
       "177    76561198094224872   NaN    NaN         NaN     NaN     NaN       NaN   \n",
       "2559   76561198021575394   NaN    NaN         NaN     NaN     NaN       NaN   \n",
       "10080            cmuir37   NaN    NaN         NaN     NaN     NaN       NaN   \n",
       "13767          Jaysteeny   NaN    NaN         NaN     NaN     NaN       NaN   \n",
       "15493             ML8989   NaN    NaN         NaN     NaN     NaN       NaN   \n",
       "19184  76561198079215291   NaN    NaN         NaN     NaN     NaN       NaN   \n",
       "20223  76561198079342142   NaN    NaN         NaN     NaN     NaN       NaN   \n",
       "25056  76561198061996985   NaN    NaN         NaN     NaN     NaN       NaN   \n",
       "26257  76561198108286351   NaN    NaN         NaN     NaN     NaN       NaN   \n",
       "26674     CallTripleZero   NaN    NaN         NaN     NaN     NaN       NaN   \n",
       "28444       Priceless612   NaN    NaN         NaN     NaN     NaN       NaN   \n",
       "28452      diabolical666   NaN    NaN         NaN     NaN     NaN       NaN   \n",
       "28975         DrScottnik   NaN    NaN         NaN     NaN     NaN       NaN   \n",
       "31955  76561198110176420   NaN    NaN         NaN     NaN     NaN       NaN   \n",
       "32819         jojoPL1987   NaN    NaN         NaN     NaN     NaN       NaN   \n",
       "33785        Kylee_Kylie   NaN    NaN         NaN     NaN     NaN       NaN   \n",
       "39279             _samie   NaN    NaN         NaN     NaN     NaN       NaN   \n",
       "39357   FifthExclamation   NaN    NaN         NaN     NaN     NaN       NaN   \n",
       "39420             sbenji   NaN    NaN         NaN     NaN     NaN       NaN   \n",
       "40661     SpatialWheel14   NaN    NaN         NaN     NaN     NaN       NaN   \n",
       "41777  76561198065238937   NaN    NaN         NaN     NaN     NaN       NaN   \n",
       "44384  76561198071075080   NaN    NaN         NaN     NaN     NaN       NaN   \n",
       "50718  76561198063489150   NaN    NaN         NaN     NaN     NaN       NaN   \n",
       "53323   thecommunistbear   NaN    NaN         NaN     NaN     NaN       NaN   \n",
       "55425  76561198085883839   NaN    NaN         NaN     NaN     NaN       NaN   \n",
       "57578  76561198100396147   NaN    NaN         NaN     NaN     NaN       NaN   \n",
       "57766  76561198102423654   NaN    NaN         NaN     NaN     NaN       NaN   \n",
       "\n",
       "      review  \n",
       "137      NaN  \n",
       "177      NaN  \n",
       "2559     NaN  \n",
       "10080    NaN  \n",
       "13767    NaN  \n",
       "15493    NaN  \n",
       "19184    NaN  \n",
       "20223    NaN  \n",
       "25056    NaN  \n",
       "26257    NaN  \n",
       "26674    NaN  \n",
       "28444    NaN  \n",
       "28452    NaN  \n",
       "28975    NaN  \n",
       "31955    NaN  \n",
       "32819    NaN  \n",
       "33785    NaN  \n",
       "39279    NaN  \n",
       "39357    NaN  \n",
       "39420    NaN  \n",
       "40661    NaN  \n",
       "41777    NaN  \n",
       "44384    NaN  \n",
       "50718    NaN  \n",
       "53323    NaN  \n",
       "55425    NaN  \n",
       "57578    NaN  \n",
       "57766    NaN  "
      ]
     },
     "execution_count": 4,
     "metadata": {},
     "output_type": "execute_result"
    }
   ],
   "source": [
    "reviews[reviews.isnull().any(axis=1)]"
   ]
  },
  {
   "cell_type": "code",
   "execution_count": 5,
   "metadata": {},
   "outputs": [],
   "source": [
    "reviews.dropna(inplace=True)"
   ]
  },
  {
   "cell_type": "markdown",
   "metadata": {},
   "source": [
    "### Imputación de columna funny\n",
    "- Esta columna contiene informacón de si a alguien le pareció divertido el comentario, vamos a extraer el número de personas a las que el comentario les pareció divertido. "
   ]
  },
  {
   "cell_type": "code",
   "execution_count": 6,
   "metadata": {},
   "outputs": [],
   "source": [
    "\n",
    "def num_is_funny(row):\n",
    "  \"\"\" \n",
    "  Args:\n",
    "      row (str): texto que quiero extraer el número.\n",
    "\n",
    "  Returns:\n",
    "      int : retorna el número de personas que le pareció divertido\n",
    "  \"\"\"\n",
    "  \n",
    "  match = re.search(r'(\\d+) people found', row)\n",
    "  if match :\n",
    "    return int(match.group(1))\n",
    "  return (0)\n",
    "\n",
    "reviews['funny_count'] = reviews['funny'].apply(num_is_funny)"
   ]
  },
  {
   "cell_type": "markdown",
   "metadata": {},
   "source": [
    "### Imputación columna helpful"
   ]
  },
  {
   "cell_type": "code",
   "execution_count": 7,
   "metadata": {},
   "outputs": [
    {
     "data": {
      "text/html": [
       "<div>\n",
       "<style scoped>\n",
       "    .dataframe tbody tr th:only-of-type {\n",
       "        vertical-align: middle;\n",
       "    }\n",
       "\n",
       "    .dataframe tbody tr th {\n",
       "        vertical-align: top;\n",
       "    }\n",
       "\n",
       "    .dataframe thead th {\n",
       "        text-align: right;\n",
       "    }\n",
       "</style>\n",
       "<table border=\"1\" class=\"dataframe\">\n",
       "  <thead>\n",
       "    <tr style=\"text-align: right;\">\n",
       "      <th></th>\n",
       "      <th>Helpfull Unicos</th>\n",
       "    </tr>\n",
       "  </thead>\n",
       "  <tbody>\n",
       "    <tr>\n",
       "      <th>153</th>\n",
       "      <td>83 of 106 people (78%) found this review helpful</td>\n",
       "    </tr>\n",
       "    <tr>\n",
       "      <th>555</th>\n",
       "      <td>35 of 102 people (34%) found this review helpful</td>\n",
       "    </tr>\n",
       "    <tr>\n",
       "      <th>613</th>\n",
       "      <td>145 of 207 people (70%) found this review helpful</td>\n",
       "    </tr>\n",
       "    <tr>\n",
       "      <th>1201</th>\n",
       "      <td>8 of 22 people (36%) found this review helpful</td>\n",
       "    </tr>\n",
       "    <tr>\n",
       "      <th>303</th>\n",
       "      <td>8 of 17 people (47%) found this review helpful</td>\n",
       "    </tr>\n",
       "    <tr>\n",
       "      <th>741</th>\n",
       "      <td>155 of 179 people (87%) found this review helpful</td>\n",
       "    </tr>\n",
       "    <tr>\n",
       "      <th>490</th>\n",
       "      <td>41 of 41 people (100%) found this review helpful</td>\n",
       "    </tr>\n",
       "    <tr>\n",
       "      <th>616</th>\n",
       "      <td>493 of 618 people (80%) found this review helpful</td>\n",
       "    </tr>\n",
       "    <tr>\n",
       "      <th>1025</th>\n",
       "      <td>129 of 160 people (81%) found this review helpful</td>\n",
       "    </tr>\n",
       "    <tr>\n",
       "      <th>517</th>\n",
       "      <td>1 of 29 people (3%) found this review helpful</td>\n",
       "    </tr>\n",
       "  </tbody>\n",
       "</table>\n",
       "</div>"
      ],
      "text/plain": [
       "                                        Helpfull Unicos\n",
       "153    83 of 106 people (78%) found this review helpful\n",
       "555    35 of 102 people (34%) found this review helpful\n",
       "613   145 of 207 people (70%) found this review helpful\n",
       "1201     8 of 22 people (36%) found this review helpful\n",
       "303      8 of 17 people (47%) found this review helpful\n",
       "741   155 of 179 people (87%) found this review helpful\n",
       "490    41 of 41 people (100%) found this review helpful\n",
       "616   493 of 618 people (80%) found this review helpful\n",
       "1025  129 of 160 people (81%) found this review helpful\n",
       "517       1 of 29 people (3%) found this review helpful"
      ]
     },
     "execution_count": 7,
     "metadata": {},
     "output_type": "execute_result"
    }
   ],
   "source": [
    "pd.DataFrame(reviews['helpful'].unique(), columns=['Helpfull Unicos']).sample(10)"
   ]
  },
  {
   "cell_type": "code",
   "execution_count": 8,
   "metadata": {},
   "outputs": [
    {
     "data": {
      "text/html": [
       "<div>\n",
       "<style scoped>\n",
       "    .dataframe tbody tr th:only-of-type {\n",
       "        vertical-align: middle;\n",
       "    }\n",
       "\n",
       "    .dataframe tbody tr th {\n",
       "        vertical-align: top;\n",
       "    }\n",
       "\n",
       "    .dataframe thead th {\n",
       "        text-align: right;\n",
       "    }\n",
       "</style>\n",
       "<table border=\"1\" class=\"dataframe\">\n",
       "  <thead>\n",
       "    <tr style=\"text-align: right;\">\n",
       "      <th></th>\n",
       "      <th>user_id</th>\n",
       "      <th>funny</th>\n",
       "      <th>posted</th>\n",
       "      <th>last_edited</th>\n",
       "      <th>item_id</th>\n",
       "      <th>helpful</th>\n",
       "      <th>recommend</th>\n",
       "      <th>review</th>\n",
       "      <th>funny_count</th>\n",
       "    </tr>\n",
       "  </thead>\n",
       "  <tbody>\n",
       "    <tr>\n",
       "      <th>17797</th>\n",
       "      <td>OneEyedWolf</td>\n",
       "      <td>4 people found this review funny</td>\n",
       "      <td>Posted January 10, 2015.</td>\n",
       "      <td></td>\n",
       "      <td>340460</td>\n",
       "      <td>17 of 73 people (23%) found this review helpful</td>\n",
       "      <td>True</td>\n",
       "      <td>Well.. this game is better than doing nothing,...</td>\n",
       "      <td>4</td>\n",
       "    </tr>\n",
       "  </tbody>\n",
       "</table>\n",
       "</div>"
      ],
      "text/plain": [
       "           user_id                             funny  \\\n",
       "17797  OneEyedWolf  4 people found this review funny   \n",
       "\n",
       "                         posted last_edited item_id  \\\n",
       "17797  Posted January 10, 2015.              340460   \n",
       "\n",
       "                                               helpful recommend  \\\n",
       "17797  17 of 73 people (23%) found this review helpful      True   \n",
       "\n",
       "                                                  review  funny_count  \n",
       "17797  Well.. this game is better than doing nothing,...            4  "
      ]
     },
     "execution_count": 8,
     "metadata": {},
     "output_type": "execute_result"
    }
   ],
   "source": [
    "reviews[reviews['helpful'] == '17 of 73 people (23%) found this review helpful']"
   ]
  },
  {
   "cell_type": "code",
   "execution_count": 9,
   "metadata": {},
   "outputs": [],
   "source": [
    "## De las personas que comentaron, calculamos el porcentaje de personas que si ayudó.add()\n",
    "## Para no desbalancear la data, las personas que no tenian información las imputaremos con \n",
    "## 50 % es decir la misma probabilidad que le sirva o no el comentario.\n",
    "\n",
    "reviews['percentage_helpful']  = reviews['helpful'].str.extract(r'\\((\\d+)%\\)').astype(float)/100\n",
    "reviews['percentage_helpful'] = reviews['percentage_helpful'].fillna(0.5)"
   ]
  },
  {
   "cell_type": "markdown",
   "metadata": {},
   "source": [
    "### Imputación columna recommend\n",
    "- Transformaremos los datos de recomendaciones en 0 == no recomendado  y 1 == recomendado\n",
    "- Tambien les daremos el tipo de categorico a la columna"
   ]
  },
  {
   "cell_type": "code",
   "execution_count": 10,
   "metadata": {},
   "outputs": [],
   "source": [
    "reviews['recommend'] = reviews['recommend'].astype('int').astype(('category'))"
   ]
  },
  {
   "cell_type": "markdown",
   "metadata": {},
   "source": [
    "### Imputación columna posted\n",
    "- Vamos a extraer el año que se posteó y el año de la última actualizacionó"
   ]
  },
  {
   "cell_type": "code",
   "execution_count": 11,
   "metadata": {},
   "outputs": [],
   "source": [
    "reviews['posted'].unique()\n",
    "\n",
    "reviews['posted'] = reviews['posted'].str.replace('.', '')\n",
    "\n",
    "reviews['year_posted'] = reviews['posted'].str.extract(r'(\\d{4})')\n",
    "reviews['last_edited'] = reviews['posted'].str.extract(r'(\\d{4})')\n",
    "\n",
    "reviews.rename(columns={'last_edited': 'year_last_edited'},inplace=True)\n"
   ]
  },
  {
   "cell_type": "code",
   "execution_count": 12,
   "metadata": {},
   "outputs": [
    {
     "data": {
      "text/html": [
       "<div>\n",
       "<style scoped>\n",
       "    .dataframe tbody tr th:only-of-type {\n",
       "        vertical-align: middle;\n",
       "    }\n",
       "\n",
       "    .dataframe tbody tr th {\n",
       "        vertical-align: top;\n",
       "    }\n",
       "\n",
       "    .dataframe thead th {\n",
       "        text-align: right;\n",
       "    }\n",
       "</style>\n",
       "<table border=\"1\" class=\"dataframe\">\n",
       "  <thead>\n",
       "    <tr style=\"text-align: right;\">\n",
       "      <th></th>\n",
       "      <th>Nulos</th>\n",
       "    </tr>\n",
       "  </thead>\n",
       "  <tbody>\n",
       "    <tr>\n",
       "      <th>user_id</th>\n",
       "      <td>0</td>\n",
       "    </tr>\n",
       "    <tr>\n",
       "      <th>funny</th>\n",
       "      <td>0</td>\n",
       "    </tr>\n",
       "    <tr>\n",
       "      <th>posted</th>\n",
       "      <td>0</td>\n",
       "    </tr>\n",
       "    <tr>\n",
       "      <th>year_last_edited</th>\n",
       "      <td>10119</td>\n",
       "    </tr>\n",
       "    <tr>\n",
       "      <th>item_id</th>\n",
       "      <td>0</td>\n",
       "    </tr>\n",
       "    <tr>\n",
       "      <th>helpful</th>\n",
       "      <td>0</td>\n",
       "    </tr>\n",
       "    <tr>\n",
       "      <th>recommend</th>\n",
       "      <td>0</td>\n",
       "    </tr>\n",
       "    <tr>\n",
       "      <th>review</th>\n",
       "      <td>0</td>\n",
       "    </tr>\n",
       "    <tr>\n",
       "      <th>funny_count</th>\n",
       "      <td>0</td>\n",
       "    </tr>\n",
       "    <tr>\n",
       "      <th>percentage_helpful</th>\n",
       "      <td>0</td>\n",
       "    </tr>\n",
       "    <tr>\n",
       "      <th>year_posted</th>\n",
       "      <td>10119</td>\n",
       "    </tr>\n",
       "  </tbody>\n",
       "</table>\n",
       "</div>"
      ],
      "text/plain": [
       "                    Nulos\n",
       "user_id                 0\n",
       "funny                   0\n",
       "posted                  0\n",
       "year_last_edited    10119\n",
       "item_id                 0\n",
       "helpful                 0\n",
       "recommend               0\n",
       "review                  0\n",
       "funny_count             0\n",
       "percentage_helpful      0\n",
       "year_posted         10119"
      ]
     },
     "execution_count": 12,
     "metadata": {},
     "output_type": "execute_result"
    }
   ],
   "source": [
    "pd.DataFrame(reviews.isna().sum(),columns=['Nulos'])"
   ]
  },
  {
   "cell_type": "markdown",
   "metadata": {},
   "source": [
    "#### Nota:\n",
    "- Podemos observar que existen 10119 comentarios que no tenian la fecha del año, lamentablemente no tenemos información suficiente para inputar estos registros por lo que vamos proceder a eliminar.\n",
    "\n",
    "- Notemos que vamos a eliminar el 10% de la data. Este problema se podria solución conocimento un poco más el conjunto de datos, pero por ahora por practicidad y eficiencia en la consulta, procedere a eliminarlas."
   ]
  },
  {
   "cell_type": "code",
   "execution_count": 13,
   "metadata": {},
   "outputs": [],
   "source": [
    "reviews.dropna(subset=['posted','year_last_edited'], inplace=True)"
   ]
  },
  {
   "cell_type": "code",
   "execution_count": 14,
   "metadata": {},
   "outputs": [],
   "source": [
    "columnas = ['item_id', 'year_last_edited','year_posted', 'recommend', 'funny_count', 'percentage_helpful', 'review']\n",
    "\n",
    "reviews_clear = reviews[columnas]"
   ]
  },
  {
   "cell_type": "markdown",
   "metadata": {},
   "source": [
    "## Carga de data de user_reviews"
   ]
  },
  {
   "cell_type": "code",
   "execution_count": 15,
   "metadata": {},
   "outputs": [],
   "source": [
    "path_data_csv =  os.path.join('..','data','clear','user_reviews.csv.gz')\n",
    "reviews_clear.to_csv(path_data_csv)"
   ]
  },
  {
   "cell_type": "markdown",
   "metadata": {},
   "source": [
    "# ETL : Steam_games"
   ]
  },
  {
   "cell_type": "markdown",
   "metadata": {},
   "source": [
    "## Extración de Steam_games"
   ]
  },
  {
   "cell_type": "code",
   "execution_count": 16,
   "metadata": {},
   "outputs": [],
   "source": [
    "path_data =  os.path.join('..','data','raw','steam_games.json.gz')\n",
    "\n",
    "steam_games = pd.read_json(path_data, compression='gzip',lines=True)\n",
    " "
   ]
  },
  {
   "cell_type": "markdown",
   "metadata": {},
   "source": [
    "## Transformación de Steam_games"
   ]
  },
  {
   "cell_type": "code",
   "execution_count": 19,
   "metadata": {},
   "outputs": [
    {
     "data": {
      "text/html": [
       "<div>\n",
       "<style scoped>\n",
       "    .dataframe tbody tr th:only-of-type {\n",
       "        vertical-align: middle;\n",
       "    }\n",
       "\n",
       "    .dataframe tbody tr th {\n",
       "        vertical-align: top;\n",
       "    }\n",
       "\n",
       "    .dataframe thead th {\n",
       "        text-align: right;\n",
       "    }\n",
       "</style>\n",
       "<table border=\"1\" class=\"dataframe\">\n",
       "  <thead>\n",
       "    <tr style=\"text-align: right;\">\n",
       "      <th></th>\n",
       "      <th>publisher</th>\n",
       "      <th>genres</th>\n",
       "      <th>app_name</th>\n",
       "      <th>title</th>\n",
       "      <th>url</th>\n",
       "      <th>release_date</th>\n",
       "      <th>tags</th>\n",
       "      <th>reviews_url</th>\n",
       "      <th>specs</th>\n",
       "      <th>price</th>\n",
       "      <th>early_access</th>\n",
       "      <th>id</th>\n",
       "      <th>developer</th>\n",
       "    </tr>\n",
       "  </thead>\n",
       "  <tbody>\n",
       "    <tr>\n",
       "      <th>88384</th>\n",
       "      <td>None</td>\n",
       "      <td>None</td>\n",
       "      <td>None</td>\n",
       "      <td>None</td>\n",
       "      <td>http://store.steampowered.com/</td>\n",
       "      <td>None</td>\n",
       "      <td>None</td>\n",
       "      <td>None</td>\n",
       "      <td>None</td>\n",
       "      <td>19.99</td>\n",
       "      <td>0.0</td>\n",
       "      <td>NaN</td>\n",
       "      <td>None</td>\n",
       "    </tr>\n",
       "    <tr>\n",
       "      <th>102204</th>\n",
       "      <td>Bethesda Softworks</td>\n",
       "      <td>[Action]</td>\n",
       "      <td>Wolfenstein II: The New Colossus</td>\n",
       "      <td>Wolfenstein II: The New Colossus</td>\n",
       "      <td>http://store.steampowered.com/app/612880/</td>\n",
       "      <td>2017-10-26</td>\n",
       "      <td>[Action, FPS, Gore, Violent, Alternate History...</td>\n",
       "      <td>http://steamcommunity.com/app/612880/reviews/?...</td>\n",
       "      <td>[Single-player, Steam Achievements, Full contr...</td>\n",
       "      <td>59.99</td>\n",
       "      <td>0.0</td>\n",
       "      <td>612880.0</td>\n",
       "      <td>Machine Games</td>\n",
       "    </tr>\n",
       "    <tr>\n",
       "      <th>102883</th>\n",
       "      <td>Bethesda Softworks</td>\n",
       "      <td>[Action]</td>\n",
       "      <td>Wolfenstein II: The New Colossus</td>\n",
       "      <td>Wolfenstein II: The New Colossus</td>\n",
       "      <td>http://store.steampowered.com/app/612880/Wolfe...</td>\n",
       "      <td>2017-10-26</td>\n",
       "      <td>[Action, FPS, Gore, Violent, Alternate History...</td>\n",
       "      <td>http://steamcommunity.com/app/612880/reviews/?...</td>\n",
       "      <td>[Single-player, Steam Achievements, Full contr...</td>\n",
       "      <td>59.99</td>\n",
       "      <td>0.0</td>\n",
       "      <td>612880.0</td>\n",
       "      <td>Machine Games</td>\n",
       "    </tr>\n",
       "    <tr>\n",
       "      <th>119271</th>\n",
       "      <td>Warner Bros. Interactive Entertainment, Feral ...</td>\n",
       "      <td>[Action, Adventure]</td>\n",
       "      <td>Batman: Arkham City - Game of the Year Edition</td>\n",
       "      <td>Batman: Arkham City - Game of the Year Edition</td>\n",
       "      <td>http://store.steampowered.com/app/200260</td>\n",
       "      <td>2012-09-07</td>\n",
       "      <td>[Action, Open World, Batman, Adventure, Stealt...</td>\n",
       "      <td>None</td>\n",
       "      <td>[Single-player, Steam Achievements, Steam Trad...</td>\n",
       "      <td>19.99</td>\n",
       "      <td>0.0</td>\n",
       "      <td>NaN</td>\n",
       "      <td>Rocksteady Studios,Feral Interactive (Mac)</td>\n",
       "    </tr>\n",
       "  </tbody>\n",
       "</table>\n",
       "</div>"
      ],
      "text/plain": [
       "                                                publisher  \\\n",
       "88384                                                None   \n",
       "102204                                 Bethesda Softworks   \n",
       "102883                                 Bethesda Softworks   \n",
       "119271  Warner Bros. Interactive Entertainment, Feral ...   \n",
       "\n",
       "                     genres                                        app_name  \\\n",
       "88384                  None                                            None   \n",
       "102204             [Action]                Wolfenstein II: The New Colossus   \n",
       "102883             [Action]                Wolfenstein II: The New Colossus   \n",
       "119271  [Action, Adventure]  Batman: Arkham City - Game of the Year Edition   \n",
       "\n",
       "                                                 title  \\\n",
       "88384                                             None   \n",
       "102204                Wolfenstein II: The New Colossus   \n",
       "102883                Wolfenstein II: The New Colossus   \n",
       "119271  Batman: Arkham City - Game of the Year Edition   \n",
       "\n",
       "                                                      url release_date  \\\n",
       "88384                      http://store.steampowered.com/         None   \n",
       "102204          http://store.steampowered.com/app/612880/   2017-10-26   \n",
       "102883  http://store.steampowered.com/app/612880/Wolfe...   2017-10-26   \n",
       "119271           http://store.steampowered.com/app/200260   2012-09-07   \n",
       "\n",
       "                                                     tags  \\\n",
       "88384                                                None   \n",
       "102204  [Action, FPS, Gore, Violent, Alternate History...   \n",
       "102883  [Action, FPS, Gore, Violent, Alternate History...   \n",
       "119271  [Action, Open World, Batman, Adventure, Stealt...   \n",
       "\n",
       "                                              reviews_url  \\\n",
       "88384                                                None   \n",
       "102204  http://steamcommunity.com/app/612880/reviews/?...   \n",
       "102883  http://steamcommunity.com/app/612880/reviews/?...   \n",
       "119271                                               None   \n",
       "\n",
       "                                                    specs  price  \\\n",
       "88384                                                None  19.99   \n",
       "102204  [Single-player, Steam Achievements, Full contr...  59.99   \n",
       "102883  [Single-player, Steam Achievements, Full contr...  59.99   \n",
       "119271  [Single-player, Steam Achievements, Steam Trad...  19.99   \n",
       "\n",
       "        early_access        id                                   developer  \n",
       "88384            0.0       NaN                                        None  \n",
       "102204           0.0  612880.0                               Machine Games  \n",
       "102883           0.0  612880.0                               Machine Games  \n",
       "119271           0.0       NaN  Rocksteady Studios,Feral Interactive (Mac)  "
      ]
     },
     "execution_count": 19,
     "metadata": {},
     "output_type": "execute_result"
    }
   ],
   "source": [
    "# Eliminacion de filas que todos sus datos son nulos.\n",
    "steam_games.dropna(how='all',inplace=True)\n",
    "\n",
    "# Datos duplicados\n",
    "steam_games[steam_games['id'].duplicated(keep=False)]"
   ]
  },
  {
   "cell_type": "markdown",
   "metadata": {},
   "source": [
    "**Nota** inspeccionando los datos, vamos a eliminar las siguietes filas.\n",
    "- 88384 :\ten esta fila no encontramos niguna información\n",
    "\n",
    "- 102204 y 119271 se encuentran repetida "
   ]
  },
  {
   "cell_type": "code",
   "execution_count": 20,
   "metadata": {},
   "outputs": [],
   "source": [
    "# Eliminación de datos duplicados\n",
    "\n",
    "index_duplicados_drop = [88384,102204,119271]\n",
    "steam_games.drop(index=index_duplicados_drop, axis=1, inplace=True)"
   ]
  },
  {
   "cell_type": "code",
   "execution_count": 21,
   "metadata": {},
   "outputs": [],
   "source": [
    "# Transforma una lista de elementos en un texto separado por coma\n",
    "def swap_to_text(x : str):\n",
    "  \"\"\"Convierte una lista de strings en un solo texto separado por comas y espacios.\"\"\"\n",
    "  if x is not None:\n",
    "      return ', '.join(x)\n",
    "  return x\n",
    "\n",
    "\n",
    "steam_games['genres'] = steam_games['genres'].apply(swap_to_text)\n",
    "steam_games['tags'] = steam_games['tags'].apply(swap_to_text)\n",
    "steam_games['specs'] = steam_games['specs'].apply(swap_to_text)"
   ]
  },
  {
   "cell_type": "markdown",
   "metadata": {},
   "source": [
    "### Tratamiento de datos nulos"
   ]
  },
  {
   "cell_type": "code",
   "execution_count": 22,
   "metadata": {},
   "outputs": [
    {
     "data": {
      "text/html": [
       "<div>\n",
       "<style scoped>\n",
       "    .dataframe tbody tr th:only-of-type {\n",
       "        vertical-align: middle;\n",
       "    }\n",
       "\n",
       "    .dataframe tbody tr th {\n",
       "        vertical-align: top;\n",
       "    }\n",
       "\n",
       "    .dataframe thead th {\n",
       "        text-align: right;\n",
       "    }\n",
       "</style>\n",
       "<table border=\"1\" class=\"dataframe\">\n",
       "  <thead>\n",
       "    <tr style=\"text-align: right;\">\n",
       "      <th></th>\n",
       "      <th>Nulls</th>\n",
       "    </tr>\n",
       "  </thead>\n",
       "  <tbody>\n",
       "    <tr>\n",
       "      <th>publisher</th>\n",
       "      <td>8051</td>\n",
       "    </tr>\n",
       "    <tr>\n",
       "      <th>genres</th>\n",
       "      <td>3282</td>\n",
       "    </tr>\n",
       "    <tr>\n",
       "      <th>app_name</th>\n",
       "      <td>1</td>\n",
       "    </tr>\n",
       "    <tr>\n",
       "      <th>title</th>\n",
       "      <td>2049</td>\n",
       "    </tr>\n",
       "    <tr>\n",
       "      <th>url</th>\n",
       "      <td>0</td>\n",
       "    </tr>\n",
       "    <tr>\n",
       "      <th>release_date</th>\n",
       "      <td>2066</td>\n",
       "    </tr>\n",
       "    <tr>\n",
       "      <th>tags</th>\n",
       "      <td>162</td>\n",
       "    </tr>\n",
       "    <tr>\n",
       "      <th>reviews_url</th>\n",
       "      <td>0</td>\n",
       "    </tr>\n",
       "    <tr>\n",
       "      <th>specs</th>\n",
       "      <td>669</td>\n",
       "    </tr>\n",
       "    <tr>\n",
       "      <th>price</th>\n",
       "      <td>1377</td>\n",
       "    </tr>\n",
       "    <tr>\n",
       "      <th>early_access</th>\n",
       "      <td>0</td>\n",
       "    </tr>\n",
       "    <tr>\n",
       "      <th>id</th>\n",
       "      <td>0</td>\n",
       "    </tr>\n",
       "    <tr>\n",
       "      <th>developer</th>\n",
       "      <td>3298</td>\n",
       "    </tr>\n",
       "  </tbody>\n",
       "</table>\n",
       "</div>"
      ],
      "text/plain": [
       "              Nulls\n",
       "publisher      8051\n",
       "genres         3282\n",
       "app_name          1\n",
       "title          2049\n",
       "url               0\n",
       "release_date   2066\n",
       "tags            162\n",
       "reviews_url       0\n",
       "specs           669\n",
       "price          1377\n",
       "early_access      0\n",
       "id                0\n",
       "developer      3298"
      ]
     },
     "execution_count": 22,
     "metadata": {},
     "output_type": "execute_result"
    }
   ],
   "source": [
    "pd.DataFrame(steam_games.isna().sum(),columns=['Nulls'])"
   ]
  },
  {
   "cell_type": "markdown",
   "metadata": {},
   "source": [
    "#### Analisis puntual de nulos"
   ]
  },
  {
   "cell_type": "code",
   "execution_count": 23,
   "metadata": {},
   "outputs": [],
   "source": [
    "# Eliminaremos las filas con app_name  nulo \n",
    "indices_a_borrar = steam_games[steam_games.app_name.isna()].index\n",
    "steam_games.drop(index=indices_a_borrar, inplace=True)\n",
    "\n",
    "# Rellenamos los titulos vacios con la columna app_name\n",
    "steam_games['title'] = steam_games['app_name'].fillna(steam_games['title'])\n",
    "\n",
    "# Completar los generos vacios con las etiquetas de los Tags\n",
    "steam_games['genres'] = steam_games['tags'].fillna(steam_games['genres'])\n",
    "\n",
    "# Si el dato en publisher se encuentrar nulo, entonces vamos a asumir que fue el desarrollador el publicador\n",
    "steam_games['publisher'].fillna(steam_games['developer'],inplace=True)\n",
    "\n",
    "# Si el dato en desarrollador se encuentrar nulo, entonces vamos a asumir que fue el publicador\n",
    "steam_games['developer'].fillna(steam_games['publisher'],inplace=True)\n",
    "\n",
    "# Si no hay datos del desarrollador y el publicador, entonces precederemos llenar 'otros'\n",
    "steam_games['publisher'].fillna('Otros', inplace=True)\n",
    "steam_games['developer'].fillna('Otros', inplace=True)"
   ]
  },
  {
   "cell_type": "markdown",
   "metadata": {},
   "source": [
    "#### Capitalización de texto"
   ]
  },
  {
   "cell_type": "code",
   "execution_count": 24,
   "metadata": {},
   "outputs": [],
   "source": [
    "# Capitalizacion de texto\n",
    "columns_capitalize = ['developer', 'publisher', 'app_name','title']\n",
    "\n",
    "for column in columns_capitalize:\n",
    "  steam_games[column] = steam_games[column].str.capitalize()\n",
    "  \n",
    "# Eliminacion de espacios en blanco\n",
    "steam_games[columns_capitalize] = steam_games[columns_capitalize].apply(lambda x: x.str.strip())"
   ]
  },
  {
   "cell_type": "markdown",
   "metadata": {},
   "source": [
    "#### Tratamiento de fechas"
   ]
  },
  {
   "cell_type": "code",
   "execution_count": 25,
   "metadata": {},
   "outputs": [],
   "source": [
    "# Cambiamos a formato fecha columna release_date y pusumos nulos los que no tenian un formato adecuado para poder establecer fecha\n",
    "\n",
    "steam_games['release_date'] = pd.to_datetime(steam_games['release_date'], format='%Y-%m-%d', errors='coerce')"
   ]
  },
  {
   "cell_type": "code",
   "execution_count": 26,
   "metadata": {},
   "outputs": [],
   "source": [
    "# Interpolamos fechas nulas usando interpolate. Este método lo he utilzado porque evita que cambie la distrbución de mis datos \n",
    "steam_games['release_date'] = steam_games['release_date'].interpolate()\n",
    "steam_games['release_date'] = pd.to_datetime(steam_games['release_date'], format='%Y-%m-%d', errors='coerce')"
   ]
  },
  {
   "cell_type": "code",
   "execution_count": 27,
   "metadata": {},
   "outputs": [],
   "source": [
    "# Crearemos las nuevas columnas 'release_year' y 'release_month'\n",
    "steam_games['release_year'] = steam_games['release_date'].dt.year\n",
    "steam_games['release_month'] = steam_games['release_date'].dt.month\n",
    "steam_games.drop(columns='release_date',inplace=True)"
   ]
  },
  {
   "cell_type": "markdown",
   "metadata": {},
   "source": [
    "### Analísis de columna Price"
   ]
  },
  {
   "cell_type": "code",
   "execution_count": 30,
   "metadata": {},
   "outputs": [],
   "source": [
    "def filtro_reg_exp(reg_exp, df):\n",
    "  \"Filtra una columan por una expresion regular reg_exp \"\n",
    "  \n",
    "  mask = df.str.contains(reg_exp, case=False, na=False)\n",
    "  return df[mask]"
   ]
  },
  {
   "cell_type": "code",
   "execution_count": 31,
   "metadata": {},
   "outputs": [
    {
     "data": {
      "text/plain": [
       "array(['Free To Play', 'Free to Play', 'Free', 'Free Demo',\n",
       "       'Play for Free!', 'Install Now', 'Play WARMACHINE: Tactics Demo',\n",
       "       'Free Mod', 'Install Theme', 'Third-party', 'Play Now',\n",
       "       'Free HITMAN™ Holiday Pack', 'Play the Demo',\n",
       "       'Starting at $499.00', 'Starting at $449.00', 'Free to Try',\n",
       "       'Free Movie', 'Free to Use'], dtype=object)"
      ]
     },
     "execution_count": 31,
     "metadata": {},
     "output_type": "execute_result"
    }
   ],
   "source": [
    "# Encontremos los valores de precio que son de tipo str\n",
    "filtro_reg_exp(r'\\D+' ,steam_games['price']).unique()"
   ]
  },
  {
   "cell_type": "code",
   "execution_count": 32,
   "metadata": {},
   "outputs": [],
   "source": [
    "## Imputaremoe estos datos a mano, ya que son muy pocos.\n",
    "\n",
    "input_price = {'Free To Play': 0, \n",
    "              'Free to Play': 0, \n",
    "              'Free': 0, \n",
    "              'Free Demo': 0,\n",
    "              'Play for Free!': 0,\n",
    "              'Install Now': 0, \n",
    "              'Play WARMACHINE: Tactics Demo': 0,\n",
    "              'Free Mod': 0, \n",
    "              'Install Theme': 0, \n",
    "              'Third-party': 0,\n",
    "              'Play Now': 0,\n",
    "              'Free HITMAN™ Holiday Pack': 0, \n",
    "              'Play the Demo': 0,\n",
    "              'Starting at $499.00': 499, \n",
    "              'Starting at $449.00': 449, \n",
    "              'Free to Try': 0,\n",
    "              'Free Movie': 0, \n",
    "              'Free to Use': 0}\n",
    "\n",
    "#Imputacion de precios\n",
    "steam_games['price'] = steam_games['price'].replace(input_price)"
   ]
  },
  {
   "cell_type": "code",
   "execution_count": 34,
   "metadata": {},
   "outputs": [],
   "source": [
    "steam_games.dropna(inplace= True)"
   ]
  },
  {
   "cell_type": "markdown",
   "metadata": {},
   "source": [
    "## Carga de data de Steam_games"
   ]
  },
  {
   "cell_type": "code",
   "execution_count": 37,
   "metadata": {},
   "outputs": [],
   "source": [
    "path_data_csv =  os.path.join('..','data','clear','steam_games.csv.gz')\n",
    "\n",
    "steam_games.to_csv(path_data_csv, index=False)"
   ]
  }
 ],
 "metadata": {
  "kernelspec": {
   "display_name": "env",
   "language": "python",
   "name": "python3"
  },
  "language_info": {
   "codemirror_mode": {
    "name": "ipython",
    "version": 3
   },
   "file_extension": ".py",
   "mimetype": "text/x-python",
   "name": "python",
   "nbconvert_exporter": "python",
   "pygments_lexer": "ipython3",
   "version": "3.10.12"
  }
 },
 "nbformat": 4,
 "nbformat_minor": 2
}
